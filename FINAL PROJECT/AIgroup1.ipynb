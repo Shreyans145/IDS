{
  "nbformat": 4,
  "nbformat_minor": 0,
  "metadata": {
    "kernelspec": {
      "display_name": "Python 2",
      "language": "python",
      "name": "python2"
    },
    "language_info": {
      "codemirror_mode": {
        "name": "ipython",
        "version": 2
      },
      "file_extension": ".py",
      "mimetype": "text/x-python",
      "name": "python",
      "nbconvert_exporter": "python",
      "pygments_lexer": "ipython2",
      "version": "2.7.13"
    },
    "colab": {
      "name": "AIgroup1.ipynb",
      "provenance": [],
      "collapsed_sections": [
        "RQz44ar--dci",
        "nKU3mnuk-dci",
        "C7gr217A-dcj",
        "yOICqaDB-dcj",
        "YGyZGFs7-dcj",
        "sB_rj29j-dcj",
        "mSsXkCSa-dcj",
        "KyqjBOk7-dck",
        "PoV-uvqY-dck",
        "Y97YT1B2-dcl",
        "PQmtggXd-dcl",
        "y5gVJxW_-dcl",
        "q2Qo05Di-dcl",
        "uL7rfQWE-dcl",
        "a1mJxhOZ-dcl",
        "ngCBlJcs-dcm",
        "GeWcgt-N-dcm",
        "zeBJ4XAZ-dcn",
        "bmgp5hPo-dcn",
        "5N0jJEFv-dcn",
        "aQyfIzJ2-dcn",
        "kUsf55D2-dcn",
        "G_VEOdoS-dcn",
        "sCeTcFz7-dcn",
        "gzpuWHbU-dco"
      ]
    }
  },
  "cells": [
    {
      "cell_type": "markdown",
      "metadata": {
        "deletable": true,
        "editable": true,
        "id": "f4R6tmbp-dcg"
      },
      "source": [
        "\n",
        "# Capstone Project: \n",
        "## *Machine learning approaches to the classification problem for autism spectrum disorder*\n",
        "\n",
        "### Project designed and executed by D"
      ]
    },
    {
      "cell_type": "markdown",
      "metadata": {
        "deletable": true,
        "editable": true,
        "id": "2_DkqJC7-dcg"
      },
      "source": [
        "We'll be using the \"Autistic Spectrum Disorder Screening Data for Adult\" public dataset from the \n",
        "[`UCI repository`](http://archive.ics.uci.edu/ml/datasets/Autism+Screening+Adult#). The datset was donated by Prof. Fadi Thabtah, after being published in the article \"Autism Spectrum Disorder Screening: Machine Learning\n",
        "Adaptation and DSM-5 Fulfillment\". You can find the article by Fadi Thabtah [`online`](https://dl.acm.org/citation.cfm?id=3107515). The data we investigate here consists of small changes to the original dataset, such as removing the 'age_desc' feature and records with missing or ill-formatted entries. Very few published articles are available online as the dataset has not been out for long and as a result refernce to a benchmark model is very rare.\n",
        "\n",
        "\n",
        "**Abstract:** \n",
        "Autistic Spectrum Disorder (ASD) is a neurodevelopment  condition associated with significant healthcare costs, and early diagnosis can significantly reduce these. Unfortunately, waiting times for an ASD diagnosis are lengthy and procedures are not cost effective. The economic impact of autism and the increase in the number of ASD cases across the world reveals an urgent need for the development of easily implemented and effective screening methods. Therefore, a time-efficient and accessible ASD screening is imminent to help health professionals and inform individuals whether they should pursue formal clinical diagnosis.  \n",
        "\n",
        "The rapid growth in the number of ASD cases worldwide necessitates datasets related to behaviour traits. However, such datasets are rare making it difficult to perform thorough analyses to improve the efficiency, sensitivity, specificity and predictive accuracy of the ASD screening process. Presently, very limited autism datasets associated with clinical or screening are available and most of them are genetic in nature. Hence, we propose a new dataset related to autism screening of adults that contained 20 features to be utilised for further analysis especially in determining influential autistic traits and improving the classification of ASD cases. In this dataset, we record ten behavioural features (AQ-10-Adult) plus ten individuals characteristics that have proved to be effective in detecting the ASD cases from controls in behaviour science. "
      ]
    },
    {
      "cell_type": "markdown",
      "metadata": {
        "deletable": true,
        "editable": true,
        "id": "UyGtJVm5-dcg"
      },
      "source": [
        "## Road Map:\n",
        "\n",
        "* [Step 0](#step0): Import Datasets.\n",
        "\n",
        "* [Step 1](#step1): Clean Datasets (The data needs to be cleaned; many rows contain missing data, and there may be erroneous data identifiable as outliers).\n",
        "\n",
        "* [Step 2](#step2): A quick visualization with *Seaborn*.\n",
        "\n",
        "* [Step 3](#step3): At First, I applied several Supervised Machine Learning (SML) techniques on the data for classification purpose.\n",
        "\n",
        "* [Step 4](#step4): Next, I experimented with different topologies, optimizers, and hyperparameters for different models.\n",
        "\n",
        "* [Step 5](#step5): Model tuning.\n",
        "\n",
        "* [Step 6](#step6): Feature Selection.\n",
        "\n",
        "* [Step 7](#step7): Conclusion."
      ]
    },
    {
      "cell_type": "markdown",
      "metadata": {
        "deletable": true,
        "editable": true,
        "id": "8E2yVrqJ-dcg"
      },
      "source": [
        "## Let's begin with preparing our data set."
      ]
    },
    {
      "cell_type": "markdown",
      "metadata": {
        "deletable": true,
        "editable": true,
        "id": "3ym8qkJC-dcg"
      },
      "source": [
        "---\n",
        "<a id='step0'></a>\n",
        "## Step 0: Import Datasets\n",
        "\n",
        " I start by importing the 'asv.csv' file into a Pandas dataframe and take a look at it."
      ]
    },
    {
      "cell_type": "code",
      "metadata": {
        "id": "SOmbKm4P_hZM"
      },
      "source": [
        "url = 'https://raw.githubusercontent.com/Shreyans145/IDS/main/csv_result-Autism-Adult-Data.csv'"
      ],
      "execution_count": null,
      "outputs": []
    },
    {
      "cell_type": "code",
      "metadata": {
        "deletable": true,
        "editable": true,
        "scrolled": true,
        "colab": {
          "base_uri": "https://localhost:8080/",
          "height": 236
        },
        "id": "jWidCNr8-dcg",
        "outputId": "4a6dfb2b-2db3-4803-d009-28f52501a8d0"
      },
      "source": [
        "# Import libraries necessary for this project\n",
        "import numpy as np\n",
        "import pandas as pd\n",
        "from time import time\n",
        "import matplotlib.pyplot as plt\n",
        "from IPython.display import display # Allows the use of display() for DataFrames\n",
        "\n",
        "# Import supplementary visualization code visuals.py\n",
        "#import visuals as vs\n",
        "\n",
        "# Pretty display for notebooks\n",
        "%matplotlib inline\n",
        "\n",
        "\n",
        "data = pd.read_csv(url)\n",
        "display(data.head(n=5))"
      ],
      "execution_count": null,
      "outputs": [
        {
          "output_type": "display_data",
          "data": {
            "text/plain": [
              "   id  A1_Score  A2_Score  A3_Score  A4_Score  A5_Score  A6_Score  A7_Score  \\\n",
              "0   1         1         1         1         1         0         0         1   \n",
              "1   2         1         1         0         1         0         0         0   \n",
              "2   3         1         1         0         1         1         0         1   \n",
              "3   4         1         1         0         1         0         0         1   \n",
              "4   5         1         0         0         0         0         0         0   \n",
              "\n",
              "   A8_Score  A9_Score  ...  gender       ethnicity jundice austim  \\\n",
              "0         1         0  ...       f  White-European      no     no   \n",
              "1         1         0  ...       m          Latino      no    yes   \n",
              "2         1         1  ...       m          Latino     yes    yes   \n",
              "3         1         0  ...       f  White-European      no    yes   \n",
              "4         1         0  ...       f               ?      no     no   \n",
              "\n",
              "   contry_of_res used_app_before result     age_desc  relation Class/ASD  \n",
              "0  United States              no      6  18 and more      Self        NO  \n",
              "1         Brazil              no      5  18 and more      Self        NO  \n",
              "2          Spain              no      8  18 and more    Parent       YES  \n",
              "3  United States              no      6  18 and more      Self        NO  \n",
              "4          Egypt              no      2  18 and more         ?        NO  \n",
              "\n",
              "[5 rows x 22 columns]"
            ],
            "text/html": [
              "<div>\n",
              "<style scoped>\n",
              "    .dataframe tbody tr th:only-of-type {\n",
              "        vertical-align: middle;\n",
              "    }\n",
              "\n",
              "    .dataframe tbody tr th {\n",
              "        vertical-align: top;\n",
              "    }\n",
              "\n",
              "    .dataframe thead th {\n",
              "        text-align: right;\n",
              "    }\n",
              "</style>\n",
              "<table border=\"1\" class=\"dataframe\">\n",
              "  <thead>\n",
              "    <tr style=\"text-align: right;\">\n",
              "      <th></th>\n",
              "      <th>id</th>\n",
              "      <th>A1_Score</th>\n",
              "      <th>A2_Score</th>\n",
              "      <th>A3_Score</th>\n",
              "      <th>A4_Score</th>\n",
              "      <th>A5_Score</th>\n",
              "      <th>A6_Score</th>\n",
              "      <th>A7_Score</th>\n",
              "      <th>A8_Score</th>\n",
              "      <th>A9_Score</th>\n",
              "      <th>...</th>\n",
              "      <th>gender</th>\n",
              "      <th>ethnicity</th>\n",
              "      <th>jundice</th>\n",
              "      <th>austim</th>\n",
              "      <th>contry_of_res</th>\n",
              "      <th>used_app_before</th>\n",
              "      <th>result</th>\n",
              "      <th>age_desc</th>\n",
              "      <th>relation</th>\n",
              "      <th>Class/ASD</th>\n",
              "    </tr>\n",
              "  </thead>\n",
              "  <tbody>\n",
              "    <tr>\n",
              "      <th>0</th>\n",
              "      <td>1</td>\n",
              "      <td>1</td>\n",
              "      <td>1</td>\n",
              "      <td>1</td>\n",
              "      <td>1</td>\n",
              "      <td>0</td>\n",
              "      <td>0</td>\n",
              "      <td>1</td>\n",
              "      <td>1</td>\n",
              "      <td>0</td>\n",
              "      <td>...</td>\n",
              "      <td>f</td>\n",
              "      <td>White-European</td>\n",
              "      <td>no</td>\n",
              "      <td>no</td>\n",
              "      <td>United States</td>\n",
              "      <td>no</td>\n",
              "      <td>6</td>\n",
              "      <td>18 and more</td>\n",
              "      <td>Self</td>\n",
              "      <td>NO</td>\n",
              "    </tr>\n",
              "    <tr>\n",
              "      <th>1</th>\n",
              "      <td>2</td>\n",
              "      <td>1</td>\n",
              "      <td>1</td>\n",
              "      <td>0</td>\n",
              "      <td>1</td>\n",
              "      <td>0</td>\n",
              "      <td>0</td>\n",
              "      <td>0</td>\n",
              "      <td>1</td>\n",
              "      <td>0</td>\n",
              "      <td>...</td>\n",
              "      <td>m</td>\n",
              "      <td>Latino</td>\n",
              "      <td>no</td>\n",
              "      <td>yes</td>\n",
              "      <td>Brazil</td>\n",
              "      <td>no</td>\n",
              "      <td>5</td>\n",
              "      <td>18 and more</td>\n",
              "      <td>Self</td>\n",
              "      <td>NO</td>\n",
              "    </tr>\n",
              "    <tr>\n",
              "      <th>2</th>\n",
              "      <td>3</td>\n",
              "      <td>1</td>\n",
              "      <td>1</td>\n",
              "      <td>0</td>\n",
              "      <td>1</td>\n",
              "      <td>1</td>\n",
              "      <td>0</td>\n",
              "      <td>1</td>\n",
              "      <td>1</td>\n",
              "      <td>1</td>\n",
              "      <td>...</td>\n",
              "      <td>m</td>\n",
              "      <td>Latino</td>\n",
              "      <td>yes</td>\n",
              "      <td>yes</td>\n",
              "      <td>Spain</td>\n",
              "      <td>no</td>\n",
              "      <td>8</td>\n",
              "      <td>18 and more</td>\n",
              "      <td>Parent</td>\n",
              "      <td>YES</td>\n",
              "    </tr>\n",
              "    <tr>\n",
              "      <th>3</th>\n",
              "      <td>4</td>\n",
              "      <td>1</td>\n",
              "      <td>1</td>\n",
              "      <td>0</td>\n",
              "      <td>1</td>\n",
              "      <td>0</td>\n",
              "      <td>0</td>\n",
              "      <td>1</td>\n",
              "      <td>1</td>\n",
              "      <td>0</td>\n",
              "      <td>...</td>\n",
              "      <td>f</td>\n",
              "      <td>White-European</td>\n",
              "      <td>no</td>\n",
              "      <td>yes</td>\n",
              "      <td>United States</td>\n",
              "      <td>no</td>\n",
              "      <td>6</td>\n",
              "      <td>18 and more</td>\n",
              "      <td>Self</td>\n",
              "      <td>NO</td>\n",
              "    </tr>\n",
              "    <tr>\n",
              "      <th>4</th>\n",
              "      <td>5</td>\n",
              "      <td>1</td>\n",
              "      <td>0</td>\n",
              "      <td>0</td>\n",
              "      <td>0</td>\n",
              "      <td>0</td>\n",
              "      <td>0</td>\n",
              "      <td>0</td>\n",
              "      <td>1</td>\n",
              "      <td>0</td>\n",
              "      <td>...</td>\n",
              "      <td>f</td>\n",
              "      <td>?</td>\n",
              "      <td>no</td>\n",
              "      <td>no</td>\n",
              "      <td>Egypt</td>\n",
              "      <td>no</td>\n",
              "      <td>2</td>\n",
              "      <td>18 and more</td>\n",
              "      <td>?</td>\n",
              "      <td>NO</td>\n",
              "    </tr>\n",
              "  </tbody>\n",
              "</table>\n",
              "<p>5 rows × 22 columns</p>\n",
              "</div>"
            ]
          },
          "metadata": {
            "tags": []
          }
        }
      ]
    },
    {
      "cell_type": "code",
      "metadata": {
        "deletable": true,
        "editable": true,
        "colab": {
          "base_uri": "https://localhost:8080/"
        },
        "id": "Y9AdIWTC-dcg",
        "outputId": "eaf593c5-9088-45e9-c505-e30e598e80a4"
      },
      "source": [
        "# Total number of records\n",
        "n_records = len(data.index)\n",
        "\n",
        "# TODO: Number of records where individual's with ASD\n",
        "n_asd_yes = len(data[data['Class/ASD'] == 'YES'])\n",
        "\n",
        "# TODO: Number of records where individual's with no ASD\n",
        "n_asd_no = len(data[data['Class/ASD'] == 'NO'])\n",
        "\n",
        "# TODO: Percentage of individuals whose are with ASD\n",
        "yes_percent = float(n_asd_yes) / n_records *100\n",
        "\n",
        "# Print the results\n",
        "print \"Total number of records: {}\".format(n_records)\n",
        "print \"Individuals diagonised with ASD: {}\".format(n_asd_yes)\n",
        "print \"Individuals not diagonised with ASD: {}\".format(n_asd_no)\n",
        "print \"Percentage of individuals diagonised with ASD: {:.2f}%\".format(yes_percent)"
      ],
      "execution_count": null,
      "outputs": [
        {
          "output_type": "stream",
          "text": [
            "Total number of records: 704\n",
            "Individuals diagonised with ASD: 189\n",
            "Individuals not diagonised with ASD: 515\n",
            "Percentage of individuals diagonised with ASD: 26.85%\n"
          ],
          "name": "stdout"
        }
      ]
    },
    {
      "cell_type": "markdown",
      "metadata": {
        "deletable": true,
        "editable": true,
        "id": "50VGuTFu-dch"
      },
      "source": [
        "**Featureset Exploration**\n",
        "\n",
        "This data contains 704 instances, and contains the following attributes:\n",
        "* **age**: *number* (Age in years). \n",
        "* **gendar**: *String* [Male/Female]. \n",
        "* **ethnicity**: *String* (List of common ethnicities in text format). \n",
        "* **Born with jaundice**: *Boolean* [yes or no]. \n",
        "* **Family member with PDD**: *Boolean* [yes or no]. \n",
        "* **Who is completing the test**: *String* [Parent, self, caregiver, medical staff, clinician ,etc.].\n",
        "* **Country of residence **: *String* (List of countries in text format).\n",
        "* **Used the screening app before **: *Boolean* [yes or no] (Whether the user has used a screening app) \n",
        "* **Screening Method Type**: *Integer* [0,1,2,3] (The type of screening methods chosen based on age category (0=toddler, 1=child, 2= adolescent, 3= adult).\n",
        "* **Question 1-10 Answer**: *Binary* [0, 1] (The answer code of the question based on the screening method used).\n",
        "* **Screening Score**: *Integer* (The final score obtained based on the scoring algorithm of the screening method used. This was computed in an automated manner)."
      ]
    },
    {
      "cell_type": "markdown",
      "metadata": {
        "deletable": true,
        "editable": true,
        "id": "CXWInx8Y-dch"
      },
      "source": [
        "----\n",
        "## Preparing the Data\n",
        "Before data can be used as input for machine learning algorithms, it must be cleaned, formatted, and maybe even restructured — this is typically known as **preprocessing**. Unfortunately, for this dataset, there are many invalid or missing entries(?) we must deal with, moreover, there are some qualities about certain features that must be adjusted. This preprocessing can help tremendously with the outcome and predictive power of nearly all learning algorithms."
      ]
    },
    {
      "cell_type": "markdown",
      "metadata": {
        "deletable": true,
        "editable": true,
        "id": "pW6STpv3-dch"
      },
      "source": [
        "I use the optional parmaters in read_csv to convert missing data (indicated by a ?) into NaN, and to add the appropriate column names ():"
      ]
    },
    {
      "cell_type": "code",
      "metadata": {
        "deletable": true,
        "editable": true,
        "scrolled": true,
        "colab": {
          "base_uri": "https://localhost:8080/",
          "height": 236
        },
        "id": "DD3hry-t-dch",
        "outputId": "adb06f15-fc22-4aa7-ef60-3c486420a547"
      },
      "source": [
        "asd_data = pd.read_csv(url, na_values=['?'])\n",
        "asd_data.head(n=5)"
      ],
      "execution_count": null,
      "outputs": [
        {
          "output_type": "execute_result",
          "data": {
            "text/plain": [
              "   id  A1_Score  A2_Score  A3_Score  A4_Score  A5_Score  A6_Score  A7_Score  \\\n",
              "0   1         1         1         1         1         0         0         1   \n",
              "1   2         1         1         0         1         0         0         0   \n",
              "2   3         1         1         0         1         1         0         1   \n",
              "3   4         1         1         0         1         0         0         1   \n",
              "4   5         1         0         0         0         0         0         0   \n",
              "\n",
              "   A8_Score  A9_Score  ...  gender       ethnicity jundice austim  \\\n",
              "0         1         0  ...       f  White-European      no     no   \n",
              "1         1         0  ...       m          Latino      no    yes   \n",
              "2         1         1  ...       m          Latino     yes    yes   \n",
              "3         1         0  ...       f  White-European      no    yes   \n",
              "4         1         0  ...       f             NaN      no     no   \n",
              "\n",
              "   contry_of_res used_app_before result     age_desc  relation Class/ASD  \n",
              "0  United States              no      6  18 and more      Self        NO  \n",
              "1         Brazil              no      5  18 and more      Self        NO  \n",
              "2          Spain              no      8  18 and more    Parent       YES  \n",
              "3  United States              no      6  18 and more      Self        NO  \n",
              "4          Egypt              no      2  18 and more       NaN        NO  \n",
              "\n",
              "[5 rows x 22 columns]"
            ],
            "text/html": [
              "<div>\n",
              "<style scoped>\n",
              "    .dataframe tbody tr th:only-of-type {\n",
              "        vertical-align: middle;\n",
              "    }\n",
              "\n",
              "    .dataframe tbody tr th {\n",
              "        vertical-align: top;\n",
              "    }\n",
              "\n",
              "    .dataframe thead th {\n",
              "        text-align: right;\n",
              "    }\n",
              "</style>\n",
              "<table border=\"1\" class=\"dataframe\">\n",
              "  <thead>\n",
              "    <tr style=\"text-align: right;\">\n",
              "      <th></th>\n",
              "      <th>id</th>\n",
              "      <th>A1_Score</th>\n",
              "      <th>A2_Score</th>\n",
              "      <th>A3_Score</th>\n",
              "      <th>A4_Score</th>\n",
              "      <th>A5_Score</th>\n",
              "      <th>A6_Score</th>\n",
              "      <th>A7_Score</th>\n",
              "      <th>A8_Score</th>\n",
              "      <th>A9_Score</th>\n",
              "      <th>...</th>\n",
              "      <th>gender</th>\n",
              "      <th>ethnicity</th>\n",
              "      <th>jundice</th>\n",
              "      <th>austim</th>\n",
              "      <th>contry_of_res</th>\n",
              "      <th>used_app_before</th>\n",
              "      <th>result</th>\n",
              "      <th>age_desc</th>\n",
              "      <th>relation</th>\n",
              "      <th>Class/ASD</th>\n",
              "    </tr>\n",
              "  </thead>\n",
              "  <tbody>\n",
              "    <tr>\n",
              "      <th>0</th>\n",
              "      <td>1</td>\n",
              "      <td>1</td>\n",
              "      <td>1</td>\n",
              "      <td>1</td>\n",
              "      <td>1</td>\n",
              "      <td>0</td>\n",
              "      <td>0</td>\n",
              "      <td>1</td>\n",
              "      <td>1</td>\n",
              "      <td>0</td>\n",
              "      <td>...</td>\n",
              "      <td>f</td>\n",
              "      <td>White-European</td>\n",
              "      <td>no</td>\n",
              "      <td>no</td>\n",
              "      <td>United States</td>\n",
              "      <td>no</td>\n",
              "      <td>6</td>\n",
              "      <td>18 and more</td>\n",
              "      <td>Self</td>\n",
              "      <td>NO</td>\n",
              "    </tr>\n",
              "    <tr>\n",
              "      <th>1</th>\n",
              "      <td>2</td>\n",
              "      <td>1</td>\n",
              "      <td>1</td>\n",
              "      <td>0</td>\n",
              "      <td>1</td>\n",
              "      <td>0</td>\n",
              "      <td>0</td>\n",
              "      <td>0</td>\n",
              "      <td>1</td>\n",
              "      <td>0</td>\n",
              "      <td>...</td>\n",
              "      <td>m</td>\n",
              "      <td>Latino</td>\n",
              "      <td>no</td>\n",
              "      <td>yes</td>\n",
              "      <td>Brazil</td>\n",
              "      <td>no</td>\n",
              "      <td>5</td>\n",
              "      <td>18 and more</td>\n",
              "      <td>Self</td>\n",
              "      <td>NO</td>\n",
              "    </tr>\n",
              "    <tr>\n",
              "      <th>2</th>\n",
              "      <td>3</td>\n",
              "      <td>1</td>\n",
              "      <td>1</td>\n",
              "      <td>0</td>\n",
              "      <td>1</td>\n",
              "      <td>1</td>\n",
              "      <td>0</td>\n",
              "      <td>1</td>\n",
              "      <td>1</td>\n",
              "      <td>1</td>\n",
              "      <td>...</td>\n",
              "      <td>m</td>\n",
              "      <td>Latino</td>\n",
              "      <td>yes</td>\n",
              "      <td>yes</td>\n",
              "      <td>Spain</td>\n",
              "      <td>no</td>\n",
              "      <td>8</td>\n",
              "      <td>18 and more</td>\n",
              "      <td>Parent</td>\n",
              "      <td>YES</td>\n",
              "    </tr>\n",
              "    <tr>\n",
              "      <th>3</th>\n",
              "      <td>4</td>\n",
              "      <td>1</td>\n",
              "      <td>1</td>\n",
              "      <td>0</td>\n",
              "      <td>1</td>\n",
              "      <td>0</td>\n",
              "      <td>0</td>\n",
              "      <td>1</td>\n",
              "      <td>1</td>\n",
              "      <td>0</td>\n",
              "      <td>...</td>\n",
              "      <td>f</td>\n",
              "      <td>White-European</td>\n",
              "      <td>no</td>\n",
              "      <td>yes</td>\n",
              "      <td>United States</td>\n",
              "      <td>no</td>\n",
              "      <td>6</td>\n",
              "      <td>18 and more</td>\n",
              "      <td>Self</td>\n",
              "      <td>NO</td>\n",
              "    </tr>\n",
              "    <tr>\n",
              "      <th>4</th>\n",
              "      <td>5</td>\n",
              "      <td>1</td>\n",
              "      <td>0</td>\n",
              "      <td>0</td>\n",
              "      <td>0</td>\n",
              "      <td>0</td>\n",
              "      <td>0</td>\n",
              "      <td>0</td>\n",
              "      <td>1</td>\n",
              "      <td>0</td>\n",
              "      <td>...</td>\n",
              "      <td>f</td>\n",
              "      <td>NaN</td>\n",
              "      <td>no</td>\n",
              "      <td>no</td>\n",
              "      <td>Egypt</td>\n",
              "      <td>no</td>\n",
              "      <td>2</td>\n",
              "      <td>18 and more</td>\n",
              "      <td>NaN</td>\n",
              "      <td>NO</td>\n",
              "    </tr>\n",
              "  </tbody>\n",
              "</table>\n",
              "<p>5 rows × 22 columns</p>\n",
              "</div>"
            ]
          },
          "metadata": {
            "tags": []
          },
          "execution_count": 133
        }
      ]
    },
    {
      "cell_type": "markdown",
      "metadata": {
        "deletable": true,
        "editable": true,
        "id": "uYtutrIa-dch"
      },
      "source": [
        "Here I evaluate whether the data needs cleaning; your model is only as good as the data it's given."
      ]
    },
    {
      "cell_type": "code",
      "metadata": {
        "deletable": true,
        "editable": true,
        "colab": {
          "base_uri": "https://localhost:8080/",
          "height": 300
        },
        "id": "09za79tL-dch",
        "outputId": "99b0015c-93e6-48ea-8e15-d58281fd30ed"
      },
      "source": [
        "asd_data.describe()"
      ],
      "execution_count": null,
      "outputs": [
        {
          "output_type": "execute_result",
          "data": {
            "text/plain": [
              "               id    A1_Score    A2_Score    A3_Score    A4_Score    A5_Score  \\\n",
              "count  704.000000  704.000000  704.000000  704.000000  704.000000  704.000000   \n",
              "mean   352.500000    0.721591    0.453125    0.457386    0.495739    0.498580   \n",
              "std    203.371581    0.448535    0.498152    0.498535    0.500337    0.500353   \n",
              "min      1.000000    0.000000    0.000000    0.000000    0.000000    0.000000   \n",
              "25%    176.750000    0.000000    0.000000    0.000000    0.000000    0.000000   \n",
              "50%    352.500000    1.000000    0.000000    0.000000    0.000000    0.000000   \n",
              "75%    528.250000    1.000000    1.000000    1.000000    1.000000    1.000000   \n",
              "max    704.000000    1.000000    1.000000    1.000000    1.000000    1.000000   \n",
              "\n",
              "         A6_Score    A7_Score    A8_Score    A9_Score   A10_Score         age  \\\n",
              "count  704.000000  704.000000  704.000000  704.000000  704.000000  702.000000   \n",
              "mean     0.284091    0.417614    0.649148    0.323864    0.573864   29.698006   \n",
              "std      0.451301    0.493516    0.477576    0.468281    0.494866   16.507465   \n",
              "min      0.000000    0.000000    0.000000    0.000000    0.000000   17.000000   \n",
              "25%      0.000000    0.000000    0.000000    0.000000    0.000000   21.000000   \n",
              "50%      0.000000    0.000000    1.000000    0.000000    1.000000   27.000000   \n",
              "75%      1.000000    1.000000    1.000000    1.000000    1.000000   35.000000   \n",
              "max      1.000000    1.000000    1.000000    1.000000    1.000000  383.000000   \n",
              "\n",
              "           result  \n",
              "count  704.000000  \n",
              "mean     4.875000  \n",
              "std      2.501493  \n",
              "min      0.000000  \n",
              "25%      3.000000  \n",
              "50%      4.000000  \n",
              "75%      7.000000  \n",
              "max     10.000000  "
            ],
            "text/html": [
              "<div>\n",
              "<style scoped>\n",
              "    .dataframe tbody tr th:only-of-type {\n",
              "        vertical-align: middle;\n",
              "    }\n",
              "\n",
              "    .dataframe tbody tr th {\n",
              "        vertical-align: top;\n",
              "    }\n",
              "\n",
              "    .dataframe thead th {\n",
              "        text-align: right;\n",
              "    }\n",
              "</style>\n",
              "<table border=\"1\" class=\"dataframe\">\n",
              "  <thead>\n",
              "    <tr style=\"text-align: right;\">\n",
              "      <th></th>\n",
              "      <th>id</th>\n",
              "      <th>A1_Score</th>\n",
              "      <th>A2_Score</th>\n",
              "      <th>A3_Score</th>\n",
              "      <th>A4_Score</th>\n",
              "      <th>A5_Score</th>\n",
              "      <th>A6_Score</th>\n",
              "      <th>A7_Score</th>\n",
              "      <th>A8_Score</th>\n",
              "      <th>A9_Score</th>\n",
              "      <th>A10_Score</th>\n",
              "      <th>age</th>\n",
              "      <th>result</th>\n",
              "    </tr>\n",
              "  </thead>\n",
              "  <tbody>\n",
              "    <tr>\n",
              "      <th>count</th>\n",
              "      <td>704.000000</td>\n",
              "      <td>704.000000</td>\n",
              "      <td>704.000000</td>\n",
              "      <td>704.000000</td>\n",
              "      <td>704.000000</td>\n",
              "      <td>704.000000</td>\n",
              "      <td>704.000000</td>\n",
              "      <td>704.000000</td>\n",
              "      <td>704.000000</td>\n",
              "      <td>704.000000</td>\n",
              "      <td>704.000000</td>\n",
              "      <td>702.000000</td>\n",
              "      <td>704.000000</td>\n",
              "    </tr>\n",
              "    <tr>\n",
              "      <th>mean</th>\n",
              "      <td>352.500000</td>\n",
              "      <td>0.721591</td>\n",
              "      <td>0.453125</td>\n",
              "      <td>0.457386</td>\n",
              "      <td>0.495739</td>\n",
              "      <td>0.498580</td>\n",
              "      <td>0.284091</td>\n",
              "      <td>0.417614</td>\n",
              "      <td>0.649148</td>\n",
              "      <td>0.323864</td>\n",
              "      <td>0.573864</td>\n",
              "      <td>29.698006</td>\n",
              "      <td>4.875000</td>\n",
              "    </tr>\n",
              "    <tr>\n",
              "      <th>std</th>\n",
              "      <td>203.371581</td>\n",
              "      <td>0.448535</td>\n",
              "      <td>0.498152</td>\n",
              "      <td>0.498535</td>\n",
              "      <td>0.500337</td>\n",
              "      <td>0.500353</td>\n",
              "      <td>0.451301</td>\n",
              "      <td>0.493516</td>\n",
              "      <td>0.477576</td>\n",
              "      <td>0.468281</td>\n",
              "      <td>0.494866</td>\n",
              "      <td>16.507465</td>\n",
              "      <td>2.501493</td>\n",
              "    </tr>\n",
              "    <tr>\n",
              "      <th>min</th>\n",
              "      <td>1.000000</td>\n",
              "      <td>0.000000</td>\n",
              "      <td>0.000000</td>\n",
              "      <td>0.000000</td>\n",
              "      <td>0.000000</td>\n",
              "      <td>0.000000</td>\n",
              "      <td>0.000000</td>\n",
              "      <td>0.000000</td>\n",
              "      <td>0.000000</td>\n",
              "      <td>0.000000</td>\n",
              "      <td>0.000000</td>\n",
              "      <td>17.000000</td>\n",
              "      <td>0.000000</td>\n",
              "    </tr>\n",
              "    <tr>\n",
              "      <th>25%</th>\n",
              "      <td>176.750000</td>\n",
              "      <td>0.000000</td>\n",
              "      <td>0.000000</td>\n",
              "      <td>0.000000</td>\n",
              "      <td>0.000000</td>\n",
              "      <td>0.000000</td>\n",
              "      <td>0.000000</td>\n",
              "      <td>0.000000</td>\n",
              "      <td>0.000000</td>\n",
              "      <td>0.000000</td>\n",
              "      <td>0.000000</td>\n",
              "      <td>21.000000</td>\n",
              "      <td>3.000000</td>\n",
              "    </tr>\n",
              "    <tr>\n",
              "      <th>50%</th>\n",
              "      <td>352.500000</td>\n",
              "      <td>1.000000</td>\n",
              "      <td>0.000000</td>\n",
              "      <td>0.000000</td>\n",
              "      <td>0.000000</td>\n",
              "      <td>0.000000</td>\n",
              "      <td>0.000000</td>\n",
              "      <td>0.000000</td>\n",
              "      <td>1.000000</td>\n",
              "      <td>0.000000</td>\n",
              "      <td>1.000000</td>\n",
              "      <td>27.000000</td>\n",
              "      <td>4.000000</td>\n",
              "    </tr>\n",
              "    <tr>\n",
              "      <th>75%</th>\n",
              "      <td>528.250000</td>\n",
              "      <td>1.000000</td>\n",
              "      <td>1.000000</td>\n",
              "      <td>1.000000</td>\n",
              "      <td>1.000000</td>\n",
              "      <td>1.000000</td>\n",
              "      <td>1.000000</td>\n",
              "      <td>1.000000</td>\n",
              "      <td>1.000000</td>\n",
              "      <td>1.000000</td>\n",
              "      <td>1.000000</td>\n",
              "      <td>35.000000</td>\n",
              "      <td>7.000000</td>\n",
              "    </tr>\n",
              "    <tr>\n",
              "      <th>max</th>\n",
              "      <td>704.000000</td>\n",
              "      <td>1.000000</td>\n",
              "      <td>1.000000</td>\n",
              "      <td>1.000000</td>\n",
              "      <td>1.000000</td>\n",
              "      <td>1.000000</td>\n",
              "      <td>1.000000</td>\n",
              "      <td>1.000000</td>\n",
              "      <td>1.000000</td>\n",
              "      <td>1.000000</td>\n",
              "      <td>1.000000</td>\n",
              "      <td>383.000000</td>\n",
              "      <td>10.000000</td>\n",
              "    </tr>\n",
              "  </tbody>\n",
              "</table>\n",
              "</div>"
            ]
          },
          "metadata": {
            "tags": []
          },
          "execution_count": 134
        }
      ]
    },
    {
      "cell_type": "markdown",
      "metadata": {
        "deletable": true,
        "editable": true,
        "id": "kyBojjVc-dch"
      },
      "source": [
        "There are quite a few missing values in the data set. Before I just drop every row that's missing data, I make sure not to bias the data in any way. In other words we need to make sure that there does not appear to be any sort of correlation to what sort of data has missing fields. If there were, I'd have to try and go back and fill that data in."
      ]
    },
    {
      "cell_type": "markdown",
      "metadata": {
        "deletable": true,
        "editable": true,
        "id": "fjD2GBLv-dch"
      },
      "source": [
        "italicized text---\n",
        "<a id='step1'></a>\n",
        "## Step 1: Clean Datasets\n",
        "\n",
        "## REMOVE"
      ]
    },
    {
      "cell_type": "code",
      "metadata": {
        "deletable": true,
        "editable": true,
        "colab": {
          "base_uri": "https://localhost:8080/",
          "height": 1000
        },
        "id": "BGRRz4VU-dch",
        "outputId": "87593976-9534-4459-9d87-29a482427554"
      },
      "source": [
        "asd_data.loc[(asd_data['age'].isnull()) |(asd_data['gender'].isnull()) |(asd_data['ethnicity'].isnull()) \n",
        "|(asd_data['jundice'].isnull())|(asd_data['austim'].isnull()) |(asd_data['contry_of_res'].isnull())\n",
        "            |(asd_data['used_app_before'].isnull())|(asd_data['result'].isnull())|(asd_data['age_desc'].isnull())\n",
        "            |(asd_data['relation'].isnull())]"
      ],
      "execution_count": null,
      "outputs": [
        {
          "output_type": "execute_result",
          "data": {
            "text/plain": [
              "      id  A1_Score  A2_Score  A3_Score  A4_Score  A5_Score  A6_Score  \\\n",
              "4      5         1         0         0         0         0         0   \n",
              "12    13         0         1         1         1         1         1   \n",
              "13    14         1         0         0         0         0         0   \n",
              "14    15         1         0         0         0         0         0   \n",
              "19    20         0         0         0         0         0         0   \n",
              "20    21         0         1         1         1         0         0   \n",
              "24    25         1         1         1         1         0         0   \n",
              "25    26         0         1         1         0         0         0   \n",
              "62    63         0         0         0         0         0         0   \n",
              "79    80         1         1         0         0         0         0   \n",
              "80    81         0         0         1         1         0         0   \n",
              "81    82         1         0         0         0         0         0   \n",
              "91    92         0         1         0         0         1         0   \n",
              "216  217         1         0         0         0         0         0   \n",
              "221  222         0         0         1         0         0         0   \n",
              "238  239         0         1         0         0         0         0   \n",
              "257  258         0         1         1         0         1         0   \n",
              "270  271         1         0         1         1         1         1   \n",
              "276  277         1         0         0         0         1         0   \n",
              "277  278         1         1         0         0         0         0   \n",
              "285  286         0         0         0         1         1         1   \n",
              "306  307         1         0         0         1         1         0   \n",
              "315  316         1         1         0         0         0         0   \n",
              "324  325         1         0         0         0         0         0   \n",
              "337  338         1         1         0         0         0         0   \n",
              "338  339         1         0         1         0         0         0   \n",
              "339  340         1         0         0         0         0         0   \n",
              "340  341         1         0         1         1         0         0   \n",
              "341  342         1         1         1         1         1         0   \n",
              "342  343         1         0         1         1         0         0   \n",
              "..   ...       ...       ...       ...       ...       ...       ...   \n",
              "423  424         0         1         0         1         0         0   \n",
              "427  428         1         0         0         1         0         0   \n",
              "428  429         0         0         0         0         1         0   \n",
              "429  430         1         0         1         0         1         0   \n",
              "432  433         1         0         0         1         1         0   \n",
              "438  439         1         1         0         0         0         0   \n",
              "453  454         0         0         1         1         1         0   \n",
              "485  486         0         1         0         0         0         0   \n",
              "505  506         1         0         1         0         1         0   \n",
              "518  519         0         1         0         0         0         0   \n",
              "527  528         0         0         0         0         1         0   \n",
              "534  535         0         0         0         1         1         0   \n",
              "535  536         0         1         0         0         1         0   \n",
              "536  537         0         1         0         0         1         0   \n",
              "537  538         0         1         0         0         1         1   \n",
              "556  557         1         1         0         0         0         0   \n",
              "564  565         0         1         0         0         1         1   \n",
              "571  572         1         0         0         0         0         0   \n",
              "572  573         1         0         0         1         0         0   \n",
              "588  589         1         0         1         1         1         1   \n",
              "593  594         1         0         0         0         0         0   \n",
              "636  637         0         0         0         0         0         0   \n",
              "642  643         0         0         0         0         1         0   \n",
              "645  646         1         0         1         1         0         0   \n",
              "651  652         1         0         0         0         0         0   \n",
              "652  653         0         0         0         0         0         0   \n",
              "658  659         0         0         1         1         0         0   \n",
              "659  660         1         1         1         1         1         1   \n",
              "666  667         0         0         0         0         0         0   \n",
              "701  702         1         0         1         1         1         0   \n",
              "\n",
              "     A7_Score  A8_Score  A9_Score  ...  gender  ethnicity jundice austim  \\\n",
              "4           0         1         0  ...       f        NaN      no     no   \n",
              "12          0         0         1  ...       f        NaN      no     no   \n",
              "13          1         1         0  ...       m        NaN      no     no   \n",
              "14          1         1         0  ...       f        NaN      no     no   \n",
              "19          1         1         0  ...       m        NaN     yes     no   \n",
              "20          0         0         0  ...       m        NaN      no     no   \n",
              "24          0         1         0  ...       m        NaN      no     no   \n",
              "25          0         1         0  ...       f        NaN     yes     no   \n",
              "62          0         0         0  ...       m        NaN      no     no   \n",
              "79          0         0         0  ...       f        NaN     yes     no   \n",
              "80          1         1         0  ...       m        NaN     yes    yes   \n",
              "81          1         0         0  ...       m        NaN      no     no   \n",
              "91          1         0         0  ...       f        NaN      no     no   \n",
              "216         1         1         0  ...       f        NaN     yes     no   \n",
              "221         0         0         0  ...       f        NaN      no     no   \n",
              "238         0         1         1  ...       m        NaN      no     no   \n",
              "257         0         1         0  ...       m        NaN      no     no   \n",
              "270         0         0         1  ...       f        NaN      no    yes   \n",
              "276         0         0         1  ...       m        NaN      no     no   \n",
              "277         0         0         0  ...       f        NaN      no    yes   \n",
              "285         1         0         1  ...       f        NaN      no     no   \n",
              "306         1         1         1  ...       f        NaN      no     no   \n",
              "315         0         1         0  ...       m        NaN      no     no   \n",
              "324         0         0         0  ...       f        NaN      no     no   \n",
              "337         0         0         0  ...       m        NaN      no     no   \n",
              "338         1         1         0  ...       f        NaN      no     no   \n",
              "339         1         0         0  ...       f        NaN      no     no   \n",
              "340         1         1         1  ...       f        NaN      no     no   \n",
              "341         0         1         0  ...       m        NaN      no     no   \n",
              "342         0         0         0  ...       f        NaN      no     no   \n",
              "..        ...       ...       ...  ...     ...        ...     ...    ...   \n",
              "423         0         0         0  ...       f        NaN      no     no   \n",
              "427         1         1         0  ...       m        NaN      no     no   \n",
              "428         1         0         0  ...       f        NaN      no     no   \n",
              "429         1         1         1  ...       m        NaN      no     no   \n",
              "432         0         0         0  ...       m        NaN      no     no   \n",
              "438         0         1         0  ...       f        NaN      no     no   \n",
              "453         0         0         0  ...       f        NaN     yes     no   \n",
              "485         0         1         1  ...       m        NaN      no     no   \n",
              "505         1         1         0  ...       m        NaN     yes    yes   \n",
              "518         0         0         1  ...       f        NaN      no     no   \n",
              "527         0         1         0  ...       f        NaN      no     no   \n",
              "534         1         0         0  ...       f        NaN      no     no   \n",
              "535         0         0         0  ...       m        NaN      no     no   \n",
              "536         0         0         0  ...       f        NaN      no     no   \n",
              "537         0         0         1  ...       m        NaN      no     no   \n",
              "556         0         1         0  ...       m        NaN      no     no   \n",
              "564         0         0         1  ...       m        NaN      no     no   \n",
              "571         0         1         0  ...       m        NaN      no     no   \n",
              "572         0         1         0  ...       m        NaN      no     no   \n",
              "588         1         1         1  ...       f        NaN      no     no   \n",
              "593         0         0         0  ...       m        NaN      no     no   \n",
              "636         0         0         0  ...       f        NaN      no     no   \n",
              "642         0         1         0  ...       f        NaN      no     no   \n",
              "645         1         1         1  ...       m        NaN      no    yes   \n",
              "651         1         0         0  ...       m        NaN     yes     no   \n",
              "652         0         0         0  ...       f        NaN      no     no   \n",
              "658         1         0         0  ...       m        NaN      no     no   \n",
              "659         0         0         1  ...       m        NaN      no     no   \n",
              "666         0         1         0  ...       m        NaN      no     no   \n",
              "701         1         1         0  ...       f        NaN      no     no   \n",
              "\n",
              "            contry_of_res used_app_before result     age_desc  relation  \\\n",
              "4                   Egypt              no      2  18 and more       NaN   \n",
              "12                Bahamas              no      6  18 and more       NaN   \n",
              "13                Austria              no      4  18 and more       NaN   \n",
              "14              Argentina              no      4  18 and more       NaN   \n",
              "19   United Arab Emirates              no      3  18 and more       NaN   \n",
              "20   United Arab Emirates              no      3  18 and more       NaN   \n",
              "24                Lebanon              no      5  18 and more       NaN   \n",
              "25            Afghanistan              no      3  18 and more       NaN   \n",
              "62           Saudi Arabia              no      0  18 and more       NaN   \n",
              "79                 Jordan              no      2  18 and more       NaN   \n",
              "80            Afghanistan              no      5  18 and more       NaN   \n",
              "81                 Jordan              no      3  18 and more       NaN   \n",
              "91                 Jordan              no      4  18 and more       NaN   \n",
              "216  United Arab Emirates              no      4  18 and more       NaN   \n",
              "221           Afghanistan              no      1  18 and more       NaN   \n",
              "238                Russia              no      3  18 and more       NaN   \n",
              "257           New Zealand              no      4  18 and more       NaN   \n",
              "270                Russia              no      7  18 and more       NaN   \n",
              "276                Jordan              no      3  18 and more       NaN   \n",
              "277                Jordan              no      2  18 and more       NaN   \n",
              "285             Hong Kong              no      6  18 and more       NaN   \n",
              "306          Saudi Arabia              no      7  18 and more       NaN   \n",
              "315  United Arab Emirates              no      3  18 and more       NaN   \n",
              "324  United Arab Emirates              no      2  18 and more       NaN   \n",
              "337                Jordan              no      3  18 and more       NaN   \n",
              "338                Jordan              no      4  18 and more       NaN   \n",
              "339                Jordan              no      2  18 and more       NaN   \n",
              "340                Jordan              no      6  18 and more       NaN   \n",
              "341                Jordan              no      6  18 and more       NaN   \n",
              "342                Jordan              no      3  18 and more       NaN   \n",
              "..                    ...             ...    ...          ...       ...   \n",
              "423  United Arab Emirates              no      2  18 and more       NaN   \n",
              "427                Jordan              no      4  18 and more       NaN   \n",
              "428                Brazil             yes      2  18 and more       NaN   \n",
              "429                Jordan              no      6  18 and more       NaN   \n",
              "432                Jordan              no      3  18 and more       NaN   \n",
              "438                Jordan              no      4  18 and more       NaN   \n",
              "453                Jordan              no      4  18 and more       NaN   \n",
              "485                Jordan              no      3  18 and more       NaN   \n",
              "505        United Kingdom              no      6  18 and more       NaN   \n",
              "518           New Zealand              no      3  18 and more       NaN   \n",
              "527                  Iran              no      3  18 and more       NaN   \n",
              "534                  Iran              no      4  18 and more       NaN   \n",
              "535                  Iran              no      3  18 and more       NaN   \n",
              "536                  Iran              no      2  18 and more       NaN   \n",
              "537                  Iran              no      5  18 and more       NaN   \n",
              "556                Jordan              no      3  18 and more       NaN   \n",
              "564            Kazakhstan             yes      4  18 and more       NaN   \n",
              "571                Jordan              no      3  18 and more       NaN   \n",
              "572                Jordan              no      3  18 and more       NaN   \n",
              "588           New Zealand              no      9  18 and more       NaN   \n",
              "593                Russia              no      1  18 and more       NaN   \n",
              "636                Russia              no      0  18 and more       NaN   \n",
              "642           New Zealand              no      2  18 and more       NaN   \n",
              "645           New Zealand              no      7  18 and more       NaN   \n",
              "651                Jordan              no      3  18 and more       NaN   \n",
              "652         United States              no      1  18 and more       NaN   \n",
              "658            Azerbaijan              no      3  18 and more       NaN   \n",
              "659              Pakistan              no      8  18 and more       NaN   \n",
              "666                  Iraq              no      1  18 and more       NaN   \n",
              "701                Russia              no      7  18 and more       NaN   \n",
              "\n",
              "    Class/ASD  \n",
              "4          NO  \n",
              "12         NO  \n",
              "13         NO  \n",
              "14         NO  \n",
              "19         NO  \n",
              "20         NO  \n",
              "24         NO  \n",
              "25         NO  \n",
              "62         NO  \n",
              "79         NO  \n",
              "80         NO  \n",
              "81         NO  \n",
              "91         NO  \n",
              "216        NO  \n",
              "221        NO  \n",
              "238        NO  \n",
              "257        NO  \n",
              "270       YES  \n",
              "276        NO  \n",
              "277        NO  \n",
              "285        NO  \n",
              "306       YES  \n",
              "315        NO  \n",
              "324        NO  \n",
              "337        NO  \n",
              "338        NO  \n",
              "339        NO  \n",
              "340        NO  \n",
              "341        NO  \n",
              "342        NO  \n",
              "..        ...  \n",
              "423        NO  \n",
              "427        NO  \n",
              "428        NO  \n",
              "429        NO  \n",
              "432        NO  \n",
              "438        NO  \n",
              "453        NO  \n",
              "485        NO  \n",
              "505        NO  \n",
              "518        NO  \n",
              "527        NO  \n",
              "534        NO  \n",
              "535        NO  \n",
              "536        NO  \n",
              "537        NO  \n",
              "556        NO  \n",
              "564        NO  \n",
              "571        NO  \n",
              "572        NO  \n",
              "588       YES  \n",
              "593        NO  \n",
              "636        NO  \n",
              "642        NO  \n",
              "645       YES  \n",
              "651        NO  \n",
              "652        NO  \n",
              "658        NO  \n",
              "659       YES  \n",
              "666        NO  \n",
              "701       YES  \n",
              "\n",
              "[95 rows x 22 columns]"
            ],
            "text/html": [
              "<div>\n",
              "<style scoped>\n",
              "    .dataframe tbody tr th:only-of-type {\n",
              "        vertical-align: middle;\n",
              "    }\n",
              "\n",
              "    .dataframe tbody tr th {\n",
              "        vertical-align: top;\n",
              "    }\n",
              "\n",
              "    .dataframe thead th {\n",
              "        text-align: right;\n",
              "    }\n",
              "</style>\n",
              "<table border=\"1\" class=\"dataframe\">\n",
              "  <thead>\n",
              "    <tr style=\"text-align: right;\">\n",
              "      <th></th>\n",
              "      <th>id</th>\n",
              "      <th>A1_Score</th>\n",
              "      <th>A2_Score</th>\n",
              "      <th>A3_Score</th>\n",
              "      <th>A4_Score</th>\n",
              "      <th>A5_Score</th>\n",
              "      <th>A6_Score</th>\n",
              "      <th>A7_Score</th>\n",
              "      <th>A8_Score</th>\n",
              "      <th>A9_Score</th>\n",
              "      <th>...</th>\n",
              "      <th>gender</th>\n",
              "      <th>ethnicity</th>\n",
              "      <th>jundice</th>\n",
              "      <th>austim</th>\n",
              "      <th>contry_of_res</th>\n",
              "      <th>used_app_before</th>\n",
              "      <th>result</th>\n",
              "      <th>age_desc</th>\n",
              "      <th>relation</th>\n",
              "      <th>Class/ASD</th>\n",
              "    </tr>\n",
              "  </thead>\n",
              "  <tbody>\n",
              "    <tr>\n",
              "      <th>4</th>\n",
              "      <td>5</td>\n",
              "      <td>1</td>\n",
              "      <td>0</td>\n",
              "      <td>0</td>\n",
              "      <td>0</td>\n",
              "      <td>0</td>\n",
              "      <td>0</td>\n",
              "      <td>0</td>\n",
              "      <td>1</td>\n",
              "      <td>0</td>\n",
              "      <td>...</td>\n",
              "      <td>f</td>\n",
              "      <td>NaN</td>\n",
              "      <td>no</td>\n",
              "      <td>no</td>\n",
              "      <td>Egypt</td>\n",
              "      <td>no</td>\n",
              "      <td>2</td>\n",
              "      <td>18 and more</td>\n",
              "      <td>NaN</td>\n",
              "      <td>NO</td>\n",
              "    </tr>\n",
              "    <tr>\n",
              "      <th>12</th>\n",
              "      <td>13</td>\n",
              "      <td>0</td>\n",
              "      <td>1</td>\n",
              "      <td>1</td>\n",
              "      <td>1</td>\n",
              "      <td>1</td>\n",
              "      <td>1</td>\n",
              "      <td>0</td>\n",
              "      <td>0</td>\n",
              "      <td>1</td>\n",
              "      <td>...</td>\n",
              "      <td>f</td>\n",
              "      <td>NaN</td>\n",
              "      <td>no</td>\n",
              "      <td>no</td>\n",
              "      <td>Bahamas</td>\n",
              "      <td>no</td>\n",
              "      <td>6</td>\n",
              "      <td>18 and more</td>\n",
              "      <td>NaN</td>\n",
              "      <td>NO</td>\n",
              "    </tr>\n",
              "    <tr>\n",
              "      <th>13</th>\n",
              "      <td>14</td>\n",
              "      <td>1</td>\n",
              "      <td>0</td>\n",
              "      <td>0</td>\n",
              "      <td>0</td>\n",
              "      <td>0</td>\n",
              "      <td>0</td>\n",
              "      <td>1</td>\n",
              "      <td>1</td>\n",
              "      <td>0</td>\n",
              "      <td>...</td>\n",
              "      <td>m</td>\n",
              "      <td>NaN</td>\n",
              "      <td>no</td>\n",
              "      <td>no</td>\n",
              "      <td>Austria</td>\n",
              "      <td>no</td>\n",
              "      <td>4</td>\n",
              "      <td>18 and more</td>\n",
              "      <td>NaN</td>\n",
              "      <td>NO</td>\n",
              "    </tr>\n",
              "    <tr>\n",
              "      <th>14</th>\n",
              "      <td>15</td>\n",
              "      <td>1</td>\n",
              "      <td>0</td>\n",
              "      <td>0</td>\n",
              "      <td>0</td>\n",
              "      <td>0</td>\n",
              "      <td>0</td>\n",
              "      <td>1</td>\n",
              "      <td>1</td>\n",
              "      <td>0</td>\n",
              "      <td>...</td>\n",
              "      <td>f</td>\n",
              "      <td>NaN</td>\n",
              "      <td>no</td>\n",
              "      <td>no</td>\n",
              "      <td>Argentina</td>\n",
              "      <td>no</td>\n",
              "      <td>4</td>\n",
              "      <td>18 and more</td>\n",
              "      <td>NaN</td>\n",
              "      <td>NO</td>\n",
              "    </tr>\n",
              "    <tr>\n",
              "      <th>19</th>\n",
              "      <td>20</td>\n",
              "      <td>0</td>\n",
              "      <td>0</td>\n",
              "      <td>0</td>\n",
              "      <td>0</td>\n",
              "      <td>0</td>\n",
              "      <td>0</td>\n",
              "      <td>1</td>\n",
              "      <td>1</td>\n",
              "      <td>0</td>\n",
              "      <td>...</td>\n",
              "      <td>m</td>\n",
              "      <td>NaN</td>\n",
              "      <td>yes</td>\n",
              "      <td>no</td>\n",
              "      <td>United Arab Emirates</td>\n",
              "      <td>no</td>\n",
              "      <td>3</td>\n",
              "      <td>18 and more</td>\n",
              "      <td>NaN</td>\n",
              "      <td>NO</td>\n",
              "    </tr>\n",
              "    <tr>\n",
              "      <th>20</th>\n",
              "      <td>21</td>\n",
              "      <td>0</td>\n",
              "      <td>1</td>\n",
              "      <td>1</td>\n",
              "      <td>1</td>\n",
              "      <td>0</td>\n",
              "      <td>0</td>\n",
              "      <td>0</td>\n",
              "      <td>0</td>\n",
              "      <td>0</td>\n",
              "      <td>...</td>\n",
              "      <td>m</td>\n",
              "      <td>NaN</td>\n",
              "      <td>no</td>\n",
              "      <td>no</td>\n",
              "      <td>United Arab Emirates</td>\n",
              "      <td>no</td>\n",
              "      <td>3</td>\n",
              "      <td>18 and more</td>\n",
              "      <td>NaN</td>\n",
              "      <td>NO</td>\n",
              "    </tr>\n",
              "    <tr>\n",
              "      <th>24</th>\n",
              "      <td>25</td>\n",
              "      <td>1</td>\n",
              "      <td>1</td>\n",
              "      <td>1</td>\n",
              "      <td>1</td>\n",
              "      <td>0</td>\n",
              "      <td>0</td>\n",
              "      <td>0</td>\n",
              "      <td>1</td>\n",
              "      <td>0</td>\n",
              "      <td>...</td>\n",
              "      <td>m</td>\n",
              "      <td>NaN</td>\n",
              "      <td>no</td>\n",
              "      <td>no</td>\n",
              "      <td>Lebanon</td>\n",
              "      <td>no</td>\n",
              "      <td>5</td>\n",
              "      <td>18 and more</td>\n",
              "      <td>NaN</td>\n",
              "      <td>NO</td>\n",
              "    </tr>\n",
              "    <tr>\n",
              "      <th>25</th>\n",
              "      <td>26</td>\n",
              "      <td>0</td>\n",
              "      <td>1</td>\n",
              "      <td>1</td>\n",
              "      <td>0</td>\n",
              "      <td>0</td>\n",
              "      <td>0</td>\n",
              "      <td>0</td>\n",
              "      <td>1</td>\n",
              "      <td>0</td>\n",
              "      <td>...</td>\n",
              "      <td>f</td>\n",
              "      <td>NaN</td>\n",
              "      <td>yes</td>\n",
              "      <td>no</td>\n",
              "      <td>Afghanistan</td>\n",
              "      <td>no</td>\n",
              "      <td>3</td>\n",
              "      <td>18 and more</td>\n",
              "      <td>NaN</td>\n",
              "      <td>NO</td>\n",
              "    </tr>\n",
              "    <tr>\n",
              "      <th>62</th>\n",
              "      <td>63</td>\n",
              "      <td>0</td>\n",
              "      <td>0</td>\n",
              "      <td>0</td>\n",
              "      <td>0</td>\n",
              "      <td>0</td>\n",
              "      <td>0</td>\n",
              "      <td>0</td>\n",
              "      <td>0</td>\n",
              "      <td>0</td>\n",
              "      <td>...</td>\n",
              "      <td>m</td>\n",
              "      <td>NaN</td>\n",
              "      <td>no</td>\n",
              "      <td>no</td>\n",
              "      <td>Saudi Arabia</td>\n",
              "      <td>no</td>\n",
              "      <td>0</td>\n",
              "      <td>18 and more</td>\n",
              "      <td>NaN</td>\n",
              "      <td>NO</td>\n",
              "    </tr>\n",
              "    <tr>\n",
              "      <th>79</th>\n",
              "      <td>80</td>\n",
              "      <td>1</td>\n",
              "      <td>1</td>\n",
              "      <td>0</td>\n",
              "      <td>0</td>\n",
              "      <td>0</td>\n",
              "      <td>0</td>\n",
              "      <td>0</td>\n",
              "      <td>0</td>\n",
              "      <td>0</td>\n",
              "      <td>...</td>\n",
              "      <td>f</td>\n",
              "      <td>NaN</td>\n",
              "      <td>yes</td>\n",
              "      <td>no</td>\n",
              "      <td>Jordan</td>\n",
              "      <td>no</td>\n",
              "      <td>2</td>\n",
              "      <td>18 and more</td>\n",
              "      <td>NaN</td>\n",
              "      <td>NO</td>\n",
              "    </tr>\n",
              "    <tr>\n",
              "      <th>80</th>\n",
              "      <td>81</td>\n",
              "      <td>0</td>\n",
              "      <td>0</td>\n",
              "      <td>1</td>\n",
              "      <td>1</td>\n",
              "      <td>0</td>\n",
              "      <td>0</td>\n",
              "      <td>1</td>\n",
              "      <td>1</td>\n",
              "      <td>0</td>\n",
              "      <td>...</td>\n",
              "      <td>m</td>\n",
              "      <td>NaN</td>\n",
              "      <td>yes</td>\n",
              "      <td>yes</td>\n",
              "      <td>Afghanistan</td>\n",
              "      <td>no</td>\n",
              "      <td>5</td>\n",
              "      <td>18 and more</td>\n",
              "      <td>NaN</td>\n",
              "      <td>NO</td>\n",
              "    </tr>\n",
              "    <tr>\n",
              "      <th>81</th>\n",
              "      <td>82</td>\n",
              "      <td>1</td>\n",
              "      <td>0</td>\n",
              "      <td>0</td>\n",
              "      <td>0</td>\n",
              "      <td>0</td>\n",
              "      <td>0</td>\n",
              "      <td>1</td>\n",
              "      <td>0</td>\n",
              "      <td>0</td>\n",
              "      <td>...</td>\n",
              "      <td>m</td>\n",
              "      <td>NaN</td>\n",
              "      <td>no</td>\n",
              "      <td>no</td>\n",
              "      <td>Jordan</td>\n",
              "      <td>no</td>\n",
              "      <td>3</td>\n",
              "      <td>18 and more</td>\n",
              "      <td>NaN</td>\n",
              "      <td>NO</td>\n",
              "    </tr>\n",
              "    <tr>\n",
              "      <th>91</th>\n",
              "      <td>92</td>\n",
              "      <td>0</td>\n",
              "      <td>1</td>\n",
              "      <td>0</td>\n",
              "      <td>0</td>\n",
              "      <td>1</td>\n",
              "      <td>0</td>\n",
              "      <td>1</td>\n",
              "      <td>0</td>\n",
              "      <td>0</td>\n",
              "      <td>...</td>\n",
              "      <td>f</td>\n",
              "      <td>NaN</td>\n",
              "      <td>no</td>\n",
              "      <td>no</td>\n",
              "      <td>Jordan</td>\n",
              "      <td>no</td>\n",
              "      <td>4</td>\n",
              "      <td>18 and more</td>\n",
              "      <td>NaN</td>\n",
              "      <td>NO</td>\n",
              "    </tr>\n",
              "    <tr>\n",
              "      <th>216</th>\n",
              "      <td>217</td>\n",
              "      <td>1</td>\n",
              "      <td>0</td>\n",
              "      <td>0</td>\n",
              "      <td>0</td>\n",
              "      <td>0</td>\n",
              "      <td>0</td>\n",
              "      <td>1</td>\n",
              "      <td>1</td>\n",
              "      <td>0</td>\n",
              "      <td>...</td>\n",
              "      <td>f</td>\n",
              "      <td>NaN</td>\n",
              "      <td>yes</td>\n",
              "      <td>no</td>\n",
              "      <td>United Arab Emirates</td>\n",
              "      <td>no</td>\n",
              "      <td>4</td>\n",
              "      <td>18 and more</td>\n",
              "      <td>NaN</td>\n",
              "      <td>NO</td>\n",
              "    </tr>\n",
              "    <tr>\n",
              "      <th>221</th>\n",
              "      <td>222</td>\n",
              "      <td>0</td>\n",
              "      <td>0</td>\n",
              "      <td>1</td>\n",
              "      <td>0</td>\n",
              "      <td>0</td>\n",
              "      <td>0</td>\n",
              "      <td>0</td>\n",
              "      <td>0</td>\n",
              "      <td>0</td>\n",
              "      <td>...</td>\n",
              "      <td>f</td>\n",
              "      <td>NaN</td>\n",
              "      <td>no</td>\n",
              "      <td>no</td>\n",
              "      <td>Afghanistan</td>\n",
              "      <td>no</td>\n",
              "      <td>1</td>\n",
              "      <td>18 and more</td>\n",
              "      <td>NaN</td>\n",
              "      <td>NO</td>\n",
              "    </tr>\n",
              "    <tr>\n",
              "      <th>238</th>\n",
              "      <td>239</td>\n",
              "      <td>0</td>\n",
              "      <td>1</td>\n",
              "      <td>0</td>\n",
              "      <td>0</td>\n",
              "      <td>0</td>\n",
              "      <td>0</td>\n",
              "      <td>0</td>\n",
              "      <td>1</td>\n",
              "      <td>1</td>\n",
              "      <td>...</td>\n",
              "      <td>m</td>\n",
              "      <td>NaN</td>\n",
              "      <td>no</td>\n",
              "      <td>no</td>\n",
              "      <td>Russia</td>\n",
              "      <td>no</td>\n",
              "      <td>3</td>\n",
              "      <td>18 and more</td>\n",
              "      <td>NaN</td>\n",
              "      <td>NO</td>\n",
              "    </tr>\n",
              "    <tr>\n",
              "      <th>257</th>\n",
              "      <td>258</td>\n",
              "      <td>0</td>\n",
              "      <td>1</td>\n",
              "      <td>1</td>\n",
              "      <td>0</td>\n",
              "      <td>1</td>\n",
              "      <td>0</td>\n",
              "      <td>0</td>\n",
              "      <td>1</td>\n",
              "      <td>0</td>\n",
              "      <td>...</td>\n",
              "      <td>m</td>\n",
              "      <td>NaN</td>\n",
              "      <td>no</td>\n",
              "      <td>no</td>\n",
              "      <td>New Zealand</td>\n",
              "      <td>no</td>\n",
              "      <td>4</td>\n",
              "      <td>18 and more</td>\n",
              "      <td>NaN</td>\n",
              "      <td>NO</td>\n",
              "    </tr>\n",
              "    <tr>\n",
              "      <th>270</th>\n",
              "      <td>271</td>\n",
              "      <td>1</td>\n",
              "      <td>0</td>\n",
              "      <td>1</td>\n",
              "      <td>1</td>\n",
              "      <td>1</td>\n",
              "      <td>1</td>\n",
              "      <td>0</td>\n",
              "      <td>0</td>\n",
              "      <td>1</td>\n",
              "      <td>...</td>\n",
              "      <td>f</td>\n",
              "      <td>NaN</td>\n",
              "      <td>no</td>\n",
              "      <td>yes</td>\n",
              "      <td>Russia</td>\n",
              "      <td>no</td>\n",
              "      <td>7</td>\n",
              "      <td>18 and more</td>\n",
              "      <td>NaN</td>\n",
              "      <td>YES</td>\n",
              "    </tr>\n",
              "    <tr>\n",
              "      <th>276</th>\n",
              "      <td>277</td>\n",
              "      <td>1</td>\n",
              "      <td>0</td>\n",
              "      <td>0</td>\n",
              "      <td>0</td>\n",
              "      <td>1</td>\n",
              "      <td>0</td>\n",
              "      <td>0</td>\n",
              "      <td>0</td>\n",
              "      <td>1</td>\n",
              "      <td>...</td>\n",
              "      <td>m</td>\n",
              "      <td>NaN</td>\n",
              "      <td>no</td>\n",
              "      <td>no</td>\n",
              "      <td>Jordan</td>\n",
              "      <td>no</td>\n",
              "      <td>3</td>\n",
              "      <td>18 and more</td>\n",
              "      <td>NaN</td>\n",
              "      <td>NO</td>\n",
              "    </tr>\n",
              "    <tr>\n",
              "      <th>277</th>\n",
              "      <td>278</td>\n",
              "      <td>1</td>\n",
              "      <td>1</td>\n",
              "      <td>0</td>\n",
              "      <td>0</td>\n",
              "      <td>0</td>\n",
              "      <td>0</td>\n",
              "      <td>0</td>\n",
              "      <td>0</td>\n",
              "      <td>0</td>\n",
              "      <td>...</td>\n",
              "      <td>f</td>\n",
              "      <td>NaN</td>\n",
              "      <td>no</td>\n",
              "      <td>yes</td>\n",
              "      <td>Jordan</td>\n",
              "      <td>no</td>\n",
              "      <td>2</td>\n",
              "      <td>18 and more</td>\n",
              "      <td>NaN</td>\n",
              "      <td>NO</td>\n",
              "    </tr>\n",
              "    <tr>\n",
              "      <th>285</th>\n",
              "      <td>286</td>\n",
              "      <td>0</td>\n",
              "      <td>0</td>\n",
              "      <td>0</td>\n",
              "      <td>1</td>\n",
              "      <td>1</td>\n",
              "      <td>1</td>\n",
              "      <td>1</td>\n",
              "      <td>0</td>\n",
              "      <td>1</td>\n",
              "      <td>...</td>\n",
              "      <td>f</td>\n",
              "      <td>NaN</td>\n",
              "      <td>no</td>\n",
              "      <td>no</td>\n",
              "      <td>Hong Kong</td>\n",
              "      <td>no</td>\n",
              "      <td>6</td>\n",
              "      <td>18 and more</td>\n",
              "      <td>NaN</td>\n",
              "      <td>NO</td>\n",
              "    </tr>\n",
              "    <tr>\n",
              "      <th>306</th>\n",
              "      <td>307</td>\n",
              "      <td>1</td>\n",
              "      <td>0</td>\n",
              "      <td>0</td>\n",
              "      <td>1</td>\n",
              "      <td>1</td>\n",
              "      <td>0</td>\n",
              "      <td>1</td>\n",
              "      <td>1</td>\n",
              "      <td>1</td>\n",
              "      <td>...</td>\n",
              "      <td>f</td>\n",
              "      <td>NaN</td>\n",
              "      <td>no</td>\n",
              "      <td>no</td>\n",
              "      <td>Saudi Arabia</td>\n",
              "      <td>no</td>\n",
              "      <td>7</td>\n",
              "      <td>18 and more</td>\n",
              "      <td>NaN</td>\n",
              "      <td>YES</td>\n",
              "    </tr>\n",
              "    <tr>\n",
              "      <th>315</th>\n",
              "      <td>316</td>\n",
              "      <td>1</td>\n",
              "      <td>1</td>\n",
              "      <td>0</td>\n",
              "      <td>0</td>\n",
              "      <td>0</td>\n",
              "      <td>0</td>\n",
              "      <td>0</td>\n",
              "      <td>1</td>\n",
              "      <td>0</td>\n",
              "      <td>...</td>\n",
              "      <td>m</td>\n",
              "      <td>NaN</td>\n",
              "      <td>no</td>\n",
              "      <td>no</td>\n",
              "      <td>United Arab Emirates</td>\n",
              "      <td>no</td>\n",
              "      <td>3</td>\n",
              "      <td>18 and more</td>\n",
              "      <td>NaN</td>\n",
              "      <td>NO</td>\n",
              "    </tr>\n",
              "    <tr>\n",
              "      <th>324</th>\n",
              "      <td>325</td>\n",
              "      <td>1</td>\n",
              "      <td>0</td>\n",
              "      <td>0</td>\n",
              "      <td>0</td>\n",
              "      <td>0</td>\n",
              "      <td>0</td>\n",
              "      <td>0</td>\n",
              "      <td>0</td>\n",
              "      <td>0</td>\n",
              "      <td>...</td>\n",
              "      <td>f</td>\n",
              "      <td>NaN</td>\n",
              "      <td>no</td>\n",
              "      <td>no</td>\n",
              "      <td>United Arab Emirates</td>\n",
              "      <td>no</td>\n",
              "      <td>2</td>\n",
              "      <td>18 and more</td>\n",
              "      <td>NaN</td>\n",
              "      <td>NO</td>\n",
              "    </tr>\n",
              "    <tr>\n",
              "      <th>337</th>\n",
              "      <td>338</td>\n",
              "      <td>1</td>\n",
              "      <td>1</td>\n",
              "      <td>0</td>\n",
              "      <td>0</td>\n",
              "      <td>0</td>\n",
              "      <td>0</td>\n",
              "      <td>0</td>\n",
              "      <td>0</td>\n",
              "      <td>0</td>\n",
              "      <td>...</td>\n",
              "      <td>m</td>\n",
              "      <td>NaN</td>\n",
              "      <td>no</td>\n",
              "      <td>no</td>\n",
              "      <td>Jordan</td>\n",
              "      <td>no</td>\n",
              "      <td>3</td>\n",
              "      <td>18 and more</td>\n",
              "      <td>NaN</td>\n",
              "      <td>NO</td>\n",
              "    </tr>\n",
              "    <tr>\n",
              "      <th>338</th>\n",
              "      <td>339</td>\n",
              "      <td>1</td>\n",
              "      <td>0</td>\n",
              "      <td>1</td>\n",
              "      <td>0</td>\n",
              "      <td>0</td>\n",
              "      <td>0</td>\n",
              "      <td>1</td>\n",
              "      <td>1</td>\n",
              "      <td>0</td>\n",
              "      <td>...</td>\n",
              "      <td>f</td>\n",
              "      <td>NaN</td>\n",
              "      <td>no</td>\n",
              "      <td>no</td>\n",
              "      <td>Jordan</td>\n",
              "      <td>no</td>\n",
              "      <td>4</td>\n",
              "      <td>18 and more</td>\n",
              "      <td>NaN</td>\n",
              "      <td>NO</td>\n",
              "    </tr>\n",
              "    <tr>\n",
              "      <th>339</th>\n",
              "      <td>340</td>\n",
              "      <td>1</td>\n",
              "      <td>0</td>\n",
              "      <td>0</td>\n",
              "      <td>0</td>\n",
              "      <td>0</td>\n",
              "      <td>0</td>\n",
              "      <td>1</td>\n",
              "      <td>0</td>\n",
              "      <td>0</td>\n",
              "      <td>...</td>\n",
              "      <td>f</td>\n",
              "      <td>NaN</td>\n",
              "      <td>no</td>\n",
              "      <td>no</td>\n",
              "      <td>Jordan</td>\n",
              "      <td>no</td>\n",
              "      <td>2</td>\n",
              "      <td>18 and more</td>\n",
              "      <td>NaN</td>\n",
              "      <td>NO</td>\n",
              "    </tr>\n",
              "    <tr>\n",
              "      <th>340</th>\n",
              "      <td>341</td>\n",
              "      <td>1</td>\n",
              "      <td>0</td>\n",
              "      <td>1</td>\n",
              "      <td>1</td>\n",
              "      <td>0</td>\n",
              "      <td>0</td>\n",
              "      <td>1</td>\n",
              "      <td>1</td>\n",
              "      <td>1</td>\n",
              "      <td>...</td>\n",
              "      <td>f</td>\n",
              "      <td>NaN</td>\n",
              "      <td>no</td>\n",
              "      <td>no</td>\n",
              "      <td>Jordan</td>\n",
              "      <td>no</td>\n",
              "      <td>6</td>\n",
              "      <td>18 and more</td>\n",
              "      <td>NaN</td>\n",
              "      <td>NO</td>\n",
              "    </tr>\n",
              "    <tr>\n",
              "      <th>341</th>\n",
              "      <td>342</td>\n",
              "      <td>1</td>\n",
              "      <td>1</td>\n",
              "      <td>1</td>\n",
              "      <td>1</td>\n",
              "      <td>1</td>\n",
              "      <td>0</td>\n",
              "      <td>0</td>\n",
              "      <td>1</td>\n",
              "      <td>0</td>\n",
              "      <td>...</td>\n",
              "      <td>m</td>\n",
              "      <td>NaN</td>\n",
              "      <td>no</td>\n",
              "      <td>no</td>\n",
              "      <td>Jordan</td>\n",
              "      <td>no</td>\n",
              "      <td>6</td>\n",
              "      <td>18 and more</td>\n",
              "      <td>NaN</td>\n",
              "      <td>NO</td>\n",
              "    </tr>\n",
              "    <tr>\n",
              "      <th>342</th>\n",
              "      <td>343</td>\n",
              "      <td>1</td>\n",
              "      <td>0</td>\n",
              "      <td>1</td>\n",
              "      <td>1</td>\n",
              "      <td>0</td>\n",
              "      <td>0</td>\n",
              "      <td>0</td>\n",
              "      <td>0</td>\n",
              "      <td>0</td>\n",
              "      <td>...</td>\n",
              "      <td>f</td>\n",
              "      <td>NaN</td>\n",
              "      <td>no</td>\n",
              "      <td>no</td>\n",
              "      <td>Jordan</td>\n",
              "      <td>no</td>\n",
              "      <td>3</td>\n",
              "      <td>18 and more</td>\n",
              "      <td>NaN</td>\n",
              "      <td>NO</td>\n",
              "    </tr>\n",
              "    <tr>\n",
              "      <th>...</th>\n",
              "      <td>...</td>\n",
              "      <td>...</td>\n",
              "      <td>...</td>\n",
              "      <td>...</td>\n",
              "      <td>...</td>\n",
              "      <td>...</td>\n",
              "      <td>...</td>\n",
              "      <td>...</td>\n",
              "      <td>...</td>\n",
              "      <td>...</td>\n",
              "      <td>...</td>\n",
              "      <td>...</td>\n",
              "      <td>...</td>\n",
              "      <td>...</td>\n",
              "      <td>...</td>\n",
              "      <td>...</td>\n",
              "      <td>...</td>\n",
              "      <td>...</td>\n",
              "      <td>...</td>\n",
              "      <td>...</td>\n",
              "      <td>...</td>\n",
              "    </tr>\n",
              "    <tr>\n",
              "      <th>423</th>\n",
              "      <td>424</td>\n",
              "      <td>0</td>\n",
              "      <td>1</td>\n",
              "      <td>0</td>\n",
              "      <td>1</td>\n",
              "      <td>0</td>\n",
              "      <td>0</td>\n",
              "      <td>0</td>\n",
              "      <td>0</td>\n",
              "      <td>0</td>\n",
              "      <td>...</td>\n",
              "      <td>f</td>\n",
              "      <td>NaN</td>\n",
              "      <td>no</td>\n",
              "      <td>no</td>\n",
              "      <td>United Arab Emirates</td>\n",
              "      <td>no</td>\n",
              "      <td>2</td>\n",
              "      <td>18 and more</td>\n",
              "      <td>NaN</td>\n",
              "      <td>NO</td>\n",
              "    </tr>\n",
              "    <tr>\n",
              "      <th>427</th>\n",
              "      <td>428</td>\n",
              "      <td>1</td>\n",
              "      <td>0</td>\n",
              "      <td>0</td>\n",
              "      <td>1</td>\n",
              "      <td>0</td>\n",
              "      <td>0</td>\n",
              "      <td>1</td>\n",
              "      <td>1</td>\n",
              "      <td>0</td>\n",
              "      <td>...</td>\n",
              "      <td>m</td>\n",
              "      <td>NaN</td>\n",
              "      <td>no</td>\n",
              "      <td>no</td>\n",
              "      <td>Jordan</td>\n",
              "      <td>no</td>\n",
              "      <td>4</td>\n",
              "      <td>18 and more</td>\n",
              "      <td>NaN</td>\n",
              "      <td>NO</td>\n",
              "    </tr>\n",
              "    <tr>\n",
              "      <th>428</th>\n",
              "      <td>429</td>\n",
              "      <td>0</td>\n",
              "      <td>0</td>\n",
              "      <td>0</td>\n",
              "      <td>0</td>\n",
              "      <td>1</td>\n",
              "      <td>0</td>\n",
              "      <td>1</td>\n",
              "      <td>0</td>\n",
              "      <td>0</td>\n",
              "      <td>...</td>\n",
              "      <td>f</td>\n",
              "      <td>NaN</td>\n",
              "      <td>no</td>\n",
              "      <td>no</td>\n",
              "      <td>Brazil</td>\n",
              "      <td>yes</td>\n",
              "      <td>2</td>\n",
              "      <td>18 and more</td>\n",
              "      <td>NaN</td>\n",
              "      <td>NO</td>\n",
              "    </tr>\n",
              "    <tr>\n",
              "      <th>429</th>\n",
              "      <td>430</td>\n",
              "      <td>1</td>\n",
              "      <td>0</td>\n",
              "      <td>1</td>\n",
              "      <td>0</td>\n",
              "      <td>1</td>\n",
              "      <td>0</td>\n",
              "      <td>1</td>\n",
              "      <td>1</td>\n",
              "      <td>1</td>\n",
              "      <td>...</td>\n",
              "      <td>m</td>\n",
              "      <td>NaN</td>\n",
              "      <td>no</td>\n",
              "      <td>no</td>\n",
              "      <td>Jordan</td>\n",
              "      <td>no</td>\n",
              "      <td>6</td>\n",
              "      <td>18 and more</td>\n",
              "      <td>NaN</td>\n",
              "      <td>NO</td>\n",
              "    </tr>\n",
              "    <tr>\n",
              "      <th>432</th>\n",
              "      <td>433</td>\n",
              "      <td>1</td>\n",
              "      <td>0</td>\n",
              "      <td>0</td>\n",
              "      <td>1</td>\n",
              "      <td>1</td>\n",
              "      <td>0</td>\n",
              "      <td>0</td>\n",
              "      <td>0</td>\n",
              "      <td>0</td>\n",
              "      <td>...</td>\n",
              "      <td>m</td>\n",
              "      <td>NaN</td>\n",
              "      <td>no</td>\n",
              "      <td>no</td>\n",
              "      <td>Jordan</td>\n",
              "      <td>no</td>\n",
              "      <td>3</td>\n",
              "      <td>18 and more</td>\n",
              "      <td>NaN</td>\n",
              "      <td>NO</td>\n",
              "    </tr>\n",
              "    <tr>\n",
              "      <th>438</th>\n",
              "      <td>439</td>\n",
              "      <td>1</td>\n",
              "      <td>1</td>\n",
              "      <td>0</td>\n",
              "      <td>0</td>\n",
              "      <td>0</td>\n",
              "      <td>0</td>\n",
              "      <td>0</td>\n",
              "      <td>1</td>\n",
              "      <td>0</td>\n",
              "      <td>...</td>\n",
              "      <td>f</td>\n",
              "      <td>NaN</td>\n",
              "      <td>no</td>\n",
              "      <td>no</td>\n",
              "      <td>Jordan</td>\n",
              "      <td>no</td>\n",
              "      <td>4</td>\n",
              "      <td>18 and more</td>\n",
              "      <td>NaN</td>\n",
              "      <td>NO</td>\n",
              "    </tr>\n",
              "    <tr>\n",
              "      <th>453</th>\n",
              "      <td>454</td>\n",
              "      <td>0</td>\n",
              "      <td>0</td>\n",
              "      <td>1</td>\n",
              "      <td>1</td>\n",
              "      <td>1</td>\n",
              "      <td>0</td>\n",
              "      <td>0</td>\n",
              "      <td>0</td>\n",
              "      <td>0</td>\n",
              "      <td>...</td>\n",
              "      <td>f</td>\n",
              "      <td>NaN</td>\n",
              "      <td>yes</td>\n",
              "      <td>no</td>\n",
              "      <td>Jordan</td>\n",
              "      <td>no</td>\n",
              "      <td>4</td>\n",
              "      <td>18 and more</td>\n",
              "      <td>NaN</td>\n",
              "      <td>NO</td>\n",
              "    </tr>\n",
              "    <tr>\n",
              "      <th>485</th>\n",
              "      <td>486</td>\n",
              "      <td>0</td>\n",
              "      <td>1</td>\n",
              "      <td>0</td>\n",
              "      <td>0</td>\n",
              "      <td>0</td>\n",
              "      <td>0</td>\n",
              "      <td>0</td>\n",
              "      <td>1</td>\n",
              "      <td>1</td>\n",
              "      <td>...</td>\n",
              "      <td>m</td>\n",
              "      <td>NaN</td>\n",
              "      <td>no</td>\n",
              "      <td>no</td>\n",
              "      <td>Jordan</td>\n",
              "      <td>no</td>\n",
              "      <td>3</td>\n",
              "      <td>18 and more</td>\n",
              "      <td>NaN</td>\n",
              "      <td>NO</td>\n",
              "    </tr>\n",
              "    <tr>\n",
              "      <th>505</th>\n",
              "      <td>506</td>\n",
              "      <td>1</td>\n",
              "      <td>0</td>\n",
              "      <td>1</td>\n",
              "      <td>0</td>\n",
              "      <td>1</td>\n",
              "      <td>0</td>\n",
              "      <td>1</td>\n",
              "      <td>1</td>\n",
              "      <td>0</td>\n",
              "      <td>...</td>\n",
              "      <td>m</td>\n",
              "      <td>NaN</td>\n",
              "      <td>yes</td>\n",
              "      <td>yes</td>\n",
              "      <td>United Kingdom</td>\n",
              "      <td>no</td>\n",
              "      <td>6</td>\n",
              "      <td>18 and more</td>\n",
              "      <td>NaN</td>\n",
              "      <td>NO</td>\n",
              "    </tr>\n",
              "    <tr>\n",
              "      <th>518</th>\n",
              "      <td>519</td>\n",
              "      <td>0</td>\n",
              "      <td>1</td>\n",
              "      <td>0</td>\n",
              "      <td>0</td>\n",
              "      <td>0</td>\n",
              "      <td>0</td>\n",
              "      <td>0</td>\n",
              "      <td>0</td>\n",
              "      <td>1</td>\n",
              "      <td>...</td>\n",
              "      <td>f</td>\n",
              "      <td>NaN</td>\n",
              "      <td>no</td>\n",
              "      <td>no</td>\n",
              "      <td>New Zealand</td>\n",
              "      <td>no</td>\n",
              "      <td>3</td>\n",
              "      <td>18 and more</td>\n",
              "      <td>NaN</td>\n",
              "      <td>NO</td>\n",
              "    </tr>\n",
              "    <tr>\n",
              "      <th>527</th>\n",
              "      <td>528</td>\n",
              "      <td>0</td>\n",
              "      <td>0</td>\n",
              "      <td>0</td>\n",
              "      <td>0</td>\n",
              "      <td>1</td>\n",
              "      <td>0</td>\n",
              "      <td>0</td>\n",
              "      <td>1</td>\n",
              "      <td>0</td>\n",
              "      <td>...</td>\n",
              "      <td>f</td>\n",
              "      <td>NaN</td>\n",
              "      <td>no</td>\n",
              "      <td>no</td>\n",
              "      <td>Iran</td>\n",
              "      <td>no</td>\n",
              "      <td>3</td>\n",
              "      <td>18 and more</td>\n",
              "      <td>NaN</td>\n",
              "      <td>NO</td>\n",
              "    </tr>\n",
              "    <tr>\n",
              "      <th>534</th>\n",
              "      <td>535</td>\n",
              "      <td>0</td>\n",
              "      <td>0</td>\n",
              "      <td>0</td>\n",
              "      <td>1</td>\n",
              "      <td>1</td>\n",
              "      <td>0</td>\n",
              "      <td>1</td>\n",
              "      <td>0</td>\n",
              "      <td>0</td>\n",
              "      <td>...</td>\n",
              "      <td>f</td>\n",
              "      <td>NaN</td>\n",
              "      <td>no</td>\n",
              "      <td>no</td>\n",
              "      <td>Iran</td>\n",
              "      <td>no</td>\n",
              "      <td>4</td>\n",
              "      <td>18 and more</td>\n",
              "      <td>NaN</td>\n",
              "      <td>NO</td>\n",
              "    </tr>\n",
              "    <tr>\n",
              "      <th>535</th>\n",
              "      <td>536</td>\n",
              "      <td>0</td>\n",
              "      <td>1</td>\n",
              "      <td>0</td>\n",
              "      <td>0</td>\n",
              "      <td>1</td>\n",
              "      <td>0</td>\n",
              "      <td>0</td>\n",
              "      <td>0</td>\n",
              "      <td>0</td>\n",
              "      <td>...</td>\n",
              "      <td>m</td>\n",
              "      <td>NaN</td>\n",
              "      <td>no</td>\n",
              "      <td>no</td>\n",
              "      <td>Iran</td>\n",
              "      <td>no</td>\n",
              "      <td>3</td>\n",
              "      <td>18 and more</td>\n",
              "      <td>NaN</td>\n",
              "      <td>NO</td>\n",
              "    </tr>\n",
              "    <tr>\n",
              "      <th>536</th>\n",
              "      <td>537</td>\n",
              "      <td>0</td>\n",
              "      <td>1</td>\n",
              "      <td>0</td>\n",
              "      <td>0</td>\n",
              "      <td>1</td>\n",
              "      <td>0</td>\n",
              "      <td>0</td>\n",
              "      <td>0</td>\n",
              "      <td>0</td>\n",
              "      <td>...</td>\n",
              "      <td>f</td>\n",
              "      <td>NaN</td>\n",
              "      <td>no</td>\n",
              "      <td>no</td>\n",
              "      <td>Iran</td>\n",
              "      <td>no</td>\n",
              "      <td>2</td>\n",
              "      <td>18 and more</td>\n",
              "      <td>NaN</td>\n",
              "      <td>NO</td>\n",
              "    </tr>\n",
              "    <tr>\n",
              "      <th>537</th>\n",
              "      <td>538</td>\n",
              "      <td>0</td>\n",
              "      <td>1</td>\n",
              "      <td>0</td>\n",
              "      <td>0</td>\n",
              "      <td>1</td>\n",
              "      <td>1</td>\n",
              "      <td>0</td>\n",
              "      <td>0</td>\n",
              "      <td>1</td>\n",
              "      <td>...</td>\n",
              "      <td>m</td>\n",
              "      <td>NaN</td>\n",
              "      <td>no</td>\n",
              "      <td>no</td>\n",
              "      <td>Iran</td>\n",
              "      <td>no</td>\n",
              "      <td>5</td>\n",
              "      <td>18 and more</td>\n",
              "      <td>NaN</td>\n",
              "      <td>NO</td>\n",
              "    </tr>\n",
              "    <tr>\n",
              "      <th>556</th>\n",
              "      <td>557</td>\n",
              "      <td>1</td>\n",
              "      <td>1</td>\n",
              "      <td>0</td>\n",
              "      <td>0</td>\n",
              "      <td>0</td>\n",
              "      <td>0</td>\n",
              "      <td>0</td>\n",
              "      <td>1</td>\n",
              "      <td>0</td>\n",
              "      <td>...</td>\n",
              "      <td>m</td>\n",
              "      <td>NaN</td>\n",
              "      <td>no</td>\n",
              "      <td>no</td>\n",
              "      <td>Jordan</td>\n",
              "      <td>no</td>\n",
              "      <td>3</td>\n",
              "      <td>18 and more</td>\n",
              "      <td>NaN</td>\n",
              "      <td>NO</td>\n",
              "    </tr>\n",
              "    <tr>\n",
              "      <th>564</th>\n",
              "      <td>565</td>\n",
              "      <td>0</td>\n",
              "      <td>1</td>\n",
              "      <td>0</td>\n",
              "      <td>0</td>\n",
              "      <td>1</td>\n",
              "      <td>1</td>\n",
              "      <td>0</td>\n",
              "      <td>0</td>\n",
              "      <td>1</td>\n",
              "      <td>...</td>\n",
              "      <td>m</td>\n",
              "      <td>NaN</td>\n",
              "      <td>no</td>\n",
              "      <td>no</td>\n",
              "      <td>Kazakhstan</td>\n",
              "      <td>yes</td>\n",
              "      <td>4</td>\n",
              "      <td>18 and more</td>\n",
              "      <td>NaN</td>\n",
              "      <td>NO</td>\n",
              "    </tr>\n",
              "    <tr>\n",
              "      <th>571</th>\n",
              "      <td>572</td>\n",
              "      <td>1</td>\n",
              "      <td>0</td>\n",
              "      <td>0</td>\n",
              "      <td>0</td>\n",
              "      <td>0</td>\n",
              "      <td>0</td>\n",
              "      <td>0</td>\n",
              "      <td>1</td>\n",
              "      <td>0</td>\n",
              "      <td>...</td>\n",
              "      <td>m</td>\n",
              "      <td>NaN</td>\n",
              "      <td>no</td>\n",
              "      <td>no</td>\n",
              "      <td>Jordan</td>\n",
              "      <td>no</td>\n",
              "      <td>3</td>\n",
              "      <td>18 and more</td>\n",
              "      <td>NaN</td>\n",
              "      <td>NO</td>\n",
              "    </tr>\n",
              "    <tr>\n",
              "      <th>572</th>\n",
              "      <td>573</td>\n",
              "      <td>1</td>\n",
              "      <td>0</td>\n",
              "      <td>0</td>\n",
              "      <td>1</td>\n",
              "      <td>0</td>\n",
              "      <td>0</td>\n",
              "      <td>0</td>\n",
              "      <td>1</td>\n",
              "      <td>0</td>\n",
              "      <td>...</td>\n",
              "      <td>m</td>\n",
              "      <td>NaN</td>\n",
              "      <td>no</td>\n",
              "      <td>no</td>\n",
              "      <td>Jordan</td>\n",
              "      <td>no</td>\n",
              "      <td>3</td>\n",
              "      <td>18 and more</td>\n",
              "      <td>NaN</td>\n",
              "      <td>NO</td>\n",
              "    </tr>\n",
              "    <tr>\n",
              "      <th>588</th>\n",
              "      <td>589</td>\n",
              "      <td>1</td>\n",
              "      <td>0</td>\n",
              "      <td>1</td>\n",
              "      <td>1</td>\n",
              "      <td>1</td>\n",
              "      <td>1</td>\n",
              "      <td>1</td>\n",
              "      <td>1</td>\n",
              "      <td>1</td>\n",
              "      <td>...</td>\n",
              "      <td>f</td>\n",
              "      <td>NaN</td>\n",
              "      <td>no</td>\n",
              "      <td>no</td>\n",
              "      <td>New Zealand</td>\n",
              "      <td>no</td>\n",
              "      <td>9</td>\n",
              "      <td>18 and more</td>\n",
              "      <td>NaN</td>\n",
              "      <td>YES</td>\n",
              "    </tr>\n",
              "    <tr>\n",
              "      <th>593</th>\n",
              "      <td>594</td>\n",
              "      <td>1</td>\n",
              "      <td>0</td>\n",
              "      <td>0</td>\n",
              "      <td>0</td>\n",
              "      <td>0</td>\n",
              "      <td>0</td>\n",
              "      <td>0</td>\n",
              "      <td>0</td>\n",
              "      <td>0</td>\n",
              "      <td>...</td>\n",
              "      <td>m</td>\n",
              "      <td>NaN</td>\n",
              "      <td>no</td>\n",
              "      <td>no</td>\n",
              "      <td>Russia</td>\n",
              "      <td>no</td>\n",
              "      <td>1</td>\n",
              "      <td>18 and more</td>\n",
              "      <td>NaN</td>\n",
              "      <td>NO</td>\n",
              "    </tr>\n",
              "    <tr>\n",
              "      <th>636</th>\n",
              "      <td>637</td>\n",
              "      <td>0</td>\n",
              "      <td>0</td>\n",
              "      <td>0</td>\n",
              "      <td>0</td>\n",
              "      <td>0</td>\n",
              "      <td>0</td>\n",
              "      <td>0</td>\n",
              "      <td>0</td>\n",
              "      <td>0</td>\n",
              "      <td>...</td>\n",
              "      <td>f</td>\n",
              "      <td>NaN</td>\n",
              "      <td>no</td>\n",
              "      <td>no</td>\n",
              "      <td>Russia</td>\n",
              "      <td>no</td>\n",
              "      <td>0</td>\n",
              "      <td>18 and more</td>\n",
              "      <td>NaN</td>\n",
              "      <td>NO</td>\n",
              "    </tr>\n",
              "    <tr>\n",
              "      <th>642</th>\n",
              "      <td>643</td>\n",
              "      <td>0</td>\n",
              "      <td>0</td>\n",
              "      <td>0</td>\n",
              "      <td>0</td>\n",
              "      <td>1</td>\n",
              "      <td>0</td>\n",
              "      <td>0</td>\n",
              "      <td>1</td>\n",
              "      <td>0</td>\n",
              "      <td>...</td>\n",
              "      <td>f</td>\n",
              "      <td>NaN</td>\n",
              "      <td>no</td>\n",
              "      <td>no</td>\n",
              "      <td>New Zealand</td>\n",
              "      <td>no</td>\n",
              "      <td>2</td>\n",
              "      <td>18 and more</td>\n",
              "      <td>NaN</td>\n",
              "      <td>NO</td>\n",
              "    </tr>\n",
              "    <tr>\n",
              "      <th>645</th>\n",
              "      <td>646</td>\n",
              "      <td>1</td>\n",
              "      <td>0</td>\n",
              "      <td>1</td>\n",
              "      <td>1</td>\n",
              "      <td>0</td>\n",
              "      <td>0</td>\n",
              "      <td>1</td>\n",
              "      <td>1</td>\n",
              "      <td>1</td>\n",
              "      <td>...</td>\n",
              "      <td>m</td>\n",
              "      <td>NaN</td>\n",
              "      <td>no</td>\n",
              "      <td>yes</td>\n",
              "      <td>New Zealand</td>\n",
              "      <td>no</td>\n",
              "      <td>7</td>\n",
              "      <td>18 and more</td>\n",
              "      <td>NaN</td>\n",
              "      <td>YES</td>\n",
              "    </tr>\n",
              "    <tr>\n",
              "      <th>651</th>\n",
              "      <td>652</td>\n",
              "      <td>1</td>\n",
              "      <td>0</td>\n",
              "      <td>0</td>\n",
              "      <td>0</td>\n",
              "      <td>0</td>\n",
              "      <td>0</td>\n",
              "      <td>1</td>\n",
              "      <td>0</td>\n",
              "      <td>0</td>\n",
              "      <td>...</td>\n",
              "      <td>m</td>\n",
              "      <td>NaN</td>\n",
              "      <td>yes</td>\n",
              "      <td>no</td>\n",
              "      <td>Jordan</td>\n",
              "      <td>no</td>\n",
              "      <td>3</td>\n",
              "      <td>18 and more</td>\n",
              "      <td>NaN</td>\n",
              "      <td>NO</td>\n",
              "    </tr>\n",
              "    <tr>\n",
              "      <th>652</th>\n",
              "      <td>653</td>\n",
              "      <td>0</td>\n",
              "      <td>0</td>\n",
              "      <td>0</td>\n",
              "      <td>0</td>\n",
              "      <td>0</td>\n",
              "      <td>0</td>\n",
              "      <td>0</td>\n",
              "      <td>0</td>\n",
              "      <td>0</td>\n",
              "      <td>...</td>\n",
              "      <td>f</td>\n",
              "      <td>NaN</td>\n",
              "      <td>no</td>\n",
              "      <td>no</td>\n",
              "      <td>United States</td>\n",
              "      <td>no</td>\n",
              "      <td>1</td>\n",
              "      <td>18 and more</td>\n",
              "      <td>NaN</td>\n",
              "      <td>NO</td>\n",
              "    </tr>\n",
              "    <tr>\n",
              "      <th>658</th>\n",
              "      <td>659</td>\n",
              "      <td>0</td>\n",
              "      <td>0</td>\n",
              "      <td>1</td>\n",
              "      <td>1</td>\n",
              "      <td>0</td>\n",
              "      <td>0</td>\n",
              "      <td>1</td>\n",
              "      <td>0</td>\n",
              "      <td>0</td>\n",
              "      <td>...</td>\n",
              "      <td>m</td>\n",
              "      <td>NaN</td>\n",
              "      <td>no</td>\n",
              "      <td>no</td>\n",
              "      <td>Azerbaijan</td>\n",
              "      <td>no</td>\n",
              "      <td>3</td>\n",
              "      <td>18 and more</td>\n",
              "      <td>NaN</td>\n",
              "      <td>NO</td>\n",
              "    </tr>\n",
              "    <tr>\n",
              "      <th>659</th>\n",
              "      <td>660</td>\n",
              "      <td>1</td>\n",
              "      <td>1</td>\n",
              "      <td>1</td>\n",
              "      <td>1</td>\n",
              "      <td>1</td>\n",
              "      <td>1</td>\n",
              "      <td>0</td>\n",
              "      <td>0</td>\n",
              "      <td>1</td>\n",
              "      <td>...</td>\n",
              "      <td>m</td>\n",
              "      <td>NaN</td>\n",
              "      <td>no</td>\n",
              "      <td>no</td>\n",
              "      <td>Pakistan</td>\n",
              "      <td>no</td>\n",
              "      <td>8</td>\n",
              "      <td>18 and more</td>\n",
              "      <td>NaN</td>\n",
              "      <td>YES</td>\n",
              "    </tr>\n",
              "    <tr>\n",
              "      <th>666</th>\n",
              "      <td>667</td>\n",
              "      <td>0</td>\n",
              "      <td>0</td>\n",
              "      <td>0</td>\n",
              "      <td>0</td>\n",
              "      <td>0</td>\n",
              "      <td>0</td>\n",
              "      <td>0</td>\n",
              "      <td>1</td>\n",
              "      <td>0</td>\n",
              "      <td>...</td>\n",
              "      <td>m</td>\n",
              "      <td>NaN</td>\n",
              "      <td>no</td>\n",
              "      <td>no</td>\n",
              "      <td>Iraq</td>\n",
              "      <td>no</td>\n",
              "      <td>1</td>\n",
              "      <td>18 and more</td>\n",
              "      <td>NaN</td>\n",
              "      <td>NO</td>\n",
              "    </tr>\n",
              "    <tr>\n",
              "      <th>701</th>\n",
              "      <td>702</td>\n",
              "      <td>1</td>\n",
              "      <td>0</td>\n",
              "      <td>1</td>\n",
              "      <td>1</td>\n",
              "      <td>1</td>\n",
              "      <td>0</td>\n",
              "      <td>1</td>\n",
              "      <td>1</td>\n",
              "      <td>0</td>\n",
              "      <td>...</td>\n",
              "      <td>f</td>\n",
              "      <td>NaN</td>\n",
              "      <td>no</td>\n",
              "      <td>no</td>\n",
              "      <td>Russia</td>\n",
              "      <td>no</td>\n",
              "      <td>7</td>\n",
              "      <td>18 and more</td>\n",
              "      <td>NaN</td>\n",
              "      <td>YES</td>\n",
              "    </tr>\n",
              "  </tbody>\n",
              "</table>\n",
              "<p>95 rows × 22 columns</p>\n",
              "</div>"
            ]
          },
          "metadata": {
            "tags": []
          },
          "execution_count": 135
        }
      ]
    },
    {
      "cell_type": "markdown",
      "metadata": {
        "deletable": true,
        "editable": true,
        "id": "V8u-azF6-dci"
      },
      "source": [
        "Since the missing data seems randomly distributed, I go ahead and drop rows with missing data. "
      ]
    },
    {
      "cell_type": "code",
      "metadata": {
        "deletable": true,
        "editable": true,
        "colab": {
          "base_uri": "https://localhost:8080/",
          "height": 300
        },
        "id": "cqpoAOFe-dci",
        "outputId": "13e6d85b-be4b-4ce3-d90a-f92f4201b773"
      },
      "source": [
        "asd_data.dropna(inplace=True)\n",
        "asd_data.describe()"
      ],
      "execution_count": null,
      "outputs": [
        {
          "output_type": "execute_result",
          "data": {
            "text/plain": [
              "               id    A1_Score    A2_Score    A3_Score    A4_Score    A5_Score  \\\n",
              "count  609.000000  609.000000  609.000000  609.000000  609.000000  609.000000   \n",
              "mean   349.725780    0.740558    0.469622    0.481117    0.520525    0.525452   \n",
              "std    207.856238    0.438689    0.499487    0.500054    0.499989    0.499762   \n",
              "min      1.000000    0.000000    0.000000    0.000000    0.000000    0.000000   \n",
              "25%    166.000000    0.000000    0.000000    0.000000    0.000000    0.000000   \n",
              "50%    329.000000    1.000000    0.000000    0.000000    1.000000    1.000000   \n",
              "75%    533.000000    1.000000    1.000000    1.000000    1.000000    1.000000   \n",
              "max    704.000000    1.000000    1.000000    1.000000    1.000000    1.000000   \n",
              "\n",
              "         A6_Score    A7_Score    A8_Score    A9_Score   A10_Score         age  \\\n",
              "count  609.000000  609.000000  609.000000  609.000000  609.000000  609.000000   \n",
              "mean     0.307061    0.428571    0.665025    0.341544    0.597701   30.215107   \n",
              "std      0.461654    0.495278    0.472370    0.474617    0.490765   17.287470   \n",
              "min      0.000000    0.000000    0.000000    0.000000    0.000000   17.000000   \n",
              "25%      0.000000    0.000000    0.000000    0.000000    0.000000   22.000000   \n",
              "50%      0.000000    0.000000    1.000000    0.000000    1.000000   27.000000   \n",
              "75%      1.000000    1.000000    1.000000    1.000000    1.000000   35.000000   \n",
              "max      1.000000    1.000000    1.000000    1.000000    1.000000  383.000000   \n",
              "\n",
              "           result  \n",
              "count  609.000000  \n",
              "mean     5.077176  \n",
              "std      2.522717  \n",
              "min      0.000000  \n",
              "25%      3.000000  \n",
              "50%      5.000000  \n",
              "75%      7.000000  \n",
              "max     10.000000  "
            ],
            "text/html": [
              "<div>\n",
              "<style scoped>\n",
              "    .dataframe tbody tr th:only-of-type {\n",
              "        vertical-align: middle;\n",
              "    }\n",
              "\n",
              "    .dataframe tbody tr th {\n",
              "        vertical-align: top;\n",
              "    }\n",
              "\n",
              "    .dataframe thead th {\n",
              "        text-align: right;\n",
              "    }\n",
              "</style>\n",
              "<table border=\"1\" class=\"dataframe\">\n",
              "  <thead>\n",
              "    <tr style=\"text-align: right;\">\n",
              "      <th></th>\n",
              "      <th>id</th>\n",
              "      <th>A1_Score</th>\n",
              "      <th>A2_Score</th>\n",
              "      <th>A3_Score</th>\n",
              "      <th>A4_Score</th>\n",
              "      <th>A5_Score</th>\n",
              "      <th>A6_Score</th>\n",
              "      <th>A7_Score</th>\n",
              "      <th>A8_Score</th>\n",
              "      <th>A9_Score</th>\n",
              "      <th>A10_Score</th>\n",
              "      <th>age</th>\n",
              "      <th>result</th>\n",
              "    </tr>\n",
              "  </thead>\n",
              "  <tbody>\n",
              "    <tr>\n",
              "      <th>count</th>\n",
              "      <td>609.000000</td>\n",
              "      <td>609.000000</td>\n",
              "      <td>609.000000</td>\n",
              "      <td>609.000000</td>\n",
              "      <td>609.000000</td>\n",
              "      <td>609.000000</td>\n",
              "      <td>609.000000</td>\n",
              "      <td>609.000000</td>\n",
              "      <td>609.000000</td>\n",
              "      <td>609.000000</td>\n",
              "      <td>609.000000</td>\n",
              "      <td>609.000000</td>\n",
              "      <td>609.000000</td>\n",
              "    </tr>\n",
              "    <tr>\n",
              "      <th>mean</th>\n",
              "      <td>349.725780</td>\n",
              "      <td>0.740558</td>\n",
              "      <td>0.469622</td>\n",
              "      <td>0.481117</td>\n",
              "      <td>0.520525</td>\n",
              "      <td>0.525452</td>\n",
              "      <td>0.307061</td>\n",
              "      <td>0.428571</td>\n",
              "      <td>0.665025</td>\n",
              "      <td>0.341544</td>\n",
              "      <td>0.597701</td>\n",
              "      <td>30.215107</td>\n",
              "      <td>5.077176</td>\n",
              "    </tr>\n",
              "    <tr>\n",
              "      <th>std</th>\n",
              "      <td>207.856238</td>\n",
              "      <td>0.438689</td>\n",
              "      <td>0.499487</td>\n",
              "      <td>0.500054</td>\n",
              "      <td>0.499989</td>\n",
              "      <td>0.499762</td>\n",
              "      <td>0.461654</td>\n",
              "      <td>0.495278</td>\n",
              "      <td>0.472370</td>\n",
              "      <td>0.474617</td>\n",
              "      <td>0.490765</td>\n",
              "      <td>17.287470</td>\n",
              "      <td>2.522717</td>\n",
              "    </tr>\n",
              "    <tr>\n",
              "      <th>min</th>\n",
              "      <td>1.000000</td>\n",
              "      <td>0.000000</td>\n",
              "      <td>0.000000</td>\n",
              "      <td>0.000000</td>\n",
              "      <td>0.000000</td>\n",
              "      <td>0.000000</td>\n",
              "      <td>0.000000</td>\n",
              "      <td>0.000000</td>\n",
              "      <td>0.000000</td>\n",
              "      <td>0.000000</td>\n",
              "      <td>0.000000</td>\n",
              "      <td>17.000000</td>\n",
              "      <td>0.000000</td>\n",
              "    </tr>\n",
              "    <tr>\n",
              "      <th>25%</th>\n",
              "      <td>166.000000</td>\n",
              "      <td>0.000000</td>\n",
              "      <td>0.000000</td>\n",
              "      <td>0.000000</td>\n",
              "      <td>0.000000</td>\n",
              "      <td>0.000000</td>\n",
              "      <td>0.000000</td>\n",
              "      <td>0.000000</td>\n",
              "      <td>0.000000</td>\n",
              "      <td>0.000000</td>\n",
              "      <td>0.000000</td>\n",
              "      <td>22.000000</td>\n",
              "      <td>3.000000</td>\n",
              "    </tr>\n",
              "    <tr>\n",
              "      <th>50%</th>\n",
              "      <td>329.000000</td>\n",
              "      <td>1.000000</td>\n",
              "      <td>0.000000</td>\n",
              "      <td>0.000000</td>\n",
              "      <td>1.000000</td>\n",
              "      <td>1.000000</td>\n",
              "      <td>0.000000</td>\n",
              "      <td>0.000000</td>\n",
              "      <td>1.000000</td>\n",
              "      <td>0.000000</td>\n",
              "      <td>1.000000</td>\n",
              "      <td>27.000000</td>\n",
              "      <td>5.000000</td>\n",
              "    </tr>\n",
              "    <tr>\n",
              "      <th>75%</th>\n",
              "      <td>533.000000</td>\n",
              "      <td>1.000000</td>\n",
              "      <td>1.000000</td>\n",
              "      <td>1.000000</td>\n",
              "      <td>1.000000</td>\n",
              "      <td>1.000000</td>\n",
              "      <td>1.000000</td>\n",
              "      <td>1.000000</td>\n",
              "      <td>1.000000</td>\n",
              "      <td>1.000000</td>\n",
              "      <td>1.000000</td>\n",
              "      <td>35.000000</td>\n",
              "      <td>7.000000</td>\n",
              "    </tr>\n",
              "    <tr>\n",
              "      <th>max</th>\n",
              "      <td>704.000000</td>\n",
              "      <td>1.000000</td>\n",
              "      <td>1.000000</td>\n",
              "      <td>1.000000</td>\n",
              "      <td>1.000000</td>\n",
              "      <td>1.000000</td>\n",
              "      <td>1.000000</td>\n",
              "      <td>1.000000</td>\n",
              "      <td>1.000000</td>\n",
              "      <td>1.000000</td>\n",
              "      <td>1.000000</td>\n",
              "      <td>383.000000</td>\n",
              "      <td>10.000000</td>\n",
              "    </tr>\n",
              "  </tbody>\n",
              "</table>\n",
              "</div>"
            ]
          },
          "metadata": {
            "tags": []
          },
          "execution_count": 136
        }
      ]
    },
    {
      "cell_type": "markdown",
      "metadata": {
        "deletable": true,
        "editable": true,
        "id": "RQz44ar--dci"
      },
      "source": [
        "### If we could have fill with median values for 'NaN' instead of dropping them, but in this situation that is little complicated as I have lot of categorical colums with 'NaN'."
      ]
    },
    {
      "cell_type": "code",
      "metadata": {
        "deletable": true,
        "editable": true,
        "id": "GQWDpacM-dci"
      },
      "source": [
        "#asd_data.median()\n",
        "#numerical = ['age', 'result']\n",
        "#asd_data.fillna(asd_data[numerical].median())\n",
        "#asd_data.describe()"
      ],
      "execution_count": null,
      "outputs": []
    },
    {
      "cell_type": "markdown",
      "metadata": {
        "deletable": true,
        "editable": true,
        "id": "RVPZeHXU-dci"
      },
      "source": [
        "Let's check out the data types of all our features including the target feature. Moreover, lets count the total number of instances and the target-class distribution."
      ]
    },
    {
      "cell_type": "code",
      "metadata": {
        "deletable": true,
        "editable": true,
        "colab": {
          "base_uri": "https://localhost:8080/"
        },
        "id": "2MUuVcRC-dci",
        "outputId": "58e6f39c-d7fe-4389-e488-045b2ece2658"
      },
      "source": [
        "# Reminder of the features:\n",
        "print(asd_data.dtypes)\n",
        "\n",
        "\n",
        "# Total number of records in clean dataset\n",
        "n_records = len(asd_data.index)\n",
        "\n",
        "# TODO: Number of records where individual's with ASD in the clean dataset\n",
        "n_asd_yes = len(asd_data[asd_data['Class/ASD'] == 'YES'])\n",
        "\n",
        "# TODO: Number of records where individual's with no ASD in the clean dataset\n",
        "n_asd_no = len(asd_data[asd_data['Class/ASD'] == 'NO'])\n",
        "\n",
        "# Print the results\n",
        "print \"Total number of records: {}\".format(n_records)\n",
        "print \"Individuals diagonised with ASD: {}\".format(n_asd_yes)\n",
        "print \"Individuals not diagonised with ASD: {}\".format(n_asd_no)"
      ],
      "execution_count": null,
      "outputs": [
        {
          "output_type": "stream",
          "text": [
            "id                   int64\n",
            "A1_Score             int64\n",
            "A2_Score             int64\n",
            "A3_Score             int64\n",
            "A4_Score             int64\n",
            "A5_Score             int64\n",
            "A6_Score             int64\n",
            "A7_Score             int64\n",
            "A8_Score             int64\n",
            "A9_Score             int64\n",
            "A10_Score            int64\n",
            "age                float64\n",
            "gender              object\n",
            "ethnicity           object\n",
            "jundice             object\n",
            "austim              object\n",
            "contry_of_res       object\n",
            "used_app_before     object\n",
            "result               int64\n",
            "age_desc            object\n",
            "relation            object\n",
            "Class/ASD           object\n",
            "dtype: object\n",
            "Total number of records: 609\n",
            "Individuals diagonised with ASD: 180\n",
            "Individuals not diagonised with ASD: 429\n"
          ],
          "name": "stdout"
        }
      ]
    },
    {
      "cell_type": "markdown",
      "metadata": {
        "deletable": true,
        "editable": true,
        "id": "nKU3mnuk-dci"
      },
      "source": [
        "#### REMOVE PART ---> and keep only one model data\n",
        "---\n",
        "<a id='step2'></a>\n",
        "\n",
        "## Step 2: A quick visualization with *Seaborn*"
      ]
    },
    {
      "cell_type": "code",
      "metadata": {
        "deletable": true,
        "editable": true,
        "id": "fD3QEwN6-dci"
      },
      "source": [
        "import seaborn as sns\n",
        "import matplotlib.pyplot as plt\n",
        "sns.set(style=\"whitegrid\", color_codes=True)"
      ],
      "execution_count": null,
      "outputs": []
    },
    {
      "cell_type": "code",
      "metadata": {
        "deletable": true,
        "editable": true,
        "colab": {
          "base_uri": "https://localhost:8080/",
          "height": 291
        },
        "id": "U3Praafa-dci",
        "outputId": "31b45975-6801-4d81-a554-74097dace6a4"
      },
      "source": [
        "# Draw a nested violinplot and split the violins for easier comparison\n",
        "sns.violinplot(x=\"jundice\", y=\"result\", hue=\"austim\", data=asd_data, split=True,\n",
        "                inner=\"quart\", palette={'yes': \"r\", 'no': \"b\"})\n",
        "sns.despine(left=True)"
      ],
      "execution_count": null,
      "outputs": [
        {
          "output_type": "display_data",
          "data": {
            "image/png": "[encoded data removed]",
            "text/plain": [
              "<Figure size 432x288 with 1 Axes>"
            ]
          },
          "metadata": {
            "tags": []
          }
        }
      ]
    },
    {
      "cell_type": "code",
      "metadata": {
        "deletable": true,
        "editable": true,
        "colab": {
          "base_uri": "https://localhost:8080/",
          "height": 291
        },
        "id": "dTIsFPBB-dci",
        "outputId": "bb9b2286-b0d9-46e2-cecc-edfe33c61ee4"
      },
      "source": [
        "# Draw a nested violinplot and split the violins for easier comparison\n",
        "sns.violinplot(x=\"jundice\", y=\"result\", hue=\"Class/ASD\", data=asd_data, split=True,\n",
        "                inner=\"quart\", palette={'YES': \"r\", 'NO': \"b\"})\n",
        "sns.despine(left=True)"
      ],
      "execution_count": null,
      "outputs": [
        {
          "output_type": "display_data",
          "data": {
            "image/png": "[encoded data removed]",
            "text/plain": [
              "<Figure size 432x288 with 1 Axes>"
            ]
          },
          "metadata": {
            "tags": []
          }
        }
      ]
    },
    {
      "cell_type": "code",
      "metadata": {
        "deletable": true,
        "editable": true,
        "colab": {
          "base_uri": "https://localhost:8080/",
          "height": 291
        },
        "id": "aUF6xZJm-dci",
        "outputId": "b4f83a15-61fd-4049-fe99-115373e8cf4e"
      },
      "source": [
        "# Draw a nested violinplot and split the violins for easier comparison\n",
        "sns.violinplot(x=\"gender\", y=\"result\", hue=\"Class/ASD\", data=asd_data, split=True,\n",
        "                inner=\"quart\", palette={'YES': \"r\", 'NO': \"b\"})\n",
        "sns.despine(left=True)"
      ],
      "execution_count": null,
      "outputs": [
        {
          "output_type": "display_data",
          "data": {
            "image/png": "[encoded data removed]",
            "text/plain": [
              "<Figure size 432x288 with 1 Axes>"
            ]
          },
          "metadata": {
            "tags": []
          }
        }
      ]
    },
    {
      "cell_type": "code",
      "metadata": {
        "deletable": true,
        "editable": true,
        "colab": {
          "base_uri": "https://localhost:8080/",
          "height": 365
        },
        "id": "eBHiXYLG-dci",
        "outputId": "d2163e86-4f8b-48ca-8716-0ff1ad4cb260"
      },
      "source": [
        "sns.factorplot(x=\"jundice\", y=\"result\", hue=\"Class/ASD\", col=\"gender\", data=asd_data, kind=\"swarm\");"
      ],
      "execution_count": null,
      "outputs": [
        {
          "output_type": "display_data",
          "data": {
            "image/png": "[encoded data removed]",
            "text/plain": [
              "<Figure size 780.675x360 with 2 Axes>"
            ]
          },
          "metadata": {
            "tags": []
          }
        }
      ]
    },
    {
      "cell_type": "code",
      "metadata": {
        "deletable": true,
        "editable": true,
        "colab": {
          "base_uri": "https://localhost:8080/",
          "height": 293
        },
        "id": "fh5_Dy6u-dci",
        "outputId": "f25124bf-13d9-4620-e87a-5819e26fb31f"
      },
      "source": [
        "sns.factorplot(x=\"gender\", y=\"result\", hue=\"Class/ASD\",\n",
        "               col=\"relation\", data=asd_data, kind=\"box\", size=4, aspect=.5, palette={'YES': \"b\", 'NO': \"r\"});"
      ],
      "execution_count": null,
      "outputs": [
        {
          "output_type": "display_data",
          "data": {
            "image/png": "[encoded data removed]",
            "text/plain": [
              "<Figure size 780.675x288 with 5 Axes>"
            ]
          },
          "metadata": {
            "tags": []
          }
        }
      ]
    },
    {
      "cell_type": "code",
      "metadata": {
        "deletable": true,
        "editable": true,
        "colab": {
          "base_uri": "https://localhost:8080/",
          "height": 725
        },
        "id": "9MGZinz0-dci",
        "outputId": "c16a597d-a298-40b3-a22e-0536d160549f"
      },
      "source": [
        "g = sns.factorplot(x=\"result\", y=\"jundice\",\n",
        "                   hue=\"gender\", row=\"relation\",\n",
        "                   data=asd_data,\n",
        "                    orient=\"h\", size=2, aspect=3.5, palette={'f': \"r\", 'm': \"b\"},\n",
        "                  kind=\"violin\", dodge=True, cut=0, bw=.2)"
      ],
      "execution_count": null,
      "outputs": [
        {
          "output_type": "display_data",
          "data": {
            "image/png": "[encoded data removed]",
            "text/plain": [
              "<Figure size 554.35x720 with 5 Axes>"
            ]
          },
          "metadata": {
            "tags": []
          }
        }
      ]
    },
    {
      "cell_type": "markdown",
      "metadata": {
        "deletable": true,
        "editable": true,
        "id": "PBTspTdP-dcj"
      },
      "source": [
        "In the two figures above, I have used two different depiction techniques to have a quick peek on the ASD dataset we are dealing with. Both of the occasions I have used `factorplot` module from `seaborn` visualization software. In the first case, I used '`swamp`' kind of graph expressing the relationship between several different features present in the data whereas in the second case, '`box`' method was used to present the visual way of showing how different features were associated with each other."
      ]
    },
    {
      "cell_type": "markdown",
      "metadata": {
        "collapsed": true,
        "deletable": true,
        "editable": true,
        "id": "Wtg2-r3y-dcj"
      },
      "source": [
        "Next I'll need to convert the Pandas dataframes into numpy arrays that can be used by scikit_learn. Let's create an array that extracts only the feature data we want to work with and another array that contains the classes (class/ASD). "
      ]
    },
    {
      "cell_type": "code",
      "metadata": {
        "deletable": true,
        "editable": true,
        "id": "X6WSWkEV-dcj"
      },
      "source": [
        "# Split the data into features and target label\n",
        "asd_raw = asd_data['Class/ASD']\n",
        "features_raw = asd_data[['age', 'gender', 'ethnicity', 'jundice', 'austim', 'contry_of_res', 'result',\n",
        "                      'relation','A1_Score','A2_Score','A3_Score','A4_Score','A5_Score','A6_Score','A7_Score','A8_Score',\n",
        "                      'A9_Score','A10_Score']]"
      ],
      "execution_count": null,
      "outputs": []
    },
    {
      "cell_type": "markdown",
      "metadata": {
        "deletable": true,
        "editable": true,
        "id": "3gBHru1l-dcj"
      },
      "source": [
        "Some of our models require the input data to be normalized, so I proceed to normalize the attribute data. Here, I use preprocessing.MinMaxScaler()."
      ]
    },
    {
      "cell_type": "code",
      "metadata": {
        "deletable": true,
        "editable": true,
        "colab": {
          "base_uri": "https://localhost:8080/",
          "height": 206
        },
        "id": "J7Ynnwf0-dcj",
        "outputId": "ff96ee0c-dd76-4c39-a931-098041dd102d"
      },
      "source": [
        "from sklearn.preprocessing import MinMaxScaler\n",
        "\n",
        "scaler = MinMaxScaler()\n",
        "numerical = ['age', 'result']\n",
        "\n",
        "features_minmax_transform = pd.DataFrame(data = features_raw)\n",
        "features_minmax_transform[numerical] = scaler.fit_transform(features_raw[numerical])\n",
        "features_minmax_transform\n",
        "# Show an example of a record with scaling applied\n",
        "display(features_minmax_transform.head(n = 5))"
      ],
      "execution_count": null,
      "outputs": [
        {
          "output_type": "display_data",
          "data": {
            "text/plain": [
              "        age gender       ethnicity jundice austim  contry_of_res  result  \\\n",
              "0  0.024590      f  White-European      no     no  United States     0.6   \n",
              "1  0.019126      m          Latino      no    yes         Brazil     0.5   \n",
              "2  0.027322      m          Latino     yes    yes          Spain     0.8   \n",
              "3  0.049180      f  White-European      no    yes  United States     0.6   \n",
              "5  0.051913      m          Others     yes     no  United States     0.9   \n",
              "\n",
              "  relation  A1_Score  A2_Score  A3_Score  A4_Score  A5_Score  A6_Score  \\\n",
              "0     Self         1         1         1         1         0         0   \n",
              "1     Self         1         1         0         1         0         0   \n",
              "2   Parent         1         1         0         1         1         0   \n",
              "3     Self         1         1         0         1         0         0   \n",
              "5     Self         1         1         1         1         1         0   \n",
              "\n",
              "   A7_Score  A8_Score  A9_Score  A10_Score  \n",
              "0         1         1         0          0  \n",
              "1         0         1         0          1  \n",
              "2         1         1         1          1  \n",
              "3         1         1         0          1  \n",
              "5         1         1         1          1  "
            ],
            "text/html": [
              "<div>\n",
              "<style scoped>\n",
              "    .dataframe tbody tr th:only-of-type {\n",
              "        vertical-align: middle;\n",
              "    }\n",
              "\n",
              "    .dataframe tbody tr th {\n",
              "        vertical-align: top;\n",
              "    }\n",
              "\n",
              "    .dataframe thead th {\n",
              "        text-align: right;\n",
              "    }\n",
              "</style>\n",
              "<table border=\"1\" class=\"dataframe\">\n",
              "  <thead>\n",
              "    <tr style=\"text-align: right;\">\n",
              "      <th></th>\n",
              "      <th>age</th>\n",
              "      <th>gender</th>\n",
              "      <th>ethnicity</th>\n",
              "      <th>jundice</th>\n",
              "      <th>austim</th>\n",
              "      <th>contry_of_res</th>\n",
              "      <th>result</th>\n",
              "      <th>relation</th>\n",
              "      <th>A1_Score</th>\n",
              "      <th>A2_Score</th>\n",
              "      <th>A3_Score</th>\n",
              "      <th>A4_Score</th>\n",
              "      <th>A5_Score</th>\n",
              "      <th>A6_Score</th>\n",
              "      <th>A7_Score</th>\n",
              "      <th>A8_Score</th>\n",
              "      <th>A9_Score</th>\n",
              "      <th>A10_Score</th>\n",
              "    </tr>\n",
              "  </thead>\n",
              "  <tbody>\n",
              "    <tr>\n",
              "      <th>0</th>\n",
              "      <td>0.024590</td>\n",
              "      <td>f</td>\n",
              "      <td>White-European</td>\n",
              "      <td>no</td>\n",
              "      <td>no</td>\n",
              "      <td>United States</td>\n",
              "      <td>0.6</td>\n",
              "      <td>Self</td>\n",
              "      <td>1</td>\n",
              "      <td>1</td>\n",
              "      <td>1</td>\n",
              "      <td>1</td>\n",
              "      <td>0</td>\n",
              "      <td>0</td>\n",
              "      <td>1</td>\n",
              "      <td>1</td>\n",
              "      <td>0</td>\n",
              "      <td>0</td>\n",
              "    </tr>\n",
              "    <tr>\n",
              "      <th>1</th>\n",
              "      <td>0.019126</td>\n",
              "      <td>m</td>\n",
              "      <td>Latino</td>\n",
              "      <td>no</td>\n",
              "      <td>yes</td>\n",
              "      <td>Brazil</td>\n",
              "      <td>0.5</td>\n",
              "      <td>Self</td>\n",
              "      <td>1</td>\n",
              "      <td>1</td>\n",
              "      <td>0</td>\n",
              "      <td>1</td>\n",
              "      <td>0</td>\n",
              "      <td>0</td>\n",
              "      <td>0</td>\n",
              "      <td>1</td>\n",
              "      <td>0</td>\n",
              "      <td>1</td>\n",
              "    </tr>\n",
              "    <tr>\n",
              "      <th>2</th>\n",
              "      <td>0.027322</td>\n",
              "      <td>m</td>\n",
              "      <td>Latino</td>\n",
              "      <td>yes</td>\n",
              "      <td>yes</td>\n",
              "      <td>Spain</td>\n",
              "      <td>0.8</td>\n",
              "      <td>Parent</td>\n",
              "      <td>1</td>\n",
              "      <td>1</td>\n",
              "      <td>0</td>\n",
              "      <td>1</td>\n",
              "      <td>1</td>\n",
              "      <td>0</td>\n",
              "      <td>1</td>\n",
              "      <td>1</td>\n",
              "      <td>1</td>\n",
              "      <td>1</td>\n",
              "    </tr>\n",
              "    <tr>\n",
              "      <th>3</th>\n",
              "      <td>0.049180</td>\n",
              "      <td>f</td>\n",
              "      <td>White-European</td>\n",
              "      <td>no</td>\n",
              "      <td>yes</td>\n",
              "      <td>United States</td>\n",
              "      <td>0.6</td>\n",
              "      <td>Self</td>\n",
              "      <td>1</td>\n",
              "      <td>1</td>\n",
              "      <td>0</td>\n",
              "      <td>1</td>\n",
              "      <td>0</td>\n",
              "      <td>0</td>\n",
              "      <td>1</td>\n",
              "      <td>1</td>\n",
              "      <td>0</td>\n",
              "      <td>1</td>\n",
              "    </tr>\n",
              "    <tr>\n",
              "      <th>5</th>\n",
              "      <td>0.051913</td>\n",
              "      <td>m</td>\n",
              "      <td>Others</td>\n",
              "      <td>yes</td>\n",
              "      <td>no</td>\n",
              "      <td>United States</td>\n",
              "      <td>0.9</td>\n",
              "      <td>Self</td>\n",
              "      <td>1</td>\n",
              "      <td>1</td>\n",
              "      <td>1</td>\n",
              "      <td>1</td>\n",
              "      <td>1</td>\n",
              "      <td>0</td>\n",
              "      <td>1</td>\n",
              "      <td>1</td>\n",
              "      <td>1</td>\n",
              "      <td>1</td>\n",
              "    </tr>\n",
              "  </tbody>\n",
              "</table>\n",
              "</div>"
            ]
          },
          "metadata": {
            "tags": []
          }
        }
      ]
    },
    {
      "cell_type": "markdown",
      "metadata": {
        "deletable": true,
        "editable": true,
        "id": "C7gr217A-dcj"
      },
      "source": [
        "### One-Hot-Coding\n",
        "\n",
        "From the table in **Clean Data Sets** above, we can see there are several features for each record that are non-numeric such as `Country_of_residence`, `ethnicity` etc. Typically, learning algorithms expect input to be numeric, which requires that non-numeric features (called *categorical variables*) be converted. One popular way to convert categorical variables is by using the **one-hot encoding** scheme. One-hot encoding creates a _\"dummy\"_ variable for each possible category of each non-numeric feature. For example, assume `someFeature` has three possible entries: `A`, `B`, or `C`. We then encode this feature into `someFeature_A`, `someFeature_B` and `someFeature_C`.\n",
        "\n",
        "|   | someFeature |                    | someFeature_A | someFeature_B | someFeature_C |\n",
        "| :-: | :-: |                            | :-: | :-: | :-: |\n",
        "| 0 |  B  |  | 0 | 1 | 0 |\n",
        "| 1 |  C  | ----> one-hot encode ----> | 0 | 0 | 1 |\n",
        "| 2 |  A  |  | 1 | 0 | 0 |\n",
        "\n",
        "Additionally, as with the non-numeric features, I need to convert the non-numeric target label, `'Class/ASD'` to numerical values for the learning algorithm to work. Since there are only two possible categories for this label (\"YES\" and \"NO\" to Class/ASD), I can avoid using one-hot encoding and simply encode these two categories as `0` and `1`, respectively. In code cell below, I will implement the following:\n",
        " - Use [`pandas.get_dummies()`](http://pandas.pydata.org/pandas-docs/stable/generated/pandas.get_dummies.html?highlight=get_dummies#pandas.get_dummies) to perform one-hot encoding on the `'features_minmax_transform'` data.\n",
        " - Convert the target label `'asd_raw'` to numerical entries.\n",
        "   - Set records with \"NO\" to `0` and records with \"YES\" to `1`."
      ]
    },
    {
      "cell_type": "code",
      "metadata": {
        "deletable": true,
        "editable": true,
        "colab": {
          "base_uri": "https://localhost:8080/",
          "height": 327
        },
        "id": "R_X_llMK-dcj",
        "outputId": "85f0d641-a716-4a22-b9a4-8af344af0301"
      },
      "source": [
        "#One-hot encode the 'features_minmax_transform' data using pandas.get_dummies()\n",
        "features_final = pd.get_dummies(features_minmax_transform)\n",
        "display(features_final.head(5))\n",
        "\n",
        "\n",
        "# Encode the 'all_classes_raw' data to numerical values\n",
        "asd_classes = asd_raw.apply(lambda x: 1 if x == 'YES' else 0)\n",
        "\n",
        "\n",
        "\n",
        "# Print the number of features after one-hot encoding\n",
        "encoded = list(features_final.columns)\n",
        "print \"{} total features after one-hot encoding.\".format(len(encoded))\n",
        "\n",
        "# Uncomment the following line to see the encoded feature names\n",
        "print encoded"
      ],
      "execution_count": null,
      "outputs": [
        {
          "output_type": "display_data",
          "data": {
            "text/plain": [
              "        age  result  A1_Score  A2_Score  A3_Score  A4_Score  A5_Score  \\\n",
              "0  0.024590     0.6         1         1         1         1         0   \n",
              "1  0.019126     0.5         1         1         0         1         0   \n",
              "2  0.027322     0.8         1         1         0         1         1   \n",
              "3  0.049180     0.6         1         1         0         1         0   \n",
              "5  0.051913     0.9         1         1         1         1         1   \n",
              "\n",
              "   A6_Score  A7_Score  A8_Score  ...  contry_of_res_United Arab Emirates  \\\n",
              "0         0         1         1  ...                                   0   \n",
              "1         0         0         1  ...                                   0   \n",
              "2         0         1         1  ...                                   0   \n",
              "3         0         1         1  ...                                   0   \n",
              "5         0         1         1  ...                                   0   \n",
              "\n",
              "   contry_of_res_United Kingdom  contry_of_res_United States  \\\n",
              "0                             0                            1   \n",
              "1                             0                            0   \n",
              "2                             0                            0   \n",
              "3                             0                            1   \n",
              "5                             0                            1   \n",
              "\n",
              "   contry_of_res_Uruguay  contry_of_res_Viet Nam  \\\n",
              "0                      0                       0   \n",
              "1                      0                       0   \n",
              "2                      0                       0   \n",
              "3                      0                       0   \n",
              "5                      0                       0   \n",
              "\n",
              "   relation_Health care professional  relation_Others  relation_Parent  \\\n",
              "0                                  0                0                0   \n",
              "1                                  0                0                0   \n",
              "2                                  0                0                1   \n",
              "3                                  0                0                0   \n",
              "5                                  0                0                0   \n",
              "\n",
              "   relation_Relative  relation_Self  \n",
              "0                  0              1  \n",
              "1                  0              1  \n",
              "2                  0              0  \n",
              "3                  0              1  \n",
              "5                  0              1  \n",
              "\n",
              "[5 rows x 94 columns]"
            ],
            "text/html": [
              "<div>\n",
              "<style scoped>\n",
              "    .dataframe tbody tr th:only-of-type {\n",
              "        vertical-align: middle;\n",
              "    }\n",
              "\n",
              "    .dataframe tbody tr th {\n",
              "        vertical-align: top;\n",
              "    }\n",
              "\n",
              "    .dataframe thead th {\n",
              "        text-align: right;\n",
              "    }\n",
              "</style>\n",
              "<table border=\"1\" class=\"dataframe\">\n",
              "  <thead>\n",
              "    <tr style=\"text-align: right;\">\n",
              "      <th></th>\n",
              "      <th>age</th>\n",
              "      <th>result</th>\n",
              "      <th>A1_Score</th>\n",
              "      <th>A2_Score</th>\n",
              "      <th>A3_Score</th>\n",
              "      <th>A4_Score</th>\n",
              "      <th>A5_Score</th>\n",
              "      <th>A6_Score</th>\n",
              "      <th>A7_Score</th>\n",
              "      <th>A8_Score</th>\n",
              "      <th>...</th>\n",
              "      <th>contry_of_res_United Arab Emirates</th>\n",
              "      <th>contry_of_res_United Kingdom</th>\n",
              "      <th>contry_of_res_United States</th>\n",
              "      <th>contry_of_res_Uruguay</th>\n",
              "      <th>contry_of_res_Viet Nam</th>\n",
              "      <th>relation_Health care professional</th>\n",
              "      <th>relation_Others</th>\n",
              "      <th>relation_Parent</th>\n",
              "      <th>relation_Relative</th>\n",
              "      <th>relation_Self</th>\n",
              "    </tr>\n",
              "  </thead>\n",
              "  <tbody>\n",
              "    <tr>\n",
              "      <th>0</th>\n",
              "      <td>0.024590</td>\n",
              "      <td>0.6</td>\n",
              "      <td>1</td>\n",
              "      <td>1</td>\n",
              "      <td>1</td>\n",
              "      <td>1</td>\n",
              "      <td>0</td>\n",
              "      <td>0</td>\n",
              "      <td>1</td>\n",
              "      <td>1</td>\n",
              "      <td>...</td>\n",
              "      <td>0</td>\n",
              "      <td>0</td>\n",
              "      <td>1</td>\n",
              "      <td>0</td>\n",
              "      <td>0</td>\n",
              "      <td>0</td>\n",
              "      <td>0</td>\n",
              "      <td>0</td>\n",
              "      <td>0</td>\n",
              "      <td>1</td>\n",
              "    </tr>\n",
              "    <tr>\n",
              "      <th>1</th>\n",
              "      <td>0.019126</td>\n",
              "      <td>0.5</td>\n",
              "      <td>1</td>\n",
              "      <td>1</td>\n",
              "      <td>0</td>\n",
              "      <td>1</td>\n",
              "      <td>0</td>\n",
              "      <td>0</td>\n",
              "      <td>0</td>\n",
              "      <td>1</td>\n",
              "      <td>...</td>\n",
              "      <td>0</td>\n",
              "      <td>0</td>\n",
              "      <td>0</td>\n",
              "      <td>0</td>\n",
              "      <td>0</td>\n",
              "      <td>0</td>\n",
              "      <td>0</td>\n",
              "      <td>0</td>\n",
              "      <td>0</td>\n",
              "      <td>1</td>\n",
              "    </tr>\n",
              "    <tr>\n",
              "      <th>2</th>\n",
              "      <td>0.027322</td>\n",
              "      <td>0.8</td>\n",
              "      <td>1</td>\n",
              "      <td>1</td>\n",
              "      <td>0</td>\n",
              "      <td>1</td>\n",
              "      <td>1</td>\n",
              "      <td>0</td>\n",
              "      <td>1</td>\n",
              "      <td>1</td>\n",
              "      <td>...</td>\n",
              "      <td>0</td>\n",
              "      <td>0</td>\n",
              "      <td>0</td>\n",
              "      <td>0</td>\n",
              "      <td>0</td>\n",
              "      <td>0</td>\n",
              "      <td>0</td>\n",
              "      <td>1</td>\n",
              "      <td>0</td>\n",
              "      <td>0</td>\n",
              "    </tr>\n",
              "    <tr>\n",
              "      <th>3</th>\n",
              "      <td>0.049180</td>\n",
              "      <td>0.6</td>\n",
              "      <td>1</td>\n",
              "      <td>1</td>\n",
              "      <td>0</td>\n",
              "      <td>1</td>\n",
              "      <td>0</td>\n",
              "      <td>0</td>\n",
              "      <td>1</td>\n",
              "      <td>1</td>\n",
              "      <td>...</td>\n",
              "      <td>0</td>\n",
              "      <td>0</td>\n",
              "      <td>1</td>\n",
              "      <td>0</td>\n",
              "      <td>0</td>\n",
              "      <td>0</td>\n",
              "      <td>0</td>\n",
              "      <td>0</td>\n",
              "      <td>0</td>\n",
              "      <td>1</td>\n",
              "    </tr>\n",
              "    <tr>\n",
              "      <th>5</th>\n",
              "      <td>0.051913</td>\n",
              "      <td>0.9</td>\n",
              "      <td>1</td>\n",
              "      <td>1</td>\n",
              "      <td>1</td>\n",
              "      <td>1</td>\n",
              "      <td>1</td>\n",
              "      <td>0</td>\n",
              "      <td>1</td>\n",
              "      <td>1</td>\n",
              "      <td>...</td>\n",
              "      <td>0</td>\n",
              "      <td>0</td>\n",
              "      <td>1</td>\n",
              "      <td>0</td>\n",
              "      <td>0</td>\n",
              "      <td>0</td>\n",
              "      <td>0</td>\n",
              "      <td>0</td>\n",
              "      <td>0</td>\n",
              "      <td>1</td>\n",
              "    </tr>\n",
              "  </tbody>\n",
              "</table>\n",
              "<p>5 rows × 94 columns</p>\n",
              "</div>"
            ]
          },
          "metadata": {
            "tags": []
          }
        },
        {
          "output_type": "stream",
          "text": [
            "94 total features after one-hot encoding.\n",
            "['age', 'result', 'A1_Score', 'A2_Score', 'A3_Score', 'A4_Score', 'A5_Score', 'A6_Score', 'A7_Score', 'A8_Score', 'A9_Score', 'A10_Score', 'gender_f', 'gender_m', 'ethnicity_Asian', 'ethnicity_Black', 'ethnicity_Hispanic', 'ethnicity_Latino', 'ethnicity_Middle Eastern ', 'ethnicity_Others', 'ethnicity_Pasifika', 'ethnicity_South Asian', 'ethnicity_Turkish', 'ethnicity_White-European', 'ethnicity_others', 'jundice_no', 'jundice_yes', 'austim_no', 'austim_yes', 'contry_of_res_Afghanistan', 'contry_of_res_AmericanSamoa', 'contry_of_res_Angola', 'contry_of_res_Armenia', 'contry_of_res_Aruba', 'contry_of_res_Australia', 'contry_of_res_Austria', 'contry_of_res_Bahamas', 'contry_of_res_Bangladesh', 'contry_of_res_Belgium', 'contry_of_res_Bolivia', 'contry_of_res_Brazil', 'contry_of_res_Burundi', 'contry_of_res_Canada', 'contry_of_res_Chile', 'contry_of_res_China', 'contry_of_res_Costa Rica', 'contry_of_res_Cyprus', 'contry_of_res_Czech Republic', 'contry_of_res_Ecuador', 'contry_of_res_Egypt', 'contry_of_res_Ethiopia', 'contry_of_res_Finland', 'contry_of_res_France', 'contry_of_res_Germany', 'contry_of_res_Iceland', 'contry_of_res_India', 'contry_of_res_Indonesia', 'contry_of_res_Iran', 'contry_of_res_Ireland', 'contry_of_res_Italy', 'contry_of_res_Jordan', 'contry_of_res_Malaysia', 'contry_of_res_Mexico', 'contry_of_res_Nepal', 'contry_of_res_Netherlands', 'contry_of_res_New Zealand', 'contry_of_res_Nicaragua', 'contry_of_res_Niger', 'contry_of_res_Oman', 'contry_of_res_Pakistan', 'contry_of_res_Philippines', 'contry_of_res_Portugal', 'contry_of_res_Romania', 'contry_of_res_Russia', 'contry_of_res_Saudi Arabia', 'contry_of_res_Serbia', 'contry_of_res_Sierra Leone', 'contry_of_res_South Africa', 'contry_of_res_Spain', 'contry_of_res_Sri Lanka', 'contry_of_res_Sweden', 'contry_of_res_Tonga', 'contry_of_res_Turkey', 'contry_of_res_Ukraine', 'contry_of_res_United Arab Emirates', 'contry_of_res_United Kingdom', 'contry_of_res_United States', 'contry_of_res_Uruguay', 'contry_of_res_Viet Nam', 'relation_Health care professional', 'relation_Others', 'relation_Parent', 'relation_Relative', 'relation_Self']\n"
          ],
          "name": "stdout"
        }
      ]
    },
    {
      "cell_type": "code",
      "metadata": {
        "deletable": true,
        "editable": true,
        "colab": {
          "base_uri": "https://localhost:8080/",
          "height": 319
        },
        "id": "dfXbQZBb-dcj",
        "outputId": "585c4e8c-a1b2-4f49-b1d4-ef732b1c808b"
      },
      "source": [
        "# histogram of Class/ASD\n",
        "\n",
        "# 8 bins\n",
        "plt.hist(asd_classes, bins=10)\n",
        "\n",
        "# x-axis limit from 0 to 1\n",
        "plt.xlim(0,1)\n",
        "plt.title('Histogram of Class/ASD')\n",
        "plt.xlabel('Class/ASD from processed data')\n",
        "plt.ylabel('Frequency')"
      ],
      "execution_count": null,
      "outputs": [
        {
          "output_type": "execute_result",
          "data": {
            "text/plain": [
              "Text(0,0.5,'Frequency')"
            ]
          },
          "metadata": {
            "tags": []
          },
          "execution_count": 149
        },
        {
          "output_type": "display_data",
          "data": {
            "image/png": "[encoded data removed]",
            "text/plain": [
              "<Figure size 432x288 with 1 Axes>"
            ]
          },
          "metadata": {
            "tags": []
          }
        }
      ]
    },
    {
      "cell_type": "markdown",
      "metadata": {
        "deletable": true,
        "editable": true,
        "id": "yOICqaDB-dcj"
      },
      "source": [
        "#### REMOVE\n",
        "### Shuffle and Split Data\n",
        "Now all _categorical variables_ have been converted into numerical features, and all numerical features have been normalized. As always, I will now split the data (both features and their labels) into training and test sets. 80% of the data will be used for training and 20% for testing."
      ]
    },
    {
      "cell_type": "code",
      "metadata": {
        "deletable": true,
        "editable": true,
        "colab": {
          "base_uri": "https://localhost:8080/"
        },
        "id": "ZX6pMmZ4-dcj",
        "outputId": "9dbd1bba-50aa-41af-f76a-0b6eb33d1385"
      },
      "source": [
        "from sklearn.model_selection import train_test_split\n",
        "\n",
        "np.random.seed(1234)\n",
        "\n",
        "X_train, X_test, y_train, y_test = train_test_split(features_final, asd_classes, train_size=0.80, random_state=1)\n",
        "\n",
        "\n",
        "# Show the results of the split\n",
        "print \"Training set has {} samples.\".format(X_train.shape[0])\n",
        "print \"Testing set has {} samples.\".format(X_test.shape[0])\n",
        "#asd_data"
      ],
      "execution_count": null,
      "outputs": [
        {
          "output_type": "stream",
          "text": [
            "Training set has 487 samples.\n",
            "Testing set has 122 samples.\n"
          ],
          "name": "stdout"
        }
      ]
    },
    {
      "cell_type": "markdown",
      "metadata": {
        "deletable": true,
        "editable": true,
        "id": "YGyZGFs7-dcj"
      },
      "source": [
        "---\n",
        "<a id='step3'></a>\n",
        "\n",
        "## Step 3: Models\n",
        "\n",
        "###  Supervised Learning Models\n",
        "**I have applied the following supervised learning models in this project which are currently available in** [`scikit-learn`](http://scikit-learn.org/stable/supervised_learning.html).\n",
        "\n",
        "[(1)](#1) Decision Trees\n",
        "\n",
        "[(2)](#2) Random Forest\n",
        "\n",
        "[(3)](#3) Support Vector Machines (SVM)\n",
        "\n",
        "[(4)](#4) K-Nearest Neighbors (KNeighbors)\n",
        "\n",
        "[(5)](#5) Gaussian Naive Bayes (GaussianNB)\n",
        "\n",
        "[(6)](#6) Logistic Regression\n",
        "\n",
        "[(7)](#7) Linear Discriminant Analysis (LDA)\n",
        "\n",
        "[(8)](#8) Quadratic Discriminant Analysis (QDA)"
      ]
    },
    {
      "cell_type": "markdown",
      "metadata": {
        "deletable": true,
        "editable": true,
        "id": "M4Y4Ym-G-dcj"
      },
      "source": [
        "In the two figures above, I have used two different depiction techniques to have a quick peek on the ASD dataset we are dealing with. Both of the occasions I have used `factorplot` module from `seaborn` visualization software. In the first case, I used '`swamp`' kind of graph expressing the relationship between several different features present in the data whereas in the second case, '`box`' method was used to present the visual way of showing how different features were associated with each other."
      ]
    },
    {
      "cell_type": "markdown",
      "metadata": {
        "deletable": true,
        "editable": true,
        "id": "sB_rj29j-dcj"
      },
      "source": [
        "---\n",
        "<a id='1'></a>\n",
        "\n",
        "##  (1) Decision Trees\n",
        "\n",
        "I start with creating a DecisionTreeClassifier and fit it to the training data."
      ]
    },
    {
      "cell_type": "code",
      "metadata": {
        "deletable": true,
        "editable": true,
        "colab": {
          "base_uri": "https://localhost:8080/"
        },
        "id": "0ltlJmMT-dcj",
        "outputId": "1678bfa6-fbe8-471b-bb0a-78a57cca1083"
      },
      "source": [
        "from sklearn import tree\n",
        "from sklearn.tree import DecisionTreeClassifier\n",
        "\n",
        "dectree = DecisionTreeClassifier(random_state=1)\n",
        "\n",
        "# Train the classifier on the training set\n",
        "dectree.fit(X_train, y_train)"
      ],
      "execution_count": null,
      "outputs": [
        {
          "output_type": "execute_result",
          "data": {
            "text/plain": [
              "DecisionTreeClassifier(class_weight=None, criterion='gini', max_depth=None,\n",
              "            max_features=None, max_leaf_nodes=None,\n",
              "            min_impurity_decrease=0.0, min_impurity_split=None,\n",
              "            min_samples_leaf=1, min_samples_split=2,\n",
              "            min_weight_fraction_leaf=0.0, presort=False, random_state=1,\n",
              "            splitter='best')"
            ]
          },
          "metadata": {
            "tags": []
          },
          "execution_count": 151
        }
      ]
    },
    {
      "cell_type": "markdown",
      "metadata": {
        "deletable": true,
        "editable": true,
        "id": "mSsXkCSa-dcj"
      },
      "source": [
        "### Depiction of Decision Tree algorithm"
      ]
    },
    {
      "cell_type": "code",
      "metadata": {
        "deletable": true,
        "editable": true,
        "colab": {
          "base_uri": "https://localhost:8080/",
          "height": 232
        },
        "id": "yDUBd2cj-dcj",
        "outputId": "12905cb2-157f-49da-c021-77f8d29be4e5"
      },
      "source": [
        "import pydotplus \n",
        "\n",
        "\n",
        "dot_data = tree.export_graphviz(dectree,\n",
        "                                out_file=None,\n",
        "                                filled=True,\n",
        "                                rounded=True,\n",
        "                                special_characters=True)  \n",
        "graph = pydotplus.graph_from_dot_data(dot_data)  \n",
        "\n",
        "from IPython.display import Image \n",
        "Image(graph.create_png()) "
      ],
      "execution_count": null,
      "outputs": [
        {
          "output_type": "execute_result",
          "data": {
            "image/png": "[encoded data removed]",
            "text/plain": [
              "<IPython.core.display.Image object>"
            ]
          },
          "metadata": {
            "tags": []
          },
          "execution_count": 152
        }
      ]
    },
    {
      "cell_type": "markdown",
      "metadata": {
        "deletable": true,
        "editable": true,
        "id": "yb5Z54gY-dcj"
      },
      "source": [
        "---------------\n",
        "## Evaluating Model Performance\n",
        "\n",
        "### Metrics \n",
        "We can use **F-beta score** as a metric that considers both precision and recall:\n",
        "\n",
        "$$ F_{\\beta} = (1 + \\beta^2) \\cdot \\frac{precision \\cdot recall}{\\left( \\beta^2 \\cdot precision \\right) + recall} $$\n",
        "\n",
        "In particular, when $\\beta = 0.5$, more emphasis is placed on precision. This is called the **F$_{0.5}$ score** (or F-score for simplicity).\n",
        "\n",
        "#### Note: Recap of accuracy, precision, recall\n",
        "\n",
        "**Accuracy** measures how often the classifier makes the correct prediction. It’s the ratio of the number of correct predictions to the total number of predictions (the number of test data points).\n",
        "\n",
        "**Precision** tells us what proportion of messages we classified as spam, actually were spam.\n",
        "It is a ratio of true positives(words classified as spam, and which are actually spam) to all positives(all words classified as spam, irrespective of whether that was the correct classificatio), in other words it is the ratio of\n",
        "\n",
        "`[True Positives/(True Positives + False Positives)]`\n",
        "\n",
        "**Recall (sensitivity)** tells us what proportion of messages that actually were spam were classified by us as spam.\n",
        "It is a ratio of true positives(words classified as spam, and which are actually spam) to all the words that were actually spam, in other words it is the ratio of\n",
        "\n",
        "`[True Positives/(True Positives + False Negatives)]`\n",
        "\n",
        "For classification problems that are skewed in their classification distributions like in our case where we have \n",
        "- a total of 609 records with \n",
        "- 180 individuals diagonised with ASD and \n",
        "- 429 individuals not diagonised with ASD\n",
        "\n",
        "accuracy by itself is not a very good metric. \n",
        "Thus, in this case precision and recall come in very handy. These two metrics can be combined to get the F1 score, which is weighted average(harmonic mean) of the precision and recall scores. This score can range from 0 to 1, with 1 being the best possible F1 score(we take the harmonic mean as we are dealing with ratios)."
      ]
    },
    {
      "cell_type": "code",
      "metadata": {
        "deletable": true,
        "editable": true,
        "id": "6p14iqOd-dcj"
      },
      "source": [
        "# make class predictions for the testing set\n",
        "y_pred_class = dectree.predict(X_test)"
      ],
      "execution_count": null,
      "outputs": []
    },
    {
      "cell_type": "code",
      "metadata": {
        "deletable": true,
        "editable": true,
        "colab": {
          "base_uri": "https://localhost:8080/"
        },
        "id": "dVd-pUCK-dcj",
        "outputId": "8a95ff4d-a2c5-4d06-d98c-d97db1a48b19"
      },
      "source": [
        "# print the first 25 true and predicted responses\n",
        "print('True:', y_test.values[0:25])\n",
        "print('False:', y_pred_class[0:25])"
      ],
      "execution_count": null,
      "outputs": [
        {
          "output_type": "stream",
          "text": [
            "('True:', array([1, 0, 0, 1, 1, 0, 1, 1, 0, 0, 0, 0, 0, 1, 0, 0, 0, 0, 0, 1, 0, 1,\n",
            "       0, 1, 0]))\n",
            "('False:', array([1, 0, 0, 1, 1, 0, 1, 1, 0, 0, 0, 0, 0, 1, 0, 0, 0, 0, 0, 1, 0, 1,\n",
            "       0, 1, 0]))\n"
          ],
          "name": "stdout"
        }
      ]
    },
    {
      "cell_type": "code",
      "metadata": {
        "deletable": true,
        "editable": true,
        "id": "eZ-7A47y-dcj",
        "colab": {
          "base_uri": "https://localhost:8080/"
        },
        "outputId": "a56da32d-b287-4574-ea9a-07af29be47e4"
      },
      "source": [
        "from sklearn import metrics\n",
        "# IMPORTANT: first argument is true values, second argument is predicted values\n",
        "# this produces a 2x2 numpy array (matrix)\n",
        "#print(metrics.confusion_matrix(y_test, y_pred_class))\n",
        "\n",
        "# save confusion matrix and slice into four pieces\n",
        "confusion = metrics.confusion_matrix(y_test, y_pred_class)\n",
        "print(confusion)\n",
        "#[row, column]\n",
        "TP = confusion[1, 1]\n",
        "TN = confusion[0, 0]\n",
        "FP = confusion[0, 1]\n",
        "FN = confusion[1, 0]"
      ],
      "execution_count": null,
      "outputs": [
        {
          "output_type": "stream",
          "text": [
            "[[79  0]\n",
            " [ 0 43]]\n"
          ],
          "name": "stdout"
        }
      ]
    },
    {
      "cell_type": "markdown",
      "metadata": {
        "deletable": true,
        "editable": true,
        "id": "KyqjBOk7-dck"
      },
      "source": [
        "### Metrics computed from a confusion matrix"
      ]
    },
    {
      "cell_type": "markdown",
      "metadata": {
        "deletable": true,
        "editable": true,
        "id": "0EcIpdgJ-dck"
      },
      "source": [
        "**Classification Accuracy**: Overall, how often is the classifier correct?"
      ]
    },
    {
      "cell_type": "code",
      "metadata": {
        "deletable": true,
        "editable": true,
        "id": "IgZiYJVN-dck",
        "colab": {
          "base_uri": "https://localhost:8080/"
        },
        "outputId": "3da94a49-3be9-4706-ef2c-b4b470b08714"
      },
      "source": [
        "# use float to perform true division, not integer division\n",
        "print((TP + TN) / float(TP + TN + FP + FN))"
      ],
      "execution_count": null,
      "outputs": [
        {
          "output_type": "stream",
          "text": [
            "1.0\n"
          ],
          "name": "stdout"
        }
      ]
    },
    {
      "cell_type": "markdown",
      "metadata": {
        "deletable": true,
        "editable": true,
        "id": "ec41LT50-dck"
      },
      "source": [
        "**Classification Error**: Overall, how often is the classifier incorrect?"
      ]
    },
    {
      "cell_type": "code",
      "metadata": {
        "deletable": true,
        "editable": true,
        "id": "v62EUDH8-dck",
        "colab": {
          "base_uri": "https://localhost:8080/"
        },
        "outputId": "f872d643-215b-41b7-c15f-143c8f633782"
      },
      "source": [
        "classification_error = (FP + FN) / float(TP + TN + FP + FN)\n",
        "\n",
        "print(classification_error)"
      ],
      "execution_count": null,
      "outputs": [
        {
          "output_type": "stream",
          "text": [
            "0.0\n"
          ],
          "name": "stdout"
        }
      ]
    },
    {
      "cell_type": "markdown",
      "metadata": {
        "deletable": true,
        "editable": true,
        "id": "ETKgIxyr-dck"
      },
      "source": [
        "**Sensitivity**: When the actual value is positive, how often is the prediction correct?\n"
      ]
    },
    {
      "cell_type": "code",
      "metadata": {
        "deletable": true,
        "editable": true,
        "id": "LoSxk4qU-dck",
        "colab": {
          "base_uri": "https://localhost:8080/"
        },
        "outputId": "dd21b2ba-d98b-4c19-9bd5-16e06c4c019f"
      },
      "source": [
        "sensitivity = TP / float(FN + TP)\n",
        "\n",
        "print(sensitivity)\n",
        "print(metrics.recall_score(y_test, y_pred_class))"
      ],
      "execution_count": null,
      "outputs": [
        {
          "output_type": "stream",
          "text": [
            "1.0\n",
            "1.0\n"
          ],
          "name": "stdout"
        }
      ]
    },
    {
      "cell_type": "markdown",
      "metadata": {
        "deletable": true,
        "editable": true,
        "id": "6gzplvq4-dck"
      },
      "source": [
        "**Specificity**: When the actual value is negative, how often is the prediction correct?"
      ]
    },
    {
      "cell_type": "code",
      "metadata": {
        "deletable": true,
        "editable": true,
        "id": "mxwBxk4f-dck",
        "colab": {
          "base_uri": "https://localhost:8080/"
        },
        "outputId": "f322eac2-100d-4790-db9e-f23c9e23a893"
      },
      "source": [
        "specificity = TN / (TN + FP)\n",
        "\n",
        "print(specificity)"
      ],
      "execution_count": null,
      "outputs": [
        {
          "output_type": "stream",
          "text": [
            "1\n"
          ],
          "name": "stdout"
        }
      ]
    },
    {
      "cell_type": "markdown",
      "metadata": {
        "deletable": true,
        "editable": true,
        "id": "n6IO2E-X-dck"
      },
      "source": [
        "**False Positive Rate**: When the actual value is negative, how often is the prediction incorrect?"
      ]
    },
    {
      "cell_type": "code",
      "metadata": {
        "deletable": true,
        "editable": true,
        "id": "oDL7w8Re-dck",
        "colab": {
          "base_uri": "https://localhost:8080/"
        },
        "outputId": "6de7f958-a2d8-47fa-8d44-b5040f3952c4"
      },
      "source": [
        "false_positive_rate = FP / float(TN + FP)\n",
        "\n",
        "print(false_positive_rate)\n",
        "#print(1 - specificity)"
      ],
      "execution_count": null,
      "outputs": [
        {
          "output_type": "stream",
          "text": [
            "0.0\n"
          ],
          "name": "stdout"
        }
      ]
    },
    {
      "cell_type": "markdown",
      "metadata": {
        "deletable": true,
        "editable": true,
        "id": "kejPcmUy-dck"
      },
      "source": [
        "**Precision**: When a positive value is predicted, how often is the prediction correct?"
      ]
    },
    {
      "cell_type": "code",
      "metadata": {
        "deletable": true,
        "editable": true,
        "id": "Qs1jLhGw-dck",
        "colab": {
          "base_uri": "https://localhost:8080/"
        },
        "outputId": "f4ade48f-baf7-42d5-ae53-75384b09f24b"
      },
      "source": [
        "precision = TP / float(TP + FP)\n",
        "\n",
        "#print(precision)\n",
        "print(metrics.precision_score(y_test, y_pred_class))"
      ],
      "execution_count": null,
      "outputs": [
        {
          "output_type": "stream",
          "text": [
            "1.0\n"
          ],
          "name": "stdout"
        }
      ]
    },
    {
      "cell_type": "markdown",
      "metadata": {
        "deletable": true,
        "editable": true,
        "id": "PoV-uvqY-dck"
      },
      "source": [
        "### Visualizing the classification prediction:"
      ]
    },
    {
      "cell_type": "code",
      "metadata": {
        "deletable": true,
        "editable": true,
        "id": "Du7mZOOo-dck",
        "colab": {
          "base_uri": "https://localhost:8080/"
        },
        "outputId": "5ed59d51-4023-49ee-ac7a-ed7e51ee43a7"
      },
      "source": [
        "# print the first 10 predicted responses\n",
        "# 1D array (vector) of binary values (0, 1)\n",
        "dectree.predict(X_test)[0:10]"
      ],
      "execution_count": null,
      "outputs": [
        {
          "output_type": "execute_result",
          "data": {
            "text/plain": [
              "array([1, 0, 0, 1, 1, 0, 1, 1, 0, 0])"
            ]
          },
          "metadata": {
            "tags": []
          },
          "execution_count": 162
        }
      ]
    },
    {
      "cell_type": "code",
      "metadata": {
        "deletable": true,
        "editable": true,
        "id": "YWSg8Fzw-dck",
        "colab": {
          "base_uri": "https://localhost:8080/"
        },
        "outputId": "1f4b13c6-65a5-4bc4-ef81-9f700cfad49e"
      },
      "source": [
        "# print the first 10 predicted probabilities of class membership\n",
        "dectree.predict_proba(X_test)[0:10]"
      ],
      "execution_count": null,
      "outputs": [
        {
          "output_type": "execute_result",
          "data": {
            "text/plain": [
              "array([[0., 1.],\n",
              "       [1., 0.],\n",
              "       [1., 0.],\n",
              "       [0., 1.],\n",
              "       [0., 1.],\n",
              "       [1., 0.],\n",
              "       [0., 1.],\n",
              "       [0., 1.],\n",
              "       [1., 0.],\n",
              "       [1., 0.]])"
            ]
          },
          "metadata": {
            "tags": []
          },
          "execution_count": 163
        }
      ]
    },
    {
      "cell_type": "code",
      "metadata": {
        "deletable": true,
        "editable": true,
        "id": "gEhz_FrT-dcl"
      },
      "source": [
        "# store the predicted probabilities for class 1\n",
        "y_pred_prob = dectree.predict_proba(X_test)[:, 1]"
      ],
      "execution_count": null,
      "outputs": []
    },
    {
      "cell_type": "code",
      "metadata": {
        "deletable": true,
        "editable": true,
        "id": "YCf2HqiC-dcl"
      },
      "source": [
        "# allow plots to appear in the notebook\n",
        "\n",
        "import matplotlib.pyplot as plt\n",
        "\n",
        "# adjust the font size \n",
        "plt.rcParams['font.size'] = 12"
      ],
      "execution_count": null,
      "outputs": []
    },
    {
      "cell_type": "code",
      "metadata": {
        "deletable": true,
        "editable": true,
        "id": "tNo0PgG3-dcl",
        "colab": {
          "base_uri": "https://localhost:8080/",
          "height": 319
        },
        "outputId": "08448309-319f-44de-c7c1-c718aa6a5422"
      },
      "source": [
        "# histogram of predicted probabilities\n",
        "\n",
        "# 8 bins\n",
        "plt.hist(y_pred_prob, bins=10)\n",
        "\n",
        "# x-axis limit from 0 to 1\n",
        "plt.xlim(0,1)\n",
        "plt.title('Histogram of predicted probabilities')\n",
        "plt.xlabel('Predicted probability of ASD')\n",
        "plt.ylabel('Frequency')"
      ],
      "execution_count": null,
      "outputs": [
        {
          "output_type": "execute_result",
          "data": {
            "text/plain": [
              "Text(0,0.5,'Frequency')"
            ]
          },
          "metadata": {
            "tags": []
          },
          "execution_count": 166
        },
        {
          "output_type": "display_data",
          "data": {
            "image/png": "[encoded data removed]",
            "text/plain": [
              "<Figure size 432x288 with 1 Axes>"
            ]
          },
          "metadata": {
            "tags": []
          }
        }
      ]
    },
    {
      "cell_type": "code",
      "metadata": {
        "deletable": true,
        "editable": true,
        "id": "1PaU6FP8-dcl",
        "colab": {
          "base_uri": "https://localhost:8080/",
          "height": 301
        },
        "outputId": "a7be83a6-bd67-4834-9088-9fd49c1e1451"
      },
      "source": [
        "# IMPORTANT: first argument is true values, second argument is predicted probabilities\n",
        "\n",
        "# we pass y_test and y_pred_prob\n",
        "# we do not use y_pred_class, because it will give incorrect results without generating an error\n",
        "# roc_curve returns 3 objects fpr, tpr, thresholds\n",
        "# fpr: false positive rate\n",
        "# tpr: true positive rate\n",
        "fpr, tpr, thresholds = metrics.roc_curve(y_test, y_pred_prob)\n",
        "\n",
        "plt.plot(fpr, tpr)\n",
        "plt.xlim([0.0, 1.0])\n",
        "plt.ylim([0.0, 1.0])\n",
        "plt.rcParams['font.size'] = 12\n",
        "plt.title('ROC curve for diabetes classifier')\n",
        "plt.xlabel('False Positive Rate (1 - Specificity)')\n",
        "plt.ylabel('True Positive Rate (Sensitivity)')\n",
        "plt.grid(True)"
      ],
      "execution_count": null,
      "outputs": [
        {
          "output_type": "display_data",
          "data": {
            "image/png": "[encoded data removed]",
            "text/plain": [
              "<Figure size 432x288 with 1 Axes>"
            ]
          },
          "metadata": {
            "tags": []
          }
        }
      ]
    },
    {
      "cell_type": "markdown",
      "metadata": {
        "deletable": true,
        "editable": true,
        "id": "Y97YT1B2-dcl"
      },
      "source": [
        "#### Score metric for Model performance"
      ]
    },
    {
      "cell_type": "code",
      "metadata": {
        "deletable": true,
        "editable": true,
        "id": "_FDq564Z-dcl",
        "colab": {
          "base_uri": "https://localhost:8080/"
        },
        "outputId": "30836eed-25ff-47df-e51c-e5113d1b04f4"
      },
      "source": [
        "dectree.score(X_test, y_test)"
      ],
      "execution_count": null,
      "outputs": [
        {
          "output_type": "execute_result",
          "data": {
            "text/plain": [
              "1.0"
            ]
          },
          "metadata": {
            "tags": []
          },
          "execution_count": 168
        }
      ]
    },
    {
      "cell_type": "markdown",
      "metadata": {
        "deletable": true,
        "editable": true,
        "id": "PQmtggXd-dcl"
      },
      "source": [
        "### Cross-validation:\n",
        "\n",
        "Now instead of a single train/test split, We use K-Fold cross validation to get a better measure of your model's accuracy (K=10). "
      ]
    },
    {
      "cell_type": "code",
      "metadata": {
        "deletable": true,
        "editable": true,
        "id": "sr58xIwi-dcl",
        "colab": {
          "base_uri": "https://localhost:8080/"
        },
        "outputId": "1330bb92-e090-43d1-be05-a2ad4b961951"
      },
      "source": [
        "from sklearn.model_selection import cross_val_score\n",
        "\n",
        "dectree = DecisionTreeClassifier(random_state=1)\n",
        "\n",
        "cv_scores = cross_val_score(dectree, features_final, asd_classes, cv=10)\n",
        "\n",
        "cv_scores.mean()"
      ],
      "execution_count": null,
      "outputs": [
        {
          "output_type": "execute_result",
          "data": {
            "text/plain": [
              "1.0"
            ]
          },
          "metadata": {
            "tags": []
          },
          "execution_count": 169
        }
      ]
    },
    {
      "cell_type": "markdown",
      "metadata": {
        "deletable": true,
        "editable": true,
        "id": "y5gVJxW_-dcl"
      },
      "source": [
        "### AUC Score: \n",
        "\n",
        "AUC is the percentage of the ROC plot that is underneath the curve"
      ]
    },
    {
      "cell_type": "code",
      "metadata": {
        "deletable": true,
        "editable": true,
        "id": "_QjBNFa0-dcl",
        "colab": {
          "base_uri": "https://localhost:8080/"
        },
        "outputId": "60738da9-186e-42d3-a0bd-a322fc78ac8d"
      },
      "source": [
        "# calculate cross-validated AUC\n",
        "from sklearn.model_selection import cross_val_score\n",
        "cross_val_score(dectree, features_final, asd_classes, cv=10, scoring='roc_auc').mean()"
      ],
      "execution_count": null,
      "outputs": [
        {
          "output_type": "execute_result",
          "data": {
            "text/plain": [
              "1.0"
            ]
          },
          "metadata": {
            "tags": []
          },
          "execution_count": 170
        }
      ]
    },
    {
      "cell_type": "markdown",
      "metadata": {
        "deletable": true,
        "editable": true,
        "id": "q2Qo05Di-dcl"
      },
      "source": [
        "### F-beta Score:"
      ]
    },
    {
      "cell_type": "code",
      "metadata": {
        "deletable": true,
        "editable": true,
        "id": "mMfF_Wx2-dcl",
        "colab": {
          "base_uri": "https://localhost:8080/"
        },
        "outputId": "b7aba82d-0760-48f7-927c-880d29404358"
      },
      "source": [
        "dectree.fit(X_train, y_train)\n",
        "from sklearn.metrics import fbeta_score\n",
        "predictions_test = dectree.predict(X_test)\n",
        "fbeta_score(y_test, predictions_test, average='binary', beta=0.5)"
      ],
      "execution_count": null,
      "outputs": [
        {
          "output_type": "execute_result",
          "data": {
            "text/plain": [
              "1.0"
            ]
          },
          "metadata": {
            "tags": []
          },
          "execution_count": 171
        }
      ]
    },
    {
      "cell_type": "markdown",
      "metadata": {
        "deletable": true,
        "editable": true,
        "id": "uL7rfQWE-dcl"
      },
      "source": [
        "---\n",
        "<a id='2'></a>\n",
        "## (2) Random Forest\n",
        "\n",
        "Now I apply a **RandomForestClassifier** instead to see whether it performs better."
      ]
    },
    {
      "cell_type": "code",
      "metadata": {
        "deletable": true,
        "editable": true,
        "colab": {
          "base_uri": "https://localhost:8080/"
        },
        "id": "h5tOVDYk-dcl",
        "outputId": "e1323814-b122-4db5-9e44-c69abc0fd595"
      },
      "source": [
        "from sklearn.ensemble import RandomForestClassifier\n",
        "\n",
        "ranfor = RandomForestClassifier(n_estimators=5, random_state=1)\n",
        "cv_scores = cross_val_score(ranfor, features_final, asd_classes, cv=10)\n",
        "cv_scores.mean()"
      ],
      "execution_count": null,
      "outputs": [
        {
          "output_type": "execute_result",
          "data": {
            "text/plain": [
              "0.9933333333333334"
            ]
          },
          "metadata": {
            "tags": []
          },
          "execution_count": 172
        }
      ]
    },
    {
      "cell_type": "markdown",
      "metadata": {
        "deletable": true,
        "editable": true,
        "id": "q7a9A2nZ-dcl"
      },
      "source": [
        "AUC Score: AUC is the percentage of the ROC plot that is underneath the curve"
      ]
    },
    {
      "cell_type": "code",
      "metadata": {
        "deletable": true,
        "editable": true,
        "colab": {
          "base_uri": "https://localhost:8080/"
        },
        "id": "qzpQ5CX2-dcl",
        "outputId": "8c74aac8-ffe5-4813-a55c-721ebd007f42"
      },
      "source": [
        "# calculate cross-validated AUC\n",
        "from sklearn.model_selection import cross_val_score\n",
        "cross_val_score(ranfor, features_final, asd_classes, cv=10, scoring='roc_auc').mean()"
      ],
      "execution_count": null,
      "outputs": [
        {
          "output_type": "execute_result",
          "data": {
            "text/plain": [
              "0.9988095238095237"
            ]
          },
          "metadata": {
            "tags": []
          },
          "execution_count": 173
        }
      ]
    },
    {
      "cell_type": "markdown",
      "metadata": {
        "deletable": true,
        "editable": true,
        "id": "6nTVGoXx-dcl"
      },
      "source": [
        "F-beta Score:"
      ]
    },
    {
      "cell_type": "code",
      "metadata": {
        "deletable": true,
        "editable": true,
        "colab": {
          "base_uri": "https://localhost:8080/"
        },
        "id": "BjQuoz-o-dcl",
        "outputId": "86c2e76f-9e5e-45a9-92a5-109a72579de5"
      },
      "source": [
        "ranfor.fit(X_train, y_train)\n",
        "from sklearn.metrics import fbeta_score\n",
        "predictions_test = ranfor.predict(X_test)\n",
        "fbeta_score(y_test, predictions_test, average='binary', beta=0.5)"
      ],
      "execution_count": null,
      "outputs": [
        {
          "output_type": "execute_result",
          "data": {
            "text/plain": [
              "1.0"
            ]
          },
          "metadata": {
            "tags": []
          },
          "execution_count": 174
        }
      ]
    },
    {
      "cell_type": "markdown",
      "metadata": {
        "deletable": true,
        "editable": true,
        "id": "a1mJxhOZ-dcl"
      },
      "source": [
        "---\n",
        "<a id='3'></a>\n",
        "## (3) SVM\n",
        "\n",
        "Next I try using svm.SVC with a linear kernel and see how well it does in comparison to the decision tree."
      ]
    },
    {
      "cell_type": "code",
      "metadata": {
        "deletable": true,
        "editable": true,
        "id": "sMsS3AnB-dcl"
      },
      "source": [
        "from sklearn import svm\n",
        "\n",
        "C = 1.0\n",
        "svc = svm.SVC(kernel='linear', C=C, gamma=2)"
      ],
      "execution_count": null,
      "outputs": []
    },
    {
      "cell_type": "code",
      "metadata": {
        "deletable": true,
        "editable": true,
        "colab": {
          "base_uri": "https://localhost:8080/"
        },
        "id": "CKrNyjgg-dcl",
        "outputId": "d3921eef-dc36-4647-a00d-40bf3c409104"
      },
      "source": [
        "cv_scores = cross_val_score(svc, features_final, asd_classes, cv=10)\n",
        "\n",
        "cv_scores.mean()"
      ],
      "execution_count": null,
      "outputs": [
        {
          "output_type": "execute_result",
          "data": {
            "text/plain": [
              "1.0"
            ]
          },
          "metadata": {
            "tags": []
          },
          "execution_count": 176
        }
      ]
    },
    {
      "cell_type": "markdown",
      "metadata": {
        "deletable": true,
        "editable": true,
        "id": "VwetXSZ3-dcm"
      },
      "source": [
        "AUC Score: AUC is the percentage of the ROC plot that is underneath the curve"
      ]
    },
    {
      "cell_type": "code",
      "metadata": {
        "deletable": true,
        "editable": true,
        "colab": {
          "base_uri": "https://localhost:8080/"
        },
        "id": "i2of5Hra-dcm",
        "outputId": "d0673289-d5c7-4a6c-9239-932a25fb0ee1"
      },
      "source": [
        "# calculate cross-validated AUC\n",
        "from sklearn.model_selection import cross_val_score\n",
        "cross_val_score(svc, features_final, asd_classes, cv=10, scoring='roc_auc').mean()"
      ],
      "execution_count": null,
      "outputs": [
        {
          "output_type": "execute_result",
          "data": {
            "text/plain": [
              "1.0"
            ]
          },
          "metadata": {
            "tags": []
          },
          "execution_count": 177
        }
      ]
    },
    {
      "cell_type": "markdown",
      "metadata": {
        "deletable": true,
        "editable": true,
        "id": "cQe_A1T2-dcm"
      },
      "source": [
        "F-beta Score:"
      ]
    },
    {
      "cell_type": "code",
      "metadata": {
        "deletable": true,
        "editable": true,
        "colab": {
          "base_uri": "https://localhost:8080/"
        },
        "id": "kwMbs0n4-dcm",
        "outputId": "07e3524e-b768-4cf8-987a-b3de71dc6ec7"
      },
      "source": [
        "svc.fit(X_train, y_train)\n",
        "from sklearn.metrics import fbeta_score\n",
        "predictions_test = svc.predict(X_test)\n",
        "fbeta_score(y_test, predictions_test, average='binary', beta=0.5)"
      ],
      "execution_count": null,
      "outputs": [
        {
          "output_type": "execute_result",
          "data": {
            "text/plain": [
              "1.0"
            ]
          },
          "metadata": {
            "tags": []
          },
          "execution_count": 178
        }
      ]
    },
    {
      "cell_type": "markdown",
      "metadata": {
        "deletable": true,
        "editable": true,
        "id": "ngCBlJcs-dcm"
      },
      "source": [
        "---\n",
        "<a id='4'></a>\n",
        "\n",
        "## (4) K-Nearest-Neighbors (KNN)\n",
        "Next, I explore the K-Nearest-Neighbors algorithm with a starting value of K=10. Recall that K is an example of a hyperparameter - a parameter on the model itself which may need to be tuned for best results on your particular data set."
      ]
    },
    {
      "cell_type": "code",
      "metadata": {
        "deletable": true,
        "editable": true,
        "colab": {
          "base_uri": "https://localhost:8080/"
        },
        "id": "AYAsdogo-dcm",
        "outputId": "b30fc073-08c8-4c71-cacb-eb01fd514c6d"
      },
      "source": [
        "from sklearn import neighbors\n",
        "\n",
        "knn = neighbors.KNeighborsClassifier(n_neighbors=10)\n",
        "cv_scores = cross_val_score(knn, features_final, asd_classes, cv=10)\n",
        "\n",
        "cv_scores.mean()"
      ],
      "execution_count": null,
      "outputs": [
        {
          "output_type": "execute_result",
          "data": {
            "text/plain": [
              "0.9474590163934427"
            ]
          },
          "metadata": {
            "tags": []
          },
          "execution_count": 179
        }
      ]
    },
    {
      "cell_type": "markdown",
      "metadata": {
        "deletable": true,
        "editable": true,
        "id": "HifuJyR5-dcm"
      },
      "source": [
        "AUC Score: AUC is the percentage of the ROC plot that is underneath the curve"
      ]
    },
    {
      "cell_type": "code",
      "metadata": {
        "deletable": true,
        "editable": true,
        "colab": {
          "base_uri": "https://localhost:8080/"
        },
        "id": "4j-_B4yv-dcm",
        "outputId": "6f5ac7e3-5ec8-4023-ab5b-5b8e041979e0"
      },
      "source": [
        "# calculate cross-validated AUC\n",
        "from sklearn.model_selection import cross_val_score\n",
        "cross_val_score(knn, features_final, asd_classes, cv=10, scoring='roc_auc').mean()"
      ],
      "execution_count": null,
      "outputs": [
        {
          "output_type": "execute_result",
          "data": {
            "text/plain": [
              "0.9930078749846192"
            ]
          },
          "metadata": {
            "tags": []
          },
          "execution_count": 180
        }
      ]
    },
    {
      "cell_type": "markdown",
      "metadata": {
        "deletable": true,
        "editable": true,
        "id": "_p9_Uddp-dcm"
      },
      "source": [
        "F-beta Score:"
      ]
    },
    {
      "cell_type": "code",
      "metadata": {
        "deletable": true,
        "editable": true,
        "colab": {
          "base_uri": "https://localhost:8080/"
        },
        "id": "W-W1ODVo-dcm",
        "outputId": "2e1cddd4-d516-46d1-88b6-ab0c882a46c5"
      },
      "source": [
        "knn.fit(X_train, y_train)\n",
        "from sklearn.metrics import fbeta_score\n",
        "predictions_test = knn.predict(X_test)\n",
        "fbeta_score(y_test, predictions_test, average='binary', beta=0.5)"
      ],
      "execution_count": null,
      "outputs": [
        {
          "output_type": "execute_result",
          "data": {
            "text/plain": [
              "0.9192825112107623"
            ]
          },
          "metadata": {
            "tags": []
          },
          "execution_count": 181
        }
      ]
    },
    {
      "cell_type": "markdown",
      "metadata": {
        "deletable": true,
        "editable": true,
        "id": "M4ebjXlM-dcm"
      },
      "source": [
        "Choosing K is tricky, so I can't discard KNN until we've tried different values of K. Hence we write a for loop to run KNN with K values ranging from 10 to 50 and see if K makes a substantial difference. "
      ]
    },
    {
      "cell_type": "code",
      "metadata": {
        "deletable": true,
        "editable": true,
        "colab": {
          "base_uri": "https://localhost:8080/"
        },
        "id": "8c1mSei9-dcm",
        "outputId": "c45e5228-2af7-408f-a8d2-ddb0be30e8f6"
      },
      "source": [
        "for n in range(10, 50):\n",
        "    knn = neighbors.KNeighborsClassifier(n_neighbors=n)\n",
        "    cv_scores = cross_val_score(knn, features_final, asd_classes, cv=10)\n",
        "    print (n, cv_scores.mean())"
      ],
      "execution_count": null,
      "outputs": [
        {
          "output_type": "stream",
          "text": [
            "(10, 0.9474590163934427)\n",
            "(11, 0.9507377049180328)\n",
            "(12, 0.9507377049180328)\n",
            "(13, 0.9540437158469945)\n",
            "(14, 0.9507650273224044)\n",
            "(15, 0.944207650273224)\n",
            "(16, 0.9507650273224044)\n",
            "(17, 0.9523770491803278)\n",
            "(18, 0.9523770491803278)\n",
            "(19, 0.9540163934426229)\n",
            "(20, 0.9523770491803278)\n",
            "(21, 0.9523770491803278)\n",
            "(22, 0.9474590163934424)\n",
            "(23, 0.9490983606557375)\n",
            "(24, 0.9507377049180326)\n",
            "(25, 0.9507377049180328)\n",
            "(26, 0.9523770491803278)\n",
            "(27, 0.9507377049180328)\n",
            "(28, 0.9507377049180326)\n",
            "(29, 0.9507377049180328)\n",
            "(30, 0.9523770491803278)\n",
            "(31, 0.9474863387978143)\n",
            "(32, 0.9491256830601094)\n",
            "(33, 0.9474863387978143)\n",
            "(34, 0.9507650273224044)\n",
            "(35, 0.9491256830601094)\n",
            "(36, 0.9491256830601091)\n",
            "(37, 0.9507650273224044)\n",
            "(38, 0.9540710382513661)\n",
            "(39, 0.9524316939890708)\n",
            "(40, 0.9524316939890708)\n",
            "(41, 0.9524316939890708)\n",
            "(42, 0.9507923497267757)\n",
            "(43, 0.9507923497267757)\n",
            "(44, 0.9507923497267757)\n",
            "(45, 0.9507923497267757)\n",
            "(46, 0.9524316939890708)\n",
            "(47, 0.9524316939890708)\n",
            "(48, 0.9557103825136611)\n",
            "(49, 0.9524316939890708)\n"
          ],
          "name": "stdout"
        }
      ]
    },
    {
      "cell_type": "markdown",
      "metadata": {
        "deletable": true,
        "editable": true,
        "id": "GeWcgt-N-dcm"
      },
      "source": [
        "---\n",
        "<a id='5'></a>\n",
        "\n",
        "## (5) Naive Bayes\n",
        "\n",
        "Now I try naive_bayes.MultinomialNB classifier and ask how does its accuracy stack up."
      ]
    },
    {
      "cell_type": "code",
      "metadata": {
        "deletable": true,
        "editable": true,
        "colab": {
          "base_uri": "https://localhost:8080/"
        },
        "id": "r4swMz1O-dcm",
        "outputId": "f0bad793-ea71-44fe-a112-0f634ee2f9c1"
      },
      "source": [
        "from sklearn.naive_bayes import MultinomialNB\n",
        "\n",
        "#scaler = preprocessing.MinMaxScaler()\n",
        "#all_features_minmax = scaler.fit_transform(all_features)\n",
        "\n",
        "nb = MultinomialNB()\n",
        "cv_scores = cross_val_score(nb, features_final, asd_classes, cv=10)\n",
        "\n",
        "cv_scores.mean()"
      ],
      "execution_count": null,
      "outputs": [
        {
          "output_type": "execute_result",
          "data": {
            "text/plain": [
              "0.885"
            ]
          },
          "metadata": {
            "tags": []
          },
          "execution_count": 183
        }
      ]
    },
    {
      "cell_type": "markdown",
      "metadata": {
        "deletable": true,
        "editable": true,
        "id": "rPZhmHT3-dcm"
      },
      "source": [
        "AUC Score: AUC is the percentage of the ROC plot that is underneath the curve"
      ]
    },
    {
      "cell_type": "code",
      "metadata": {
        "deletable": true,
        "editable": true,
        "colab": {
          "base_uri": "https://localhost:8080/"
        },
        "id": "k_pTWarK-dcm",
        "outputId": "1f3470b2-91bc-48cf-b26c-01a498503d1d"
      },
      "source": [
        "# calculate cross-validated AUC\n",
        "from sklearn.model_selection import cross_val_score\n",
        "cross_val_score(nb, features_final, asd_classes, cv=10, scoring='roc_auc').mean()"
      ],
      "execution_count": null,
      "outputs": [
        {
          "output_type": "execute_result",
          "data": {
            "text/plain": [
              "0.9445090439276485"
            ]
          },
          "metadata": {
            "tags": []
          },
          "execution_count": 184
        }
      ]
    },
    {
      "cell_type": "markdown",
      "metadata": {
        "deletable": true,
        "editable": true,
        "id": "1ZnR0dVe-dcm"
      },
      "source": [
        "F-beta Score:"
      ]
    },
    {
      "cell_type": "code",
      "metadata": {
        "deletable": true,
        "editable": true,
        "colab": {
          "base_uri": "https://localhost:8080/"
        },
        "id": "HC4haZvp-dcm",
        "outputId": "99c18971-9bb5-44a9-c892-757bb3d4b2a4"
      },
      "source": [
        "nb.fit(X_train, y_train)\n",
        "from sklearn.metrics import fbeta_score\n",
        "predictions_test = nb.predict(X_test)\n",
        "fbeta_score(y_test, predictions_test, average='binary', beta=0.5)"
      ],
      "execution_count": null,
      "outputs": [
        {
          "output_type": "execute_result",
          "data": {
            "text/plain": [
              "0.8370044052863436"
            ]
          },
          "metadata": {
            "tags": []
          },
          "execution_count": 185
        }
      ]
    },
    {
      "cell_type": "markdown",
      "metadata": {
        "deletable": true,
        "editable": true,
        "id": "v94xyqz9-dcm"
      },
      "source": [
        "---\n",
        "<a id='6'></a>\n",
        "\n",
        "## REMOVE - (6) Logistic Regression\n",
        "\n",
        "We've tried all these fancy techniques, but fundamentally this is just a binary classification problem. Try Logisitic Regression, which is a simple way to tackling this sort of thing."
      ]
    },
    {
      "cell_type": "code",
      "metadata": {
        "deletable": true,
        "editable": true,
        "colab": {
          "base_uri": "https://localhost:8080/"
        },
        "id": "H0fBHhbm-dcm",
        "outputId": "ddd1232b-3793-41dc-a333-63f231b33495"
      },
      "source": [
        "from sklearn.linear_model import LogisticRegression\n",
        "\n",
        "logreg = LogisticRegression()\n",
        "cv_scores = cross_val_score(logreg, features_final, asd_classes, cv=10)\n",
        "cv_scores.mean()"
      ],
      "execution_count": null,
      "outputs": [
        {
          "output_type": "execute_result",
          "data": {
            "text/plain": [
              "0.9704371584699454"
            ]
          },
          "metadata": {
            "tags": []
          },
          "execution_count": 186
        }
      ]
    },
    {
      "cell_type": "markdown",
      "metadata": {
        "deletable": true,
        "editable": true,
        "id": "yecgmwI8-dcm"
      },
      "source": [
        "AUC Score: AUC is the percentage of the ROC plot that is underneath the curve"
      ]
    },
    {
      "cell_type": "code",
      "metadata": {
        "deletable": true,
        "editable": true,
        "colab": {
          "base_uri": "https://localhost:8080/"
        },
        "id": "GrvczEQx-dcm",
        "outputId": "debc5f6a-0a92-4d0c-b86f-35179788acb6"
      },
      "source": [
        "# calculate cross-validated AUC\n",
        "from sklearn.model_selection import cross_val_score\n",
        "cv_scores_roc = cross_val_score(logreg, features_final, asd_classes, cv=10, scoring='roc_auc').mean()\n",
        "cv_scores_roc.mean()"
      ],
      "execution_count": null,
      "outputs": [
        {
          "output_type": "execute_result",
          "data": {
            "text/plain": [
              "0.9974098683401008"
            ]
          },
          "metadata": {
            "tags": []
          },
          "execution_count": 187
        }
      ]
    },
    {
      "cell_type": "markdown",
      "metadata": {
        "deletable": true,
        "editable": true,
        "id": "QX-RBqCk-dcn"
      },
      "source": [
        "F-beta Score:"
      ]
    },
    {
      "cell_type": "code",
      "metadata": {
        "deletable": true,
        "editable": true,
        "colab": {
          "base_uri": "https://localhost:8080/"
        },
        "id": "jhLu0rXs-dcn",
        "outputId": "98f1d534-02d8-49c3-cc9d-d42c15cf3009"
      },
      "source": [
        "logreg.fit(X_train, y_train)\n",
        "from sklearn.metrics import fbeta_score\n",
        "predictions_test = logreg.predict(X_test)\n",
        "fbeta_score(y_test, predictions_test, average='binary', beta=0.5)"
      ],
      "execution_count": null,
      "outputs": [
        {
          "output_type": "execute_result",
          "data": {
            "text/plain": [
              "0.9307359307359306"
            ]
          },
          "metadata": {
            "tags": []
          },
          "execution_count": 188
        }
      ]
    },
    {
      "cell_type": "markdown",
      "metadata": {
        "deletable": true,
        "editable": true,
        "id": "zeBJ4XAZ-dcn"
      },
      "source": [
        "---\n",
        "<a id='7'></a>\n",
        "\n",
        "## (7) REMOVE - Linear Discriminant Analysis"
      ]
    },
    {
      "cell_type": "code",
      "metadata": {
        "deletable": true,
        "editable": true,
        "colab": {
          "base_uri": "https://localhost:8080/"
        },
        "id": "yKsfB0qB-dcn",
        "outputId": "d8c8698d-c637-4464-8464-dfed41fc32e4"
      },
      "source": [
        "from sklearn.discriminant_analysis import LinearDiscriminantAnalysis\n",
        "\n",
        "lda = LinearDiscriminantAnalysis()\n",
        "cv_scores = cross_val_score(lda, features_final, asd_classes, cv=10)\n",
        "cv_scores.mean()"
      ],
      "execution_count": null,
      "outputs": [
        {
          "output_type": "execute_result",
          "data": {
            "text/plain": [
              "0.9326229508196722"
            ]
          },
          "metadata": {
            "tags": []
          },
          "execution_count": 189
        }
      ]
    },
    {
      "cell_type": "markdown",
      "metadata": {
        "deletable": true,
        "editable": true,
        "id": "GvIN855I-dcn"
      },
      "source": [
        "AUC Score: AUC is the percentage of the ROC plot that is underneath the curve"
      ]
    },
    {
      "cell_type": "code",
      "metadata": {
        "deletable": true,
        "editable": true,
        "colab": {
          "base_uri": "https://localhost:8080/"
        },
        "id": "4q9myAq3-dcn",
        "outputId": "8d262fdd-c319-4e6d-d030-78b50a7c0c5d"
      },
      "source": [
        "# calculate cross-validated AUC\n",
        "from sklearn.model_selection import cross_val_score\n",
        "cv_scores_roc = cross_val_score(lda, features_final, asd_classes, cv=10, scoring='roc_auc').mean()\n",
        "cv_scores_roc.mean()"
      ],
      "execution_count": null,
      "outputs": [
        {
          "output_type": "execute_result",
          "data": {
            "text/plain": [
              "0.9850590623846438"
            ]
          },
          "metadata": {
            "tags": []
          },
          "execution_count": 190
        }
      ]
    },
    {
      "cell_type": "markdown",
      "metadata": {
        "deletable": true,
        "editable": true,
        "id": "zZGBCLz_-dcn"
      },
      "source": [
        "F-beta Score:"
      ]
    },
    {
      "cell_type": "code",
      "metadata": {
        "deletable": true,
        "editable": true,
        "colab": {
          "base_uri": "https://localhost:8080/"
        },
        "id": "IPQfB8Hy-dcn",
        "outputId": "d781bb3a-4586-4201-ff9d-7529f2567aa7"
      },
      "source": [
        "lda.fit(X_train, y_train)\n",
        "from sklearn.metrics import fbeta_score\n",
        "predictions_test = lda.predict(X_test)\n",
        "fbeta_score(y_test, predictions_test, average='binary', beta=0.5)"
      ],
      "execution_count": null,
      "outputs": [
        {
          "output_type": "execute_result",
          "data": {
            "text/plain": [
              "0.9148936170212767"
            ]
          },
          "metadata": {
            "tags": []
          },
          "execution_count": 191
        }
      ]
    },
    {
      "cell_type": "markdown",
      "metadata": {
        "deletable": true,
        "editable": true,
        "id": "imTZDdUG-dcn"
      },
      "source": [
        "---\n",
        "<a id='step5'></a>\n",
        "\n",
        "## Step 5: Model Tuning\n",
        "\n",
        "Now I will fine tune the chosen model. For this I use grid search (GridSearchCV) with at least one important parameter tuned with at least 3 different values. I will need to use the entire training set for this. In the code cell below, I will need to implement the following:\n",
        "\n",
        "- Import [`sklearn.grid_search.GridSearchCV`](http://scikit-learn.org/0.17/modules/generated/sklearn.grid_search.GridSearchCV.html) and [`sklearn.metrics.make_scorer`](http://scikit-learn.org/stable/modules/generated/sklearn.metrics.make_scorer.html).\n",
        "- Initialize the classifier you've chosen and store it in `clf`.\n",
        " - Set a `random_state` if one is available to the same state you set before.\n",
        "- Create a dictionary of parameters you wish to tune for the chosen model.\n",
        " - Example: `parameters = {'parameter' : [list of values]}`.\n",
        " - **Note:** Avoid tuning the `max_features` parameter of your learner if that parameter is available!\n",
        "- Use `make_scorer` to create an `fbeta_score` scoring object (with $\\beta = 0.5$).\n",
        "- Perform grid search on the classifier `clf` using the `'scorer'`, and store it in `grid_obj`.\n",
        "- Fit the grid search object to the training data (`X_train`, `y_train`), and store it in `grid_fit`.\n",
        "\n",
        "\n",
        "\n",
        "Note that, svm.SVC may perform differently with different kernels. The choice of kernel is an example of a \"hyperparamter.\" Here I experiented with different kernels such as 'rbf', 'sigmoid', and 'poly' and found that the best-performing kernel is `linear`."
      ]
    },
    {
      "cell_type": "markdown",
      "metadata": {
        "deletable": true,
        "editable": true,
        "id": "ovIcZ0g6-dcn"
      },
      "source": [
        "In this `GridSearchCV` methos, we came up with the best result when the kernel was selected as `linear`."
      ]
    },
    {
      "cell_type": "markdown",
      "metadata": {
        "deletable": true,
        "editable": true,
        "id": "bmgp5hPo-dcn"
      },
      "source": [
        "---\n",
        "<a id='step6'></a>\n",
        "## Step 6: Feature Importance\n",
        "\n",
        "An important task when performing supervised learning on a dataset like the autistic data we study here is determining which features provide the most predictive power. By focusing on the relationship between only a few crucial features and the target label we simplify our understanding of the phenomenon, which is most always a useful thing to do. In the case of this project, that means we wish to identify a small number of features that most strongly predict whether an individual has ASD or not.\n",
        "\n",
        "Choose a scikit-learn classifier (e.g., gradientBoosting, adaboost, random forests) that has a `feature_importance_` attribute, which is a function that ranks the importance of features according to the chosen classifier. In the next python cell fit this classifier to training set and use this attribute to determine the top 5 most important features for the ASD dataset."
      ]
    },
    {
      "cell_type": "markdown",
      "metadata": {
        "deletable": true,
        "editable": true,
        "id": "5N0jJEFv-dcn"
      },
      "source": [
        "###  Extracting Feature Importance\n",
        "Choose a `scikit-learn` supervised learning algorithm that has a `feature_importance_` attribute availble for it. This attribute is a function that ranks the importance of each feature when making predictions based on the chosen algorithm.\n",
        "\n",
        "In the code cell below, I will implement the following:\n",
        " - Import a supervised learning model from sklearn if it is different from the three used earlier.\n",
        " - Train the supervised model on the entire training set.\n",
        " - Extract the feature importances using `'.feature_importances_'`."
      ]
    },
    {
      "cell_type": "code",
      "metadata": {
        "deletable": true,
        "editable": true,
        "id": "SDtohK7t-dcn",
        "colab": {
          "base_uri": "https://localhost:8080/",
          "height": 282
        },
        "outputId": "2b952240-67d9-4b2d-f934-e2b4cfa92dff"
      },
      "source": [
        "# TODO: Import a supervised learning model that has 'feature_importances_'\n",
        "from sklearn.ensemble import GradientBoostingClassifier\n",
        "\n",
        "\n",
        "# TODO: Train the supervised model on the training set using .fit(X_train, y_train)\n",
        "model = GradientBoostingClassifier(random_state=0)\n",
        "model.fit(X_train, y_train)\n",
        "\n",
        "# TODO: Extract the feature importances using .feature_importances_ \n",
        "importances = model.feature_importances_\n",
        "print(importances)\n",
        "# Plot\n",
        "vs.feature_plot(importances, X_train, y_train)"
      ],
      "execution_count": null,
      "outputs": [
        {
          "output_type": "stream",
          "text": [
            "[0. 1. 0. 0. 0. 0. 0. 0. 0. 0. 0. 0. 0. 0. 0. 0. 0. 0. 0. 0. 0. 0. 0. 0.\n",
            " 0. 0. 0. 0. 0. 0. 0. 0. 0. 0. 0. 0. 0. 0. 0. 0. 0. 0. 0. 0. 0. 0. 0. 0.\n",
            " 0. 0. 0. 0. 0. 0. 0. 0. 0. 0. 0. 0. 0. 0. 0. 0. 0. 0. 0. 0. 0. 0. 0. 0.\n",
            " 0. 0. 0. 0. 0. 0. 0. 0. 0. 0. 0. 0. 0. 0. 0. 0. 0. 0. 0. 0. 0. 0.]\n"
          ],
          "name": "stdout"
        },
        {
          "output_type": "error",
          "ename": "NameError",
          "evalue": "ignored",
          "traceback": [
            "\u001b[0;31m\u001b[0m",
            "\u001b[0;31mNameError\u001b[0mTraceback (most recent call last)",
            "\u001b[0;32m<ipython-input-192-bd186bce21da>\u001b[0m in \u001b[0;36m<module>\u001b[0;34m()\u001b[0m\n\u001b[1;32m     11\u001b[0m \u001b[0;32mprint\u001b[0m\u001b[0;34m(\u001b[0m\u001b[0mimportances\u001b[0m\u001b[0;34m)\u001b[0m\u001b[0;34m\u001b[0m\u001b[0m\n\u001b[1;32m     12\u001b[0m \u001b[0;31m# Plot\u001b[0m\u001b[0;34m\u001b[0m\u001b[0;34m\u001b[0m\u001b[0m\n\u001b[0;32m---> 13\u001b[0;31m \u001b[0mvs\u001b[0m\u001b[0;34m.\u001b[0m\u001b[0mfeature_plot\u001b[0m\u001b[0;34m(\u001b[0m\u001b[0mimportances\u001b[0m\u001b[0;34m,\u001b[0m \u001b[0mX_train\u001b[0m\u001b[0;34m,\u001b[0m \u001b[0my_train\u001b[0m\u001b[0;34m)\u001b[0m\u001b[0;34m\u001b[0m\u001b[0m\n\u001b[0m",
            "\u001b[0;31mNameError\u001b[0m: name 'vs' is not defined"
          ]
        }
      ]
    },
    {
      "cell_type": "code",
      "metadata": {
        "deletable": true,
        "editable": true,
        "id": "plrLAGAK-dcn"
      },
      "source": [
        "# TODO: Import a supervised learning model that has 'feature_importances_'\n",
        "from sklearn.ensemble import AdaBoostClassifier\n",
        "\n",
        "\n",
        "# TODO: Train the supervised model on the training set using .fit(X_train, y_train)\n",
        "model = AdaBoostClassifier(random_state=0)\n",
        "model.fit(X_train, y_train)\n",
        "\n",
        "# TODO: Extract the feature importances using .feature_importances_ \n",
        "importances = model.feature_importances_\n",
        "#print(importances)\n",
        "# Plot\n",
        "vs.feature_plot(importances, X_train, y_train)"
      ],
      "execution_count": null,
      "outputs": []
    },
    {
      "cell_type": "markdown",
      "metadata": {
        "deletable": true,
        "editable": true,
        "id": "aQyfIzJ2-dcn"
      },
      "source": [
        "### Feature Selection\n",
        "We need to ask ourselves how does a model perform if we only use a subset of all the available features in the data? With less features required to train, the expectation is that training and prediction time is much lower — at the cost of performance metrics. From the visualization above, we see that the top five most important features(in order with their weightage factor) contribute more than half of the importance of **all** features present in the data. These 5 features are:\n",
        "- '`result`'\n",
        "- '`relation_self`'\n",
        "- '`country_of_residence`'\n",
        "- '`jundice_no`'\n",
        "- '`jundice_yes`'\n",
        "\n",
        "This hints that we can attempt to *reduce the feature space* and simplify the information required for the model to learn. Although looking at those weight factor it seems like '`result`' feature is clearly dominating its influence on the algorithms over all other features."
      ]
    },
    {
      "cell_type": "markdown",
      "metadata": {
        "deletable": true,
        "editable": true,
        "id": "kUsf55D2-dcn"
      },
      "source": [
        "---\n",
        "<a id='step7'></a>\n",
        "\n",
        "## REMOVE - Step 7: Building a MLP  model architecture\n",
        "In this last part I build a model here using sequential model architecture best known as *Multi Layer Perceptron (MLP)*."
      ]
    },
    {
      "cell_type": "code",
      "metadata": {
        "deletable": true,
        "editable": true,
        "id": "DOFmumpY-dcn"
      },
      "source": [
        "# Imports\n",
        "import numpy as np\n",
        "import keras\n",
        "from keras.models import Sequential\n",
        "from keras.layers import Dense, Dropout, Activation\n",
        "\n",
        "\n",
        "np.random.seed(42)"
      ],
      "execution_count": null,
      "outputs": []
    },
    {
      "cell_type": "code",
      "metadata": {
        "deletable": true,
        "editable": true,
        "id": "GeN9diaA-dcn"
      },
      "source": [
        "# Building the model architecture with one layer of length 4\n",
        "\n",
        "\n",
        "model = Sequential()\n",
        "model.add(Dense(8, activation='relu', input_dim= 94))\n",
        "model.add(Dropout(0.2))\n",
        "model.add(Dense(1, kernel_initializer='normal', activation='sigmoid'))\n",
        "   \n",
        "    \n",
        "model.summary()"
      ],
      "execution_count": null,
      "outputs": []
    },
    {
      "cell_type": "code",
      "metadata": {
        "deletable": true,
        "editable": true,
        "id": "BoVs8i9a-dcn"
      },
      "source": [
        "# Compiling the model using categorical_crossentropy loss, and rmsprop optimizer.\n",
        "model.compile(loss='binary_crossentropy',\n",
        "              optimizer='rmsprop',\n",
        "              metrics=['accuracy'])"
      ],
      "execution_count": null,
      "outputs": []
    },
    {
      "cell_type": "code",
      "metadata": {
        "deletable": true,
        "editable": true,
        "id": "jxY6-Dsj-dcn"
      },
      "source": [
        "# Running and evaluating the model\n",
        "hist = model.fit(X_train, y_train,\n",
        "          batch_size=16,\n",
        "          epochs=100,\n",
        "          validation_data=(X_test, y_test), \n",
        "          verbose=2)"
      ],
      "execution_count": null,
      "outputs": []
    },
    {
      "cell_type": "markdown",
      "metadata": {
        "deletable": true,
        "editable": true,
        "id": "G_VEOdoS-dcn"
      },
      "source": [
        "### Evaluating the model\n",
        "This will give you the accuracy of the model. "
      ]
    },
    {
      "cell_type": "code",
      "metadata": {
        "deletable": true,
        "editable": true,
        "id": "1eHZFsdE-dcn"
      },
      "source": [
        "# Evaluating the model on the training and testing set\n",
        "score = model.evaluate(X_train, y_train)\n",
        "print(\"\\n Training Accuracy:\", score[1])\n",
        "\n",
        "score = model.evaluate(X_test, y_test, verbose=0)\n",
        "print(\"\\n Testing accuracy: \", score[1])"
      ],
      "execution_count": null,
      "outputs": []
    },
    {
      "cell_type": "markdown",
      "metadata": {
        "deletable": true,
        "editable": true,
        "id": "sCeTcFz7-dcn"
      },
      "source": [
        "### Free-Flow Visualization:\n",
        "\n",
        "As with \"Feature Selection\" exploration, we have seen the attribute named 'result' has a such a powerful presence in the ASD dataset, all other attributes have little to no contribution in deciding the final class. In the Figure  below, I have drawn a scatterplot with 'result' as x-axis and ASD-class (say 'yes' is 1 and 'no' is 0) as y-axis, and reconfirmed that underlying association between the given variables."
      ]
    },
    {
      "cell_type": "code",
      "metadata": {
        "deletable": true,
        "editable": true,
        "id": "UfPWOMXA-dcn"
      },
      "source": [
        "asd_data['Class/ASD'] = asd_raw.apply(lambda x: 1 if x == 'YES' else 0)\n",
        "#asd_data['result'] = asd_data['result'].apply(lambda x: (np.log(x + 1)))\n",
        "\n",
        "\n",
        "\n",
        "asd_data = pd.DataFrame(data = asd_data)\n",
        "asd_data['result'] = scaler.fit_transform(asd_data['result'])"
      ],
      "execution_count": null,
      "outputs": []
    },
    {
      "cell_type": "code",
      "metadata": {
        "deletable": true,
        "editable": true,
        "id": "30v8p0Ts-dco"
      },
      "source": [
        "#ax = sns.regplot(x= 'result', y='Class/ASD', data = asd_data, fit_reg=False)"
      ],
      "execution_count": null,
      "outputs": []
    },
    {
      "cell_type": "code",
      "metadata": {
        "deletable": true,
        "editable": true,
        "id": "x_HFNPxX-dco"
      },
      "source": [
        "sns.stripplot(x=\"result\", y=\"Class/ASD\", data = asd_data, jitter=True);\n"
      ],
      "execution_count": null,
      "outputs": []
    },
    {
      "cell_type": "code",
      "metadata": {
        "deletable": true,
        "editable": true,
        "id": "6Cz4UKXO-dco"
      },
      "source": [
        "#sns.swarmplot(x=\"result\", y=\"Class/ASD\", data=asd_data, palette={'YES': \"r\", 'NO': \"b\"});"
      ],
      "execution_count": null,
      "outputs": []
    },
    {
      "cell_type": "markdown",
      "metadata": {
        "deletable": true,
        "editable": true,
        "id": "gzpuWHbU-dco"
      },
      "source": [
        "---\n",
        "<a id='step8'></a>\n",
        "\n",
        "## Step 8: Conclusion\n",
        "\n",
        "\n",
        "After exploring my `ASD` dataset with different kind of learning algorithms, I have arrived into this conclusion that all of my model work extremely well with the data. I have used three different `metric` (such as `accuracy`, `AUC score` and `F-score`) to measure the performance of my models, and it seems like all of the `metric` indicated an almost perfect classification of the ASD cases. Here I think the reason of this high performances with different models is the fact that only one of the feature is predominant over all others which I confirmed with the [`Feature Importance`](#step6) section in this notebook. \n",
        "\n",
        "I think to build a more accurate model, we need to have access to more larger datasets. Here the number of instances after cleaning the data were not so sufficient enough so that I can claim that this model is optimum. As this dataset is only publicly available from Decemeber 2017, I think not many works that deal with this dataset is available online. In that consideration, my models can serve as benchmark models for any machine learning researcher/practitioner who will be interested to explore this dataset further. With this fact in mind, I think this are very well developed model that can detect ASD in indivisuals with certain given attributes."
      ]
    },
    {
      "cell_type": "markdown",
      "metadata": {
        "deletable": true,
        "editable": true,
        "id": "K1t-y3y7-dco"
      },
      "source": [
        "# Rebuilding the model without the `'result'` variable."
      ]
    },
    {
      "cell_type": "code",
      "metadata": {
        "deletable": true,
        "editable": true,
        "id": "CxOcvU3d-dco"
      },
      "source": [
        "# Split the data into features and target label\n",
        "asd_raw = asd_data['Class/ASD']\n",
        "features_raw = asd_data[['age', 'gender', 'ethnicity', 'jundice', 'austim', 'contry_of_res', \n",
        "                      'relation','A1_Score','A2_Score','A3_Score','A4_Score','A5_Score','A6_Score','A7_Score','A8_Score',\n",
        "                      'A9_Score','A10_Score']]\n",
        "\n",
        "\n",
        "from sklearn.preprocessing import MinMaxScaler\n",
        "\n",
        "scaler = MinMaxScaler()\n",
        "numerical = ['age']\n",
        "\n",
        "features_minmax_transform = pd.DataFrame(data = features_raw)\n",
        "features_minmax_transform[numerical] = scaler.fit_transform(features_raw[numerical])\n",
        "features_minmax_transform\n",
        "# Show an example of a record with scaling applied\n",
        "display(features_minmax_transform.head(n = 5))"
      ],
      "execution_count": null,
      "outputs": []
    },
    {
      "cell_type": "code",
      "metadata": {
        "deletable": true,
        "editable": true,
        "id": "_3yzUgk1-dco"
      },
      "source": [
        "#One-hot encode the 'features_minmax_transform' data using pandas.get_dummies()\n",
        "features_final = pd.get_dummies(features_minmax_transform)\n",
        "display(features_final.head(5))\n",
        "\n",
        "\n",
        "# Encode the 'all_classes_raw' data to numerical values\n",
        "asd_classes = asd_raw.apply(lambda x: 1 if x == 'YES' else 0)\n",
        "\n",
        "\n",
        "\n",
        "# Print the number of features after one-hot encoding\n",
        "encoded = list(features_final.columns)\n",
        "print \"{} total features after one-hot encoding.\".format(len(encoded))\n",
        "\n",
        "# Uncomment the following line to see the encoded feature names\n",
        "print encoded"
      ],
      "execution_count": null,
      "outputs": []
    },
    {
      "cell_type": "code",
      "metadata": {
        "deletable": true,
        "editable": true,
        "id": "KUO7TtyN-dco"
      },
      "source": [
        "from sklearn.model_selection import train_test_split\n",
        "\n",
        "np.random.seed(1234)\n",
        "\n",
        "X_train, X_test, y_train, y_test = train_test_split(features_final, asd_classes, train_size=0.80, random_state=1)\n",
        "\n",
        "\n",
        "# Show the results of the split\n",
        "print \"Training set has {} samples.\".format(X_train.shape[0])\n",
        "print \"Testing set has {} samples.\".format(X_test.shape[0])"
      ],
      "execution_count": null,
      "outputs": []
    },
    {
      "cell_type": "code",
      "metadata": {
        "deletable": true,
        "editable": true,
        "id": "HTNYwguS-dco"
      },
      "source": [
        "### (1) Decision Trees\n",
        "\n",
        "from sklearn import tree\n",
        "from sklearn.tree import DecisionTreeClassifier\n",
        "\n",
        "dectree = DecisionTreeClassifier(random_state=1)\n",
        "\n",
        "# Train the classifier on the training set\n",
        "dectree.fit(X_train, y_train)"
      ],
      "execution_count": null,
      "outputs": []
    },
    {
      "cell_type": "code",
      "metadata": {
        "deletable": true,
        "editable": true,
        "id": "eek8LLl--dco"
      },
      "source": [
        "import pydotplus \n",
        "\n",
        "\n",
        "dot_data = tree.export_graphviz(dectree,\n",
        "                                out_file=None,\n",
        "                                filled=True,\n",
        "                                rounded=True,\n",
        "                                special_characters=True)  \n",
        "graph = pydotplus.graph_from_dot_data(dot_data)  \n",
        "\n",
        "from IPython.display import Image \n",
        "Image(graph.create_png()) "
      ],
      "execution_count": null,
      "outputs": []
    },
    {
      "cell_type": "code",
      "metadata": {
        "deletable": true,
        "editable": true,
        "id": "z8EakTbN-dco"
      },
      "source": [
        "from sklearn.model_selection import cross_val_score\n",
        "\n",
        "dectree = DecisionTreeClassifier(random_state=1)\n",
        "\n",
        "cv_scores = cross_val_score(dectree, features_final, asd_classes, cv=10)\n",
        "\n",
        "cv_scores.mean()"
      ],
      "execution_count": null,
      "outputs": []
    },
    {
      "cell_type": "code",
      "metadata": {
        "deletable": true,
        "editable": true,
        "id": "SlDLrWu5-dco"
      },
      "source": [
        "from sklearn.ensemble import RandomForestClassifier\n",
        "\n",
        "ranfor = RandomForestClassifier(n_estimators=5, random_state=1)\n",
        "cv_scores = cross_val_score(ranfor, features_final, asd_classes, cv=10)\n",
        "\n",
        "cv_scores.mean()"
      ],
      "execution_count": null,
      "outputs": []
    },
    {
      "cell_type": "code",
      "metadata": {
        "deletable": true,
        "editable": true,
        "id": "v2ZbJTbm-dco"
      },
      "source": [
        "from sklearn import neighbors\n",
        "\n",
        "knn = neighbors.KNeighborsClassifier(n_neighbors=10)\n",
        "cv_scores = cross_val_score(knn, features_final, asd_classes, cv=10)\n",
        "\n",
        "cv_scores.mean()"
      ],
      "execution_count": null,
      "outputs": []
    },
    {
      "cell_type": "code",
      "metadata": {
        "deletable": true,
        "editable": true,
        "id": "Zxxwetdy-dcp"
      },
      "source": [
        "# TODO: Import a supervised learning model that has 'feature_importances_'\n",
        "from sklearn.ensemble import AdaBoostClassifier\n",
        "\n",
        "\n",
        "# TODO: Train the supervised model on the training set using .fit(X_train, y_train)\n",
        "model = AdaBoostClassifier(random_state=0)\n",
        "model.fit(X_train, y_train)\n",
        "\n",
        "# TODO: Extract the feature importances using .feature_importances_ \n",
        "importances = model.feature_importances_\n",
        "\n",
        "# Plot\n",
        "#vs.feature_plot(importances, X_train, y_train)"
      ],
      "execution_count": null,
      "outputs": []
    },
    {
      "cell_type": "code",
      "metadata": {
        "deletable": true,
        "editable": true,
        "id": "vrHRaTG5-dcp"
      },
      "source": [
        ""
      ],
      "execution_count": null,
      "outputs": []
    }
  ]
}